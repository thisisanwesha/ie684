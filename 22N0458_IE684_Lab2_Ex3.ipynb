{
  "nbformat": 4,
  "nbformat_minor": 0,
  "metadata": {
    "colab": {
      "provenance": []
    },
    "kernelspec": {
      "name": "python3",
      "display_name": "Python 3"
    }
  },
  "cells": [
    {
      "cell_type": "code",
      "metadata": {
        "id": "KJq7tIgIRroP"
      },
      "source": [
        "# Import the packages\n",
        "import numpy as np \n",
        "import matplotlib.pyplot as plt\n",
        "import pandas as pd"
      ],
      "execution_count": null,
      "outputs": []
    },
    {
      "cell_type": "code",
      "metadata": {
        "id": "GZjX2IwOR8_X"
      },
      "source": [
        "# Define function which will compute and return the function value \n",
        "def evalf(x):  \n",
        "  assert type(x) is np.ndarray and len(x) == 2\n",
        "  return (512*(x[1]-x[0]**2)**2 + (4-x[0])**2)"
      ],
      "execution_count": null,
      "outputs": []
    },
    {
      "cell_type": "code",
      "metadata": {
        "id": "6klpwtDra_I8"
      },
      "source": [
        "# Define the function which will compute and return the gradient value as an array \n",
        "def evalg(x):  \n",
        "  assert type(x) is np.ndarray and len(x) == 2 \n",
        "  return np.array([2048*x[0]*(x[0]**2-x[1])+2*(x[0]-4), 1024*(x[1]-x[0]**2)])"
      ],
      "execution_count": null,
      "outputs": []
    },
    {
      "cell_type": "code",
      "metadata": {
        "id": "PGunDYy6Q21S"
      },
      "source": [
        "# Compute the steplength by using the backtracking line search\n",
        "\n",
        "def compute_steplength_backtracking(x, gradf, alpha_start, rho, gamma): #add appropriate arguments to the function \n",
        "  assert type(x) is np.ndarray and len(x) == 2 \n",
        "  assert type(gradf) is np.ndarray and len(gradf) == 2\n",
        "  \n",
        "  alpha = alpha_start\n",
        "  pk = -gradf\n",
        "  while evalf(np.add(x, alpha*pk)) > np.add(evalf(x), gamma*alpha*np.dot(gradf.T,pk)):\n",
        "      alpha = rho*alpha\n",
        "\n",
        "  return alpha"
      ],
      "execution_count": null,
      "outputs": []
    },
    {
      "cell_type": "code",
      "metadata": {
        "id": "WaUUdzLtVSCl"
      },
      "source": [
        "# Define the types of line search methods that we have implemented\n",
        "EXACT_LINE_SEARCH = 1\n",
        "BACKTRACKING_LINE_SEARCH = 2\n",
        "CONSTANT_STEP_LENGTH = 3"
      ],
      "execution_count": null,
      "outputs": []
    },
    {
      "cell_type": "code",
      "metadata": {
        "id": "3SCJdqivdpxx"
      },
      "source": [
        "def find_minimizer(start_x, tol, line_search_type, *args):\n",
        "  #Input: start_x is a numpy array of size 2, tol denotes the tolerance and is a positive float value\n",
        "  assert type(start_x) is np.ndarray and len(start_x) == 2    #do not allow arbitrary arguments \n",
        "  assert type(tol) is float and tol>=0 \n",
        " \n",
        "  x = start_x\n",
        "  g_x = evalg(x)\n",
        "\n",
        "  #initialization for backtracking line search\n",
        "  if(line_search_type == BACKTRACKING_LINE_SEARCH):\n",
        "    alpha_start = args[0]\n",
        "    rho = args[1]\n",
        "    gamma = args[2]\n",
        "    # print('Params for Backtracking LS: alpha start:', alpha_start, 'rho:', rho,' gamma:', gamma)\n",
        "\n",
        "  k = 0\n",
        "\n",
        "  while (np.linalg.norm(g_x) > tol): #continue as long as the norm of gradient is not close to zero upto a tolerance tol\n",
        "  \n",
        "    if line_search_type == EXACT_LINE_SEARCH:\n",
        "      step_length = compute_steplength_exact(x, g_x, A, b) #call the new function you wrote to compute the steplength\n",
        "    elif line_search_type == BACKTRACKING_LINE_SEARCH:\n",
        "      step_length = compute_steplength_backtracking(x,g_x, alpha_start,rho, gamma) #call the new function you wrote to compute the steplength\n",
        "    elif line_search_type == CONSTANT_STEP_LENGTH: #do a gradient descent with constant step length\n",
        "      step_length = 0.1\n",
        "    else:  \n",
        "      raise ValueError('Line search type unknown. Please check!')\n",
        "    \n",
        "    #implement the gradient descent steps here   \n",
        "    x = np.subtract(x, np.multiply(step_length,g_x)) #update x = x - step_length*g_x\n",
        "    k += 1 #increment iteration\n",
        "    g_x = evalg(x) #compute gradient at new point\n",
        "\n",
        "    # print('iter:',k, ' x:', x, ' f(x):', evalf(x), ' grad at x:', g_x, ' gradient norm:', np.linalg.norm(g_x))\n",
        "  return x, k, evalf(x) \n"
      ],
      "execution_count": null,
      "outputs": []
    },
    {
      "cell_type": "markdown",
      "source": [
        "Code for answer 5"
      ],
      "metadata": {
        "id": "D4JRX7aecebP"
      }
    },
    {
      "cell_type": "code",
      "metadata": {
        "id": "n-kHCkbwe-M4",
        "colab": {
          "base_uri": "https://localhost:8080/"
        },
        "outputId": "572c81db-6901-4ea9-be84-a703446bac99"
      },
      "source": [
        "# Input arguments\n",
        "my_start_x = np.array([3.9999,15.9999])\n",
        "my_tol= 1e-6\n",
        "\n",
        "alpha = [1,0.9,0.75,0.6,0.5,0.4,0.25,0.1,0.01]\n",
        "\n",
        "x_opt_alpha = [0 for _ in range(9)]\n",
        "iter_alpha  = [0 for _ in range(9)]\n",
        "f_opt_alpha = [0 for _ in range(9)]\n",
        "print(\"Alpha \\t Minimizer \\t Minimum function value \\t No of iterations\")\n",
        "\n",
        "for i in range(9):\n",
        "    x_opt_alpha[i] , iter_alpha[i] , f_opt_alpha[i] = find_minimizer(my_start_x, my_tol, BACKTRACKING_LINE_SEARCH, alpha[i], 0.5, 0.5)\n",
        "    print(alpha[i],\"\\t\", x_opt_alpha[i], \"\\t\", f_opt_alpha[i], \"\\t\", iter_alpha[i])"
      ],
      "execution_count": null,
      "outputs": [
        {
          "output_type": "stream",
          "name": "stdout",
          "text": [
            "Alpha \t Minimizer \t Minimum function value \t No of iterations\n",
            "1 \t [ 3.99999598 15.99996782] \t 1.617781791676639e-11 \t 69793\n",
            "0.9 \t [ 3.99999599 15.99996791] \t 1.609218904886577e-11 \t 200736\n",
            "0.75 \t [ 3.99999617 15.99996938] \t 1.4648281561171663e-11 \t 1126772\n",
            "0.6 \t [ 3.99999604 15.9999683 ] \t 1.570352990885336e-11 \t 563211\n",
            "0.5 \t [ 3.99999598 15.99996782] \t 1.617781791676639e-11 \t 69793\n",
            "0.4 \t [ 3.99999608 15.99996865] \t 1.5354911664979166e-11 \t 808868\n",
            "0.25 \t [ 3.99999598 15.99996782] \t 1.617781791676639e-11 \t 69793\n",
            "0.1 \t [ 3.99999608 15.99996865] \t 1.5354911664979166e-11 \t 808868\n",
            "0.01 \t [ 3.99999608 15.99996862] \t 1.5381393080588523e-11 \t 766907\n"
          ]
        }
      ]
    },
    {
      "cell_type": "code",
      "source": [
        "#we will plot the function values and check the behavior\n",
        "import matplotlib.pyplot as plt #package useful for plotting\n",
        "plt.plot(alpha, iter_alpha)\n",
        "plt.ylabel('No of iterations')\n",
        "plt.xlabel('Alpha values')\n",
        "plt.show()"
      ],
      "metadata": {
        "colab": {
          "base_uri": "https://localhost:8080/",
          "height": 290
        },
        "id": "Zw6n_8CwX2ip",
        "outputId": "888e83af-1b0b-4ea7-8920-c1e237743a9e"
      },
      "execution_count": null,
      "outputs": [
        {
          "output_type": "display_data",
          "data": {
            "text/plain": [
              "<Figure size 432x288 with 1 Axes>"
            ],
            "image/png": "[encoded data removed]"
          },
          "metadata": {}
        }
      ]
    },
    {
      "cell_type": "markdown",
      "source": [
        "Code for answer 6"
      ],
      "metadata": {
        "id": "2dKZTAyLca-p"
      }
    },
    {
      "cell_type": "code",
      "metadata": {
        "id": "H8-oglFCUVe-",
        "colab": {
          "base_uri": "https://localhost:8080/"
        },
        "outputId": "acd0510c-0676-462d-f3a6-9420c3480d8c"
      },
      "source": [
        "# Input arguments\n",
        "my_start_x = np.array([3.9999,15.9999])\n",
        "my_tol= 1e-6\n",
        "\n",
        "rho = [0.9, 0.75, 0.6, 0.5, 0.4, 0.25, 0.1, 0.01]\n",
        "\n",
        "x_opt_rho = [0 for _ in range(8)]\n",
        "iter_rho  = [0 for _ in range(8)]\n",
        "f_opt_rho = [0 for _ in range(8)]\n",
        "print(\"Rho \\t Minimizer \\t Minimum function value \\t No of iterations\")\n",
        "\n",
        "for i in range(8):\n",
        "    x_opt_rho[i] , iter_rho[i] , f_opt_rho[i] = find_minimizer(my_start_x, my_tol, BACKTRACKING_LINE_SEARCH, 1, rho[i], 0.5)\n",
        "    print(rho[i],\"\\t\", x_opt_rho[i], \"\\t\", f_opt_rho[i], \"\\t\", iter_rho[i])"
      ],
      "execution_count": null,
      "outputs": [
        {
          "output_type": "stream",
          "name": "stdout",
          "text": [
            "Rho \t Minimizer \t Minimum function value \t No of iterations\n",
            "0.9 \t [ 3.99999599 15.99996795] \t 1.6047934611077876e-11 \t 210606\n",
            "0.75 \t [ 3.99999609 15.9999687 ] \t 1.530556601286887e-11 \t 486527\n",
            "0.6 \t [ 3.99999604 15.99996832] \t 1.5678781211646178e-11 \t 530687\n",
            "0.5 \t [ 3.99999598 15.99996782] \t 1.617781791676639e-11 \t 69793\n",
            "0.4 \t [ 3.99999603 15.99996822] \t 1.5777209281009614e-11 \t 443946\n",
            "0.25 \t [ 3.99999598 15.99996785] \t 1.61466538344678e-11 \t 76999\n",
            "0.1 \t [ 3.99999601 15.99996808] \t 1.5923710536673803e-11 \t 901343\n",
            "0.01 \t [ 3.99999625 15.99996999] \t 1.4073454044687032e-11 \t 8869799\n"
          ]
        }
      ]
    },
    {
      "cell_type": "code",
      "source": [
        "#we will plot the function values and check the behavior\n",
        "import matplotlib.pyplot as plt #package useful for plotting\n",
        "plt.plot(rho, iter_rho)\n",
        "plt.ylabel('No of iterations')\n",
        "plt.xlabel('Rho values')\n",
        "plt.show()"
      ],
      "metadata": {
        "colab": {
          "base_uri": "https://localhost:8080/",
          "height": 290
        },
        "id": "RPdRbyv-ZyRV",
        "outputId": "3f35bed0-27b2-4fdf-dad6-b9f59a7b5d05"
      },
      "execution_count": null,
      "outputs": [
        {
          "output_type": "display_data",
          "data": {
            "text/plain": [
              "<Figure size 432x288 with 1 Axes>"
            ],
            "image/png": "[encoded data removed]"
          },
          "metadata": {}
        }
      ]
    },
    {
      "cell_type": "markdown",
      "source": [
        "Answer 1) Minimizer = [4, 16] and minimum function value = 0."
      ],
      "metadata": {
        "id": "r8Al3G2qcW5M"
      }
    },
    {
      "cell_type": "markdown",
      "source": [
        "Answer 2) No, we cannot use exact line search idea to find a closed form expression for optimal value of $\\eta$ because $q(\\textbf{x}+\\eta\\textbf{p})$ is a vector, and the gradient of this expression when equated to zero i.e. $\\frac{d q(\\textbf{x}+\\eta\\textbf{p})}{d\\alpha} = 0$ would yield terms of $\\eta$ having powers ranging from 0 to 3. Hence, we cannot find an explicit form for $\\eta$ which can be manipulated to find the final answer. Another way to say this is that we will not get any solution of the form $g(\\textbf{x}) = \\eta h(\\textbf{x})$ for some $g$ and $h$, and hence cannot find a closed form expression for $\\eta$."
      ],
      "metadata": {
        "id": "H9Rwmq1NdDiv"
      }
    },
    {
      "cell_type": "markdown",
      "source": [
        "Answer 5) We can observe a sort of zig zag pattern and the no of iterations varies randomly with change in alpha values. Minimizer remains almost same and close to [4, 16]. Minimum functional value is close to zero in all cases. \n",
        "\n",
        "\n",
        "Alpha \t Minimizer \t Minimum function value \t No of iterations\n",
        "\n",
        "1 \t [ 3.99999598 15.99996782] \t 1.617781791676639e-11 \t 69793\n",
        "\n",
        "0.9 \t [ 3.99999599 15.99996791] \t 1.609218904886577e-11 \t 200736\n",
        "\n",
        "0.75 \t [ 3.99999617 15.99996938] \t 1.4648281561171663e-11 \t 1126772\n",
        "\n",
        "0.6 \t [ 3.99999604 15.9999683 ] \t 1.570352990885336e-11 \t 563211\n",
        "\n",
        "0.5 \t [ 3.99999598 15.99996782] \t 1.617781791676639e-11 \t 69793\n",
        "\n",
        "0.4 \t [ 3.99999608 15.99996865] \t 1.5354911664979166e-11 \t 808868\n",
        "\n",
        "0.25 \t [ 3.99999598 15.99996782] \t 1.617781791676639e-11 \t 69793\n",
        "\n",
        "0.1 \t [ 3.99999608 15.99996865] \t 1.5354911664979166e-11 \t 808868\n",
        "\n",
        "0.01 \t [ 3.99999608 15.99996862] \t 1.5381393080588523e-11 \t 766907"
      ],
      "metadata": {
        "id": "XxHdx5YYdG67"
      }
    },
    {
      "cell_type": "markdown",
      "source": [
        "Answer 6) We can observe a steep decrease then slight zig zag pattern and the no of iterations varies randomly with increase in rho values. Minimizer remains almost same and close to [4, 16]. Minimum functional value is close to zero in all cases. \n",
        "\n",
        "\n",
        "Rho \t Minimizer \t Minimum function value \t No of iterations\n",
        "\n",
        "0.9 \t [ 3.99999599 15.99996795] \t 1.6047934611077876e-11 \t 210606\n",
        "\n",
        "0.75 \t [ 3.99999609 15.9999687 ] \t 1.530556601286887e-11 \t 486527\n",
        "\n",
        "0.6 \t [ 3.99999604 15.99996832] \t 1.5678781211646178e-11 \t 530687\n",
        "\n",
        "0.5 \t [ 3.99999598 15.99996782] \t 1.617781791676639e-11 \t 69793\n",
        "\n",
        "0.4 \t [ 3.99999603 15.99996822] \t 1.5777209281009614e-11 \t 443946\n",
        "\n",
        "0.25 \t [ 3.99999598 15.99996785] \t 1.61466538344678e-11 \t 76999\n",
        "\n",
        "0.1 \t [ 3.99999601 15.99996808] \t 1.5923710536673803e-11 \t 901343\n",
        "\n",
        "0.01 \t [ 3.99999625 15.99996999] \t 1.4073454044687032e-11 \t 8869799"
      ],
      "metadata": {
        "id": "CJXpL2PVdLlW"
      }
    },
    {
      "cell_type": "markdown",
      "source": [
        "I had taken starting point to be [100,100] and tolerance value to be 10^(-10) but it was taking a long time so I set [3.9999, 15.9999] to be the starting point. It was still taking a long time so I checked with tolerance values 10^(-9), 10^(-7) and 10^(-5) and found out that the graphs were almost similar ( checked for 10^(-5) ) and the minimizer was close to [4,16] and minimum function value was close to 0 in all cases."
      ],
      "metadata": {
        "id": "VUQVb5uu8j5F"
      }
    },
    {
      "cell_type": "markdown",
      "source": [
        "For tolerance level =10^(-5)"
      ],
      "metadata": {
        "id": "8x3RYvGC_vLc"
      }
    },
    {
      "cell_type": "markdown",
      "source": [
        "Code for answer 5"
      ],
      "metadata": {
        "id": "zdoDs5e1AEG5"
      }
    },
    {
      "cell_type": "code",
      "source": [
        "# Input arguments\n",
        "my_start_x = np.array([3.9999,15.9999])\n",
        "my_tol= 1e-5\n",
        "\n",
        "alpha = [1,0.9,0.75,0.6,0.5,0.4,0.25,0.1,0.01]\n",
        "\n",
        "x_opt_alpha = [0 for _ in range(9)]\n",
        "iter_alpha  = [0 for _ in range(9)]\n",
        "f_opt_alpha = [0 for _ in range(9)]\n",
        "print(\"Alpha \\t Minimizer \\t Minimum function value \\t No of iterations\")\n",
        "\n",
        "for i in range(9):\n",
        "    x_opt_alpha[i] , iter_alpha[i] , f_opt_alpha[i] = find_minimizer(my_start_x, my_tol, BACKTRACKING_LINE_SEARCH, alpha[i], 0.5, 0.5)\n",
        "    print(alpha[i],\"\\t\", x_opt_alpha[i], \"\\t\", f_opt_alpha[i], \"\\t\", iter_alpha[i])"
      ],
      "metadata": {
        "colab": {
          "base_uri": "https://localhost:8080/"
        },
        "id": "QOVuq6_y_z4V",
        "outputId": "7d9fec79-cd8c-4912-cc2c-dd83327be54b"
      },
      "execution_count": 29,
      "outputs": [
        {
          "output_type": "stream",
          "name": "stdout",
          "text": [
            "Alpha \t Minimizer \t Minimum function value \t No of iterations\n",
            "1 \t [ 3.99998615 15.99988923] \t 1.917087121363959e-10 \t 19\n",
            "0.9 \t [ 3.99998615 15.99988923] \t 1.9170977847832145e-10 \t 6\n",
            "0.75 \t [ 3.99998615 15.99988923] \t 1.917093575244371e-10 \t 10\n",
            "0.6 \t [ 3.99998615 15.99988923] \t 1.917090722049273e-10 \t 15\n",
            "0.5 \t [ 3.99998615 15.99988923] \t 1.917087121363959e-10 \t 19\n",
            "0.4 \t [ 3.99998615 15.99988923] \t 1.9171008034567841e-10 \t 8\n",
            "0.25 \t [ 3.99998615 15.99988923] \t 1.917087121363959e-10 \t 19\n",
            "0.1 \t [ 3.99998615 15.99988923] \t 1.9171008034567841e-10 \t 8\n",
            "0.01 \t [ 3.99998615 15.99988923] \t 1.9170942047199322e-10 \t 13\n"
          ]
        }
      ]
    },
    {
      "cell_type": "code",
      "source": [
        "#we will plot the function values and check the behavior\n",
        "import matplotlib.pyplot as plt #package useful for plotting\n",
        "plt.plot(alpha, iter_alpha)\n",
        "plt.ylabel('No of iterations')\n",
        "plt.xlabel('Alpha values')\n",
        "plt.show()"
      ],
      "metadata": {
        "colab": {
          "base_uri": "https://localhost:8080/",
          "height": 279
        },
        "id": "Aq8Lls4i_2cY",
        "outputId": "af917b43-3a5c-4785-f5d3-1233c671e115"
      },
      "execution_count": 30,
      "outputs": [
        {
          "output_type": "display_data",
          "data": {
            "text/plain": [
              "<Figure size 432x288 with 1 Axes>"
            ],
            "image/png": "[encoded data removed]"
          },
          "metadata": {}
        }
      ]
    },
    {
      "cell_type": "markdown",
      "source": [
        "Code for answer 6"
      ],
      "metadata": {
        "id": "hlvFvYp-AAxC"
      }
    },
    {
      "cell_type": "code",
      "source": [
        "# Input arguments\n",
        "my_start_x = np.array([3.9999,15.9999])\n",
        "my_tol= 1e-5\n",
        "\n",
        "rho = [0.9, 0.75, 0.6, 0.5, 0.4, 0.25, 0.1, 0.01]\n",
        "\n",
        "x_opt_rho = [0 for _ in range(8)]\n",
        "iter_rho  = [0 for _ in range(8)]\n",
        "f_opt_rho = [0 for _ in range(8)]\n",
        "print(\"Rho \\t Minimizer \\t Minimum function value \\t No of iterations\")\n",
        "\n",
        "for i in range(8):\n",
        "    x_opt_rho[i] , iter_rho[i] , f_opt_rho[i] = find_minimizer(my_start_x, my_tol, BACKTRACKING_LINE_SEARCH, 1, rho[i], 0.5)\n",
        "    print(rho[i],\"\\t\", x_opt_rho[i], \"\\t\", f_opt_rho[i], \"\\t\", iter_rho[i])"
      ],
      "metadata": {
        "colab": {
          "base_uri": "https://localhost:8080/"
        },
        "id": "ls-MTOBt_4rl",
        "outputId": "f3be425c-e348-484f-8fb2-14c0aa99d4c1"
      },
      "execution_count": 31,
      "outputs": [
        {
          "output_type": "stream",
          "name": "stdout",
          "text": [
            "Rho \t Minimizer \t Minimum function value \t No of iterations\n",
            "0.9 \t [ 3.99998615 15.99988923] \t 1.9171005788171325e-10 \t 5\n",
            "0.75 \t [ 3.99998615 15.99988923] \t 1.9171034395649766e-10 \t 6\n",
            "0.6 \t [ 3.99998615 15.99988923] \t 1.917096488380682e-10 \t 7\n",
            "0.5 \t [ 3.99998615 15.99988923] \t 1.917087121363959e-10 \t 19\n",
            "0.4 \t [ 3.99998615 15.99988923] \t 1.9170904685336624e-10 \t 23\n",
            "0.25 \t [ 3.99998615 15.99988923] \t 1.9170836585509944e-10 \t 43\n",
            "0.1 \t [ 3.99998615 15.99988923] \t 1.9170914789434115e-10 \t 13\n",
            "0.01 \t [ 3.99998615 15.99988923] \t 1.9170872269749924e-10 \t 194\n"
          ]
        }
      ]
    },
    {
      "cell_type": "code",
      "source": [
        "#we will plot the function values and check the behavior\n",
        "import matplotlib.pyplot as plt #package useful for plotting\n",
        "plt.plot(rho, iter_rho)\n",
        "plt.ylabel('No of iterations')\n",
        "plt.xlabel('Rho values')\n",
        "plt.show()"
      ],
      "metadata": {
        "colab": {
          "base_uri": "https://localhost:8080/",
          "height": 280
        },
        "id": "4jvz3VM3_7D3",
        "outputId": "b4a4f6c2-9bdd-4cc8-9a92-6d801fe37950"
      },
      "execution_count": 32,
      "outputs": [
        {
          "output_type": "display_data",
          "data": {
            "text/plain": [
              "<Figure size 432x288 with 1 Axes>"
            ],
            "image/png": "[encoded data removed]"
          },
          "metadata": {}
        }
      ]
    }
  ]
}