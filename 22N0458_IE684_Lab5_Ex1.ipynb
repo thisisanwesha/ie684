{
  "nbformat": 4,
  "nbformat_minor": 0,
  "metadata": {
    "colab": {
      "provenance": []
    },
    "kernelspec": {
      "name": "python3",
      "display_name": "Python 3"
    }
  },
  "cells": [
    {
      "cell_type": "markdown",
      "metadata": {
        "id": "nVE0Xoa0Q5wE"
      },
      "source": [
        "$\\Large\\textbf{Lab 5.} \\large\\textbf{Exercise 1.}$\n",
        "\n"
      ]
    },
    {
      "cell_type": "markdown",
      "metadata": {
        "id": "YVkab74DJsRL"
      },
      "source": [
        "Recall that to solve problems of the form $\\min_{\\mathbf{x} \\in {\\mathbb{R}}^n} f(\\mathbf{x})$, the update rule involved in Newton's method is of the form: \n",
        "\\begin{align}\n",
        "\\mathbf{x}^{k+1} = \\mathbf{x}^{k} - \\eta^k (\\nabla^2 f(\\mathbf{x}^{k}))^{-1} \\nabla f(\\mathbf{x}^{k}).   \n",
        "\\end{align}\n",
        "\n",
        "Now we will discuss a method which avoids explicit computation of the inverse of Hessian matrix at each iteration, but is nearly efficient as the Newton's method. This method will be called BFGS named after the famous applied Mathematicians Broyden, Fletcher, Goldfarb and Shanno. \n",
        "\n",
        "The main idea of BFGS method is to replace the inverse of Hessian matrix $(\\nabla^2 f(\\mathbf{x}^{k}))^{-1}$ in the update rule of Newton's method with a surrogate term $B^k$. \n",
        "\n",
        "Therefore the update rule of BFGS looks as follows:\n",
        "\\begin{align}\n",
        "\\mathbf{x}^{k+1} = \\mathbf{x}^{k} - \\eta^k B^k \\nabla f(\\mathbf{x}^{k})   \n",
        "\\end{align}\n",
        "where $B^k$ is a surrogate for the inverse of Hessian matrix. \n",
        "\n",
        "To find a suitable candidate for $B^k$, we need to consider some favorable characteristics expected from $B^k$: \n",
        "\n",
        "\\begin{align}\n",
        "&B^k \\text{ is symmetric positive definite}.  \\\\\n",
        "&B^k \\text{ does not involve computing Hessian or its inverse and should be computable only from the gradients}.  \\\\\n",
        "&\\text{Replacing  } (\\nabla^2 f(\\mathbf{x}^{k}))^{-1} \\text{ with } B^k \\text{ should not slow down the algorithm too much}. \\\\ \n",
        "\\end{align}\n",
        "\n",
        "\n"
      ]
    },
    {
      "cell_type": "markdown",
      "metadata": {
        "id": "6L9tVzAnqyb-"
      },
      "source": [
        "To design a suitable $B^k$ we shall consider the quadratic approximation of $f$:\n",
        "\n",
        "\\begin{align}\n",
        "\\tilde{f}(\\mathbf{x}) = f(\\mathbf{x}^{k+1}) + \\left \\langle \\nabla f(\\mathbf{x}^{k+1}), \\mathbf{x}-\\mathbf{x}^{k+1}\\right \\rangle  + \\frac{1}{2} (\\mathbf{x}-\\mathbf{x}^{k+1})^\\top H^{k+1} (\\mathbf{x}-\\mathbf{x}^{k+1}). \n",
        "\\end{align}\n",
        "where $H^{k+1} = \\nabla^2 f({\\mathbf{x}}^{k+1})$.\n",
        "\n",
        "Note that using this quadratic approximation we have the gradient as:\n",
        "\\begin{align}\n",
        "\\nabla \\tilde{f}(\\mathbf{x}) = \\nabla f(\\mathbf{x}^{k+1}) + H^{k+1}(\\mathbf{x}-\\mathbf{x}^{k+1}). \n",
        "\\end{align}\n",
        "\n",
        "In order to assume $\\tilde{f}$ to behave similar to $f$, we expect the following. \n",
        "\n",
        "By plugging in $\\mathbf{x} = \\mathbf{x}^k$ and $\\mathbf{x}=\\mathbf{x}^{k+1}$, we expect the following from the previous gradient equation:\n",
        "\\begin{align}\n",
        "\\nabla \\tilde{f} (\\mathbf{x}^k) = \\nabla f(\\mathbf{x}^k) \\text{ and }\\\\ \n",
        "\\nabla \\tilde{f} (\\mathbf{x}^{k+1}) = \\nabla f(\\mathbf{x}^{k+1}). \n",
        "\\end{align}\n",
        "\n",
        "The relation $\\nabla \\tilde{f} (\\mathbf{x}^{k+1}) = \\nabla f(\\mathbf{x}^{k+1})$ directly follows from the gradient relation  $\\nabla \\tilde{f}(\\mathbf{x}) = \\nabla f(\\mathbf{x}^{k+1}) + H^{k+1}(\\mathbf{x}-\\mathbf{x}^{k+1})$.\n",
        "\n",
        "For the gradient relation to satisfy $\\nabla \\tilde{f} (\\mathbf{x}^k) = \\nabla f(\\mathbf{x}^k)$ we need:\n",
        "\\begin{align}\n",
        "\\nabla \\tilde{f} (\\mathbf{x}^k) &= \\nabla f(\\mathbf{x}^{k+1}) + H^{k+1}(\\mathbf{x}^{k}-\\mathbf{x}^{k+1}) = \\nabla f(\\mathbf{x}^k) \\\\\n",
        "\\implies H^{k+1}(\\mathbf{x}^{k}-\\mathbf{x}^{k+1}) &= (\\nabla f(\\mathbf{x}^{k})- \\nabla {f} (\\mathbf{x}^{k+1})) \\\\\n",
        "\\implies H^{k+1}(\\mathbf{x}^{k+1}-\\mathbf{x}^{k}) &= (\\nabla f(\\mathbf{x}^{k+1})- \\nabla {f} (\\mathbf{x}^k)).\n",
        "\\end{align}\n",
        "This previous equality is called the $\\textbf{secant equation}$. \n",
        "\n",
        "From the secant equation we see that inverse of $H^{k+1}$ operates on the difference of gradients $(\\nabla f(\\mathbf{x}^{k+1})- \\nabla {f} (\\mathbf{x}^k))$  to yield the difference of iterates $(\\mathbf{x}^{k+1}-\\mathbf{x}^{k})$. \n",
        "\n",
        "The secant equation can be equivalently and compactly written as:\n",
        "\\begin{align}\n",
        "(H^{k+1})^{-1} \\mathbf{y}^k = \\mathbf{s}^k. \n",
        "\\end{align}\n",
        "where $\\mathbf{y}^k = (\\nabla f(\\mathbf{x}^{k+1})- \\nabla {f} (\\mathbf{x}^k))$ and $\\mathbf{s}^k = (\\mathbf{x}^{k+1}-\\mathbf{x}^{k})$. \n",
        "\n",
        "We shall be considering $(H^{k+1})^{-1}$ as a possible choice for $B^{k+1}$ in the BFGS update rule. \n",
        "\n",
        "Hence we make sure that $(H^{k+1})^{-1}$ is positive definite. This is equivalent to considering: \n",
        "\\begin{align}\n",
        "(\\mathbf{y}^{k})^\\top (H^{k+1})^{-1} \\mathbf{y}^k > 0 \n",
        "\\end{align}\n",
        "for any non-zero $\\mathbf{y}^k$ which implies that $(\\mathbf{y}^k)^\\top \\mathbf{s}^k > 0$. \n",
        "\n",
        "\n",
        "Generally solving the secant equation $(H^{k+1})^{-1} \\mathbf{y}^k = \\mathbf{s}^k$ leads to infinitely many solutions for the matrix $(H^{k+1})^{-1}$ since there are $n^2$ unknowns and $n$ equations. Hence to select a suitable $(H^{k+1})^{-1}$ we solve an optimization problem of the form: \n",
        "\n",
        "\\begin{align}\n",
        "\\min_H \\|H-(H^k)^{-1}\\| \\ s.t. \\ H=H^\\top, \\ H\\mathbf{y}^k=\\mathbf{s}^k.\n",
        "\\end{align}\n",
        "By using an appropriate norm in the optimization problem, we can get the following update rule for the matrix $(H^{k+1})^{-1} = (I-\\mu^k \\mathbf{s}^k (\\mathbf{y}^k)^\\top) (H^{k})^{-1} (I-\\mu^k \\mathbf{y}^k (\\mathbf{s}^k)^\\top) + \\mu^k \\mathbf{s}^k (\\mathbf{s}^k)^\\top$\n",
        "\n",
        "where $\\mu^k = \\frac{1}{(\\mathbf{y}^k)^\\top \\mathbf{s}^k}$.\n",
        "\n",
        "By taking $B^k = (H^k)^{-1}$, this update rule can now be written as:\n",
        "\n",
        "$B^{k+1} = (I-\\mu^k \\mathbf{s}^k (\\mathbf{y}^k)^\\top) B^{k} (I-\\mu^k \\mathbf{y}^k (\\mathbf{s}^k)^\\top) + \\mu^k \\mathbf{s}^k (\\mathbf{s}^k)^\\top$\n",
        "\n",
        "where $\\mu^k = \\frac{1}{(\\mathbf{y}^k)^\\top \\mathbf{s}^k}$.\n",
        "\n",
        "As long as $B^k$ is positive definite, the update rule guarantees that $B^{k+1}$ is also positive definite. "
      ]
    },
    {
      "cell_type": "markdown",
      "metadata": {
        "id": "b-Meohokl4xP"
      },
      "source": [
        "Hence in Exercises 1 and 2, we shall be implementing BFGS method to solve problems of the form $\\min_{\\mathbf{x}\\in{\\mathbb{R}}^n} f(\\mathbf{x})$, and check its  performance against Newton method. "
      ]
    },
    {
      "cell_type": "markdown",
      "source": [
        "Answer 1) We can choose $B^0$ to be a scalar multiple of an identity matrix as it is a symmetric positive definite matrix."
      ],
      "metadata": {
        "id": "_seXeSTqz0cv"
      }
    },
    {
      "cell_type": "code",
      "source": [
        "#Let us now check the time taken for computing the inverse of a matrix A\n",
        "from timeit import default_timer as timer\n",
        "import numpy as np \n",
        "\n",
        "#create a random nxn matrix \n",
        "n = 100\n",
        "B = np.random.rand(n, n)\n",
        "A = np.matmul(B,B.T) #Note: This construction ensures that A is symmetric\n",
        "A = np.add(A, 0.001*np.identity(n)) #this diagonal perturbation helps to make the matrix positive definite \n",
        "\n",
        "start_time = timer()\n",
        "A_inv = np.linalg.inv(A)\n",
        "end_time = timer()\n",
        "print('Time taken to compute inverse of A:',end_time - start_time) "
      ],
      "metadata": {
        "colab": {
          "base_uri": "https://localhost:8080/"
        },
        "id": "IIMl937EXeFK",
        "outputId": "7dab1d4e-50a5-4a8f-a140-05c284f85432"
      },
      "execution_count": null,
      "outputs": [
        {
          "output_type": "stream",
          "name": "stdout",
          "text": [
            "Time taken to compute inverse of A: 0.0009885139988909941\n"
          ]
        }
      ]
    },
    {
      "cell_type": "code",
      "metadata": {
        "id": "GcsCIAntMNdb"
      },
      "source": [
        "#Now we will define a function which will compute and return the function value \n",
        "def evalf(x, n):  \n",
        "    #Input: x is a numpy array of size n \n",
        "    assert type(x) is np.ndarray \n",
        "    assert len(x) == n \n",
        "    f = 0\n",
        "    for i in range(n-1):\n",
        "        f += (4*(x[i]**2-x[i+1])**2 + (x[i] - 1)**2)\n",
        "\n",
        "    return (f)\n"
      ],
      "execution_count": null,
      "outputs": []
    },
    {
      "cell_type": "code",
      "metadata": {
        "id": "SA1zWRO0xMd6"
      },
      "source": [
        "#Now we will define a function which will compute and return the gradient value as a numpy array \n",
        "def evalg(x, n):  \n",
        "    #Input: x is a numpy array of size n\n",
        "    assert type(x) is np.ndarray  \n",
        "    assert len(x) == n \n",
        "    gradient = np.zeros(n)\n",
        "    gradient[0] = 16*x[0]*(x[0]**2 - x[1]) + 2*(x[0]-1)\n",
        "    gradient[n-1] = 8*(x[n-1] - (x[n-2]**2))\n",
        "    for i in range(1,n-1):\n",
        "        gradient[i] = (-8*(x[i-1]**2 - x[i]) + 16*x[i]*(x[i]**2 - x[i+1]) + 2*(x[i]-1))\n",
        "    return gradient"
      ],
      "execution_count": null,
      "outputs": []
    },
    {
      "cell_type": "code",
      "source": [
        "def evalh(x,n):\n",
        "    assert type(x) is np.ndarray  #do not allow arbitrary type arguments \n",
        "    assert len(x) == n #do not allow arbitrary size arguments\n",
        "\n",
        "    hessian = np.zeros((n,n))\n",
        "    hessian[0][0] = 16*(3*x[0]**2 - x[1]) + 2\n",
        "    hessian[0][1] = -16*x[0]\n",
        "    \n",
        "    hessian[n-1][n-1] = 8\n",
        "    hessian[n-1][n-2] = -16*x[n-2]\n",
        "    \n",
        "    for i in range(1,n-1):\n",
        "        hessian[i][i] = 16*(3*(x[i]**2)-x[i+1]) + 10\n",
        "        hessian[i][i-1] = -16*x[i-1]\n",
        "        hessian[i][i+1] = -16*x[i] \n",
        "\n",
        "    return hessian"
      ],
      "metadata": {
        "id": "OAcpS-n_2LtM"
      },
      "execution_count": null,
      "outputs": []
    },
    {
      "cell_type": "code",
      "source": [
        "def compute_steplength_backtracking(x, n, gradf, D_k, alpha_start, rho, gamma): #add appropriate arguments to the function \n",
        "    assert type(x) is np.ndarray and len(gradf) == n\n",
        "    assert type(gradf) is np.ndarray and len(gradf) == n \n",
        "    assert type(alpha_start) is float and alpha_start>=0. \n",
        "    assert type(rho) is float and rho>=0.\n",
        "    assert type(gamma) is float and gamma>=0. \n",
        "    assert type(D_k) is np.ndarray and len(D_k) == n\n",
        "    \n",
        "    alpha = alpha_start\n",
        "    pk = -gradf\n",
        "    while evalf(np.add(x, alpha*np.dot(D_k,pk)), n) > np.subtract(evalf(x, n), gamma*alpha*np.dot(np.dot(D_k,gradf), gradf)):\n",
        "    \n",
        "        alpha = rho*alpha\n",
        "    \n",
        "    return alpha"
      ],
      "metadata": {
        "id": "tybYuY9s2vdy"
      },
      "execution_count": null,
      "outputs": []
    },
    {
      "cell_type": "code",
      "source": [
        "# Method to construct D_k matrix used in Newton's method\n",
        "def compute_D_k_newton(x, n):\n",
        "    assert type(x) is np.ndarray\n",
        "    assert len(x) == n\n",
        "    \n",
        "    return np.linalg.inv(evalh(x, n))"
      ],
      "metadata": {
        "id": "ShrkerC23xZD"
      },
      "execution_count": null,
      "outputs": []
    },
    {
      "cell_type": "code",
      "source": [
        "#line search type \n",
        "CONSTANT_STEP_LENGTH = 1\n",
        "BACKTRACKING_LINE_SEARCH = 2"
      ],
      "metadata": {
        "id": "ojnS9Wqx3z4J"
      },
      "execution_count": null,
      "outputs": []
    },
    {
      "cell_type": "markdown",
      "source": [
        "Code for answer 2)"
      ],
      "metadata": {
        "id": "mO-kN_rc0N4I"
      }
    },
    {
      "cell_type": "code",
      "source": [
        "def find_minimizer_BFGS(start_x, n, tol, line_search_type, *args):\n",
        "    assert type(start_x) is np.ndarray  \n",
        "    assert len(start_x) == n  \n",
        "    assert type(tol) is float and tol>=0 \n",
        "\n",
        "    x = start_x\n",
        "    g_x = evalg(x,n)\n",
        "    h_x = evalh(x,n)\n",
        "\n",
        "    if line_search_type == BACKTRACKING_LINE_SEARCH:\n",
        "        if args is None:\n",
        "            err_msg = 'Line search type: BACKTRACKING_LINE_SEARCH, but did not receive any arguments'\n",
        "            raise ValueError(err_msg)\n",
        "        elif len(args)<3 :\n",
        "            err_msg = 'Line search type: BACKTRACKING_LINE_SEARCH, but did not receive three arguments'\n",
        "            raise ValueError(err_msg)\n",
        "        else:\n",
        "            alpha_start = float(args[0])\n",
        "            rho = float(args[1])\n",
        "            gamma = float(args[2])\n",
        "    k = 0\n",
        "    B = np.identity(n)\n",
        "\n",
        "    while (np.linalg.norm(g_x) > tol): \n",
        "        d_k = B\n",
        "        p = -np.dot(B, g_x)\n",
        "        if line_search_type == BACKTRACKING_LINE_SEARCH:\n",
        "            step_length = compute_steplength_backtracking(x, n, g_x, d_k, alpha_start, rho, gamma) \n",
        "        elif line_search_type == CONSTANT_STEP_LENGTH: \n",
        "            step_length = 1.0\n",
        "        else:  \n",
        "            raise ValueError('Line search type unknown')\n",
        "        \n",
        "        # Gradient descent steps\n",
        "        x_next = np.add(x, np.multiply(step_length,p)) \n",
        "        s_k = x_next - x\n",
        "        y_k = evalg(x_next,n) - g_x\n",
        "        mu_k = 1.0/np.dot(y_k.T, s_k)\n",
        "        temp = (np.identity(n) - np.multiply(mu_k,np.outer(y_k, s_k.T)))\n",
        "        B = np.dot(temp.T, np.dot(B, temp)) + np.multiply(mu_k, np.outer(s_k, s_k.T))\n",
        "        k += 1 \n",
        "        x = x_next\n",
        "        g_x = evalg(x,n)\n",
        "        # print('iter:',k, ' x:', x, ' f(x):', evalf(x,n), ' grad at x:', g_x, ' gradient norm:', np.linalg.norm(g_x))\n",
        "\n",
        "\n",
        "    return x, k, evalf(x,n)"
      ],
      "metadata": {
        "id": "olMNp0uy2z5b"
      },
      "execution_count": null,
      "outputs": []
    },
    {
      "cell_type": "markdown",
      "source": [
        "Code for answer 4)"
      ],
      "metadata": {
        "id": "UtuKsYwt0Wv3"
      }
    },
    {
      "cell_type": "code",
      "source": [
        "def find_minimizer_Newtonmethod(start_x, n, tol, line_search_type, *args):\n",
        "    #Input: start_x is a numpy array of size n, tol denotes the tolerance and is a positive float value\n",
        "    assert type(start_x) is np.ndarray \n",
        "    assert len(start_x) == n \n",
        "    assert type(tol) is float and tol>=0 \n",
        "\n",
        "    x = start_x\n",
        "    g_x = evalg(x,n)\n",
        "    h_x = evalh(x,n)\n",
        "\n",
        "    if line_search_type == BACKTRACKING_LINE_SEARCH:\n",
        "        if args is None:\n",
        "            err_msg = 'Line search type: BACKTRACKING_LINE_SEARCH, but did not receive any arguments'\n",
        "            raise ValueError(err_msg)\n",
        "        elif len(args)<3 :\n",
        "            err_msg = 'Line search type: BACKTRACKING_LINE_SEARCH, but did not receive three arguments'\n",
        "            raise ValueError(err_msg)\n",
        "        else:\n",
        "            alpha_start = float(args[0])\n",
        "            rho = float(args[1])\n",
        "            gamma = float(args[2])\n",
        "    k = 0\n",
        "\n",
        "    while (np.linalg.norm(g_x) > tol):\n",
        "        d_k = compute_D_k_newton(x, n)\n",
        "        if line_search_type == BACKTRACKING_LINE_SEARCH:\n",
        "            step_length = compute_steplength_backtracking(x, n, g_x, d_k, alpha_start, rho, gamma) \n",
        "        elif line_search_type == CONSTANT_STEP_LENGTH: \n",
        "            step_length = 1.0\n",
        "        else:  \n",
        "            raise ValueError('Line search type unknown')\n",
        "        \n",
        "        # Gradient descent steps\n",
        "        x = np.subtract(x, np.multiply(step_length,np.dot(d_k, g_x))) \n",
        "        k += 1 \n",
        "        g_x = evalg(x,n) \n",
        "\n",
        "    return x, k, evalf(x,n)"
      ],
      "metadata": {
        "id": "OwAfVJsA4DHt"
      },
      "execution_count": null,
      "outputs": []
    },
    {
      "cell_type": "code",
      "source": [
        "n = [1000, 2500, 5000, 7500, 10000]\n",
        "my_tol= 1e-3\n",
        "alpha_start = 0.9\n",
        "rho = 0.5\n",
        "gamma = 0.5"
      ],
      "metadata": {
        "id": "0WWbEpzE9GWZ"
      },
      "execution_count": null,
      "outputs": []
    },
    {
      "cell_type": "markdown",
      "source": [
        "Code for answer 3)"
      ],
      "metadata": {
        "id": "ur2UrxDD0ZA7"
      }
    },
    {
      "cell_type": "code",
      "source": [
        "minimizer_bfgs = [0 for i in range(5)]\n",
        "iters_bfgs  = [0 for i in range(5)]\n",
        "min_fval_bfgs = [0 for i in range(5)]\n",
        "time_taken_bfgs = [0 for i in range(5)]\n",
        "\n",
        "\n",
        "for i in range(5):\n",
        "    my_start_x = np.zeros(n[i])  \n",
        "    start_time = timer()\n",
        "    minimizer_bfgs[i] , iters_bfgs[i] , min_fval_bfgs[i] = find_minimizer_BFGS(my_start_x, n[i], my_tol, BACKTRACKING_LINE_SEARCH, alpha_start, rho, gamma)\n",
        "    end_time = timer()\n",
        "    time_taken_bfgs[i] = end_time - start_time\n",
        "    print(\"n:\", n[i])\n",
        "    print(\"Minimum function value:\", min_fval_bfgs[i])\n",
        "    print(\"No of iterations:\", iters_bfgs[i])\n",
        "    print(\"Time taken:\", time_taken_bfgs[i])\n",
        "    print(\"Minimizer:\", minimizer_bfgs[i])\n",
        "    print(\"\\n***************************************************************************************************************************************\")"
      ],
      "metadata": {
        "colab": {
          "base_uri": "https://localhost:8080/"
        },
        "id": "FL4_aEXe7vak",
        "outputId": "f20dfacd-8912-4f10-8e78-90432de21fe5"
      },
      "execution_count": null,
      "outputs": [
        {
          "output_type": "stream",
          "name": "stdout",
          "text": [
            "n: 1000\n",
            "Minimum function value: 1.509765174423235e-08\n",
            "No of iterations: 63\n",
            "Time taken: 42.113621098\n",
            "Minimizer: [0.99999852 0.99999906 0.9999996  0.9999995  0.99999973 0.99999922\n",
            " 0.99999952 0.9999991  0.99999961 0.99999917 0.9999997  0.99999908\n",
            " 0.99999979 0.99999914 0.99999967 0.99999946 0.99999961 0.99999945\n",
            " 0.99999955 0.99999931 0.99999955 0.99999935 0.99999957 0.99999932\n",
            " 0.99999961 0.9999992  0.99999951 0.9999991  0.9999995  0.99999901\n",
            " 0.99999955 0.99999917 0.99999956 0.99999931 0.99999983 0.99999962\n",
            " 0.99999978 0.99999982 0.99999934 0.99999965 0.99999905 0.99999996\n",
            " 0.9999986  0.99999947 0.99999939 0.9999995  0.99999963 0.99999989\n",
            " 0.99999907 0.99999939 0.99999942 0.9999995  0.99999965 0.99999877\n",
            " 1.00000031 0.9999991  0.99999916 0.99999986 0.99999922 0.99999951\n",
            " 0.99999944 0.99999945 0.99999945 0.99999945 0.99999945 0.99999945\n",
            " 0.99999945 0.99999945 0.99999945 0.99999945 0.99999945 0.99999945\n",
            " 0.99999945 0.99999945 0.99999945 0.99999945 0.99999945 0.99999945\n",
            " 0.99999945 0.99999945 0.99999945 0.99999945 0.99999945 0.99999945\n",
            " 0.99999945 0.99999945 0.99999945 0.99999945 0.99999945 0.99999945\n",
            " 0.99999945 0.99999945 0.99999945 0.99999945 0.99999945 0.99999945\n",
            " 0.99999945 0.99999945 0.99999945 0.99999945 0.99999945 0.99999945\n",
            " 0.99999945 0.99999945 0.99999945 0.99999945 0.99999945 0.99999945\n",
            " 0.99999945 0.99999945 0.99999945 0.99999945 0.99999945 0.99999945\n",
            " 0.99999945 0.99999945 0.99999945 0.99999945 0.99999945 0.99999945\n",
            " 0.99999945 0.99999945 0.99999945 0.99999945 0.99999945 0.99999945\n",
            " 0.99999945 0.99999945 0.99999945 0.99999945 0.99999945 0.99999945\n",
            " 0.99999945 0.99999945 0.99999945 0.99999945 0.99999945 0.99999945\n",
            " 0.99999945 0.99999945 0.99999945 0.99999945 0.99999945 0.99999945\n",
            " 0.99999945 0.99999945 0.99999945 0.99999945 0.99999945 0.99999945\n",
            " 0.99999945 0.99999945 0.99999945 0.99999945 0.99999945 0.99999945\n",
            " 0.99999945 0.99999945 0.99999945 0.99999945 0.99999945 0.99999945\n",
            " 0.99999945 0.99999945 0.99999945 0.99999945 0.99999945 0.99999945\n",
            " 0.99999945 0.99999945 0.99999945 0.99999945 0.99999945 0.99999945\n",
            " 0.99999945 0.99999945 0.99999945 0.99999945 0.99999945 0.99999945\n",
            " 0.99999945 0.99999945 0.99999945 0.99999945 0.99999945 0.99999945\n",
            " 0.99999945 0.99999945 0.99999945 0.99999945 0.99999945 0.99999945\n",
            " 0.99999945 0.99999945 0.99999945 0.99999945 0.99999945 0.99999945\n",
            " 0.99999945 0.99999945 0.99999945 0.99999945 0.99999945 0.99999945\n",
            " 0.99999945 0.99999945 0.99999945 0.99999945 0.99999945 0.99999945\n",
            " 0.99999945 0.99999945 0.99999945 0.99999945 0.99999945 0.99999945\n",
            " 0.99999945 0.99999945 0.99999945 0.99999945 0.99999945 0.99999945\n",
            " 0.99999945 0.99999945 0.99999945 0.99999945 0.99999945 0.99999945\n",
            " 0.99999945 0.99999945 0.99999945 0.99999945 0.99999945 0.99999945\n",
            " 0.99999945 0.99999945 0.99999945 0.99999945 0.99999945 0.99999945\n",
            " 0.99999945 0.99999945 0.99999945 0.99999945 0.99999945 0.99999945\n",
            " 0.99999945 0.99999945 0.99999945 0.99999945 0.99999945 0.99999945\n",
            " 0.99999945 0.99999945 0.99999945 0.99999945 0.99999945 0.99999945\n",
            " 0.99999945 0.99999945 0.99999945 0.99999945 0.99999945 0.99999945\n",
            " 0.99999945 0.99999945 0.99999945 0.99999945 0.99999945 0.99999945\n",
            " 0.99999945 0.99999945 0.99999945 0.99999945 0.99999945 0.99999945\n",
            " 0.99999945 0.99999945 0.99999945 0.99999945 0.99999945 0.99999945\n",
            " 0.99999945 0.99999945 0.99999945 0.99999945 0.99999945 0.99999945\n",
            " 0.99999945 0.99999945 0.99999945 0.99999945 0.99999945 0.99999945\n",
            " 0.99999945 0.99999945 0.99999945 0.99999945 0.99999945 0.99999945\n",
            " 0.99999945 0.99999945 0.99999945 0.99999945 0.99999945 0.99999945\n",
            " 0.99999945 0.99999945 0.99999945 0.99999945 0.99999945 0.99999945\n",
            " 0.99999945 0.99999945 0.99999945 0.99999945 0.99999945 0.99999945\n",
            " 0.99999945 0.99999945 0.99999945 0.99999945 0.99999945 0.99999945\n",
            " 0.99999945 0.99999945 0.99999945 0.99999945 0.99999945 0.99999945\n",
            " 0.99999945 0.99999945 0.99999945 0.99999945 0.99999945 0.99999945\n",
            " 0.99999945 0.99999945 0.99999945 0.99999945 0.99999945 0.99999945\n",
            " 0.99999945 0.99999945 0.99999945 0.99999945 0.99999945 0.99999945\n",
            " 0.99999945 0.99999945 0.99999945 0.99999945 0.99999945 0.99999945\n",
            " 0.99999945 0.99999945 0.99999945 0.99999945 0.99999945 0.99999945\n",
            " 0.99999945 0.99999945 0.99999945 0.99999945 0.99999945 0.99999945\n",
            " 0.99999945 0.99999945 0.99999945 0.99999945 0.99999945 0.99999945\n",
            " 0.99999945 0.99999945 0.99999945 0.99999945 0.99999945 0.99999945\n",
            " 0.99999945 0.99999945 0.99999945 0.99999945 0.99999945 0.99999945\n",
            " 0.99999945 0.99999945 0.99999945 0.99999945 0.99999945 0.99999945\n",
            " 0.99999945 0.99999945 0.99999945 0.99999945 0.99999945 0.99999945\n",
            " 0.99999945 0.99999945 0.99999945 0.99999945 0.99999945 0.99999945\n",
            " 0.99999945 0.99999945 0.99999945 0.99999945 0.99999945 0.99999945\n",
            " 0.99999945 0.99999945 0.99999945 0.99999945 0.99999945 0.99999945\n",
            " 0.99999945 0.99999945 0.99999945 0.99999945 0.99999945 0.99999945\n",
            " 0.99999945 0.99999945 0.99999945 0.99999945 0.99999945 0.99999945\n",
            " 0.99999945 0.99999945 0.99999945 0.99999945 0.99999945 0.99999945\n",
            " 0.99999945 0.99999945 0.99999945 0.99999945 0.99999945 0.99999945\n",
            " 0.99999945 0.99999945 0.99999945 0.99999945 0.99999945 0.99999945\n",
            " 0.99999945 0.99999945 0.99999945 0.99999945 0.99999945 0.99999945\n",
            " 0.99999945 0.99999945 0.99999945 0.99999945 0.99999945 0.99999945\n",
            " 0.99999945 0.99999945 0.99999945 0.99999945 0.99999945 0.99999945\n",
            " 0.99999945 0.99999945 0.99999945 0.99999945 0.99999945 0.99999945\n",
            " 0.99999945 0.99999945 0.99999945 0.99999945 0.99999945 0.99999945\n",
            " 0.99999945 0.99999945 0.99999945 0.99999945 0.99999945 0.99999945\n",
            " 0.99999945 0.99999945 0.99999945 0.99999945 0.99999945 0.99999945\n",
            " 0.99999945 0.99999945 0.99999945 0.99999945 0.99999945 0.99999945\n",
            " 0.99999945 0.99999945 0.99999945 0.99999945 0.99999945 0.99999945\n",
            " 0.99999945 0.99999945 0.99999945 0.99999945 0.99999945 0.99999945\n",
            " 0.99999945 0.99999945 0.99999945 0.99999945 0.99999945 0.99999945\n",
            " 0.99999945 0.99999945 0.99999945 0.99999945 0.99999945 0.99999945\n",
            " 0.99999945 0.99999945 0.99999945 0.99999945 0.99999945 0.99999945\n",
            " 0.99999945 0.99999945 0.99999945 0.99999945 0.99999945 0.99999945\n",
            " 0.99999945 0.99999945 0.99999945 0.99999945 0.99999945 0.99999945\n",
            " 0.99999945 0.99999945 0.99999945 0.99999945 0.99999945 0.99999945\n",
            " 0.99999945 0.99999945 0.99999945 0.99999945 0.99999945 0.99999945\n",
            " 0.99999945 0.99999945 0.99999945 0.99999945 0.99999945 0.99999945\n",
            " 0.99999945 0.99999945 0.99999945 0.99999945 0.99999945 0.99999945\n",
            " 0.99999945 0.99999945 0.99999945 0.99999945 0.99999945 0.99999945\n",
            " 0.99999945 0.99999945 0.99999945 0.99999945 0.99999945 0.99999945\n",
            " 0.99999945 0.99999945 0.99999945 0.99999945 0.99999945 0.99999945\n",
            " 0.99999945 0.99999945 0.99999945 0.99999945 0.99999945 0.99999945\n",
            " 0.99999945 0.99999945 0.99999945 0.99999945 0.99999945 0.99999945\n",
            " 0.99999945 0.99999945 0.99999945 0.99999945 0.99999945 0.99999945\n",
            " 0.99999945 0.99999945 0.99999945 0.99999945 0.99999945 0.99999945\n",
            " 0.99999945 0.99999945 0.99999945 0.99999945 0.99999945 0.99999945\n",
            " 0.99999945 0.99999945 0.99999945 0.99999945 0.99999945 0.99999945\n",
            " 0.99999945 0.99999945 0.99999945 0.99999945 0.99999945 0.99999945\n",
            " 0.99999945 0.99999945 0.99999945 0.99999945 0.99999945 0.99999945\n",
            " 0.99999945 0.99999945 0.99999945 0.99999945 0.99999945 0.99999945\n",
            " 0.99999945 0.99999945 0.99999945 0.99999945 0.99999945 0.99999945\n",
            " 0.99999945 0.99999945 0.99999945 0.99999945 0.99999945 0.99999945\n",
            " 0.99999945 0.99999945 0.99999945 0.99999945 0.99999945 0.99999945\n",
            " 0.99999945 0.99999945 0.99999945 0.99999945 0.99999945 0.99999945\n",
            " 0.99999945 0.99999945 0.99999945 0.99999945 0.99999945 0.99999945\n",
            " 0.99999945 0.99999945 0.99999945 0.99999945 0.99999945 0.99999945\n",
            " 0.99999945 0.99999945 0.99999945 0.99999945 0.99999945 0.99999945\n",
            " 0.99999945 0.99999945 0.99999945 0.99999945 0.99999945 0.99999945\n",
            " 0.99999945 0.99999945 0.99999945 0.99999945 0.99999945 0.99999945\n",
            " 0.99999945 0.99999945 0.99999945 0.99999945 0.99999945 0.99999945\n",
            " 0.99999945 0.99999945 0.99999945 0.99999945 0.99999945 0.99999945\n",
            " 0.99999945 0.99999945 0.99999945 0.99999945 0.99999945 0.99999945\n",
            " 0.99999945 0.99999945 0.99999945 0.99999945 0.99999945 0.99999945\n",
            " 0.99999945 0.99999945 0.99999945 0.99999945 0.99999945 0.99999945\n",
            " 0.99999945 0.99999945 0.99999945 0.99999945 0.99999945 0.99999945\n",
            " 0.99999945 0.99999945 0.99999945 0.99999945 0.99999945 0.99999945\n",
            " 0.99999945 0.99999945 0.99999945 0.99999945 0.99999945 0.99999945\n",
            " 0.99999945 0.99999945 0.99999945 0.99999945 0.99999945 0.99999945\n",
            " 0.99999945 0.99999945 0.99999945 0.99999945 0.99999945 0.99999945\n",
            " 0.99999945 0.99999945 0.99999945 0.99999945 0.99999945 0.99999945\n",
            " 0.99999945 0.99999945 0.99999945 0.99999945 0.99999945 0.99999945\n",
            " 0.99999945 0.99999945 0.99999945 0.99999945 0.99999945 0.99999945\n",
            " 0.99999945 0.99999945 0.99999945 0.99999945 0.99999945 0.99999945\n",
            " 0.99999945 0.99999945 0.99999945 0.99999945 0.99999945 0.99999945\n",
            " 0.99999945 0.99999945 0.99999945 0.99999945 0.99999945 0.99999945\n",
            " 0.99999945 0.99999945 0.99999945 0.99999945 0.99999945 0.99999945\n",
            " 0.99999945 0.99999945 0.99999945 0.99999945 0.99999945 0.99999945\n",
            " 0.99999945 0.99999945 0.99999945 0.99999945 0.99999945 0.99999945\n",
            " 0.99999945 0.99999945 0.99999945 0.99999945 0.99999945 0.99999945\n",
            " 0.99999945 0.99999945 0.99999945 0.99999945 0.99999945 0.99999945\n",
            " 0.99999945 0.99999945 0.99999945 0.99999945 0.99999945 0.99999945\n",
            " 0.99999945 0.99999945 0.99999945 0.99999945 0.99999945 0.99999945\n",
            " 0.99999945 0.99999945 0.99999945 0.99999945 0.99999945 0.99999945\n",
            " 0.99999945 0.99999945 0.99999945 0.99999945 0.99999945 0.99999945\n",
            " 0.99999945 0.99999945 0.99999945 0.99999945 0.99999945 0.99999945\n",
            " 0.99999945 0.99999945 0.99999945 0.99999945 0.99999945 0.99999945\n",
            " 0.99999945 0.99999945 0.99999945 0.99999945 0.99999945 0.99999945\n",
            " 0.99999945 0.99999945 0.99999945 0.99999945 0.99999945 0.99999945\n",
            " 0.99999945 0.99999945 0.99999945 0.99999945 0.99999945 0.99999945\n",
            " 0.99999945 0.99999945 0.99999945 0.99999945 0.99999945 0.99999945\n",
            " 0.99999945 0.99999945 0.99999945 0.99999945 0.99999945 0.99999945\n",
            " 0.99999945 0.99999945 0.99999945 0.99999945 0.99999945 0.99999945\n",
            " 0.99999945 0.99999945 0.99999945 0.99999945 0.99999945 0.99999945\n",
            " 0.99999945 0.99999945 0.99999945 0.99999945 0.99999945 0.99999945\n",
            " 0.99999945 0.99999945 0.99999945 0.99999945 0.99999945 0.99999945\n",
            " 0.99999945 0.99999945 0.99999945 0.99999945 0.99999945 0.99999945\n",
            " 0.99999945 0.99999945 0.99999945 0.99999945 0.99999945 0.99999945\n",
            " 0.99999945 0.99999945 0.99999945 0.99999945 0.99999945 0.99999945\n",
            " 0.99999945 0.99999945 0.99999945 0.99999945 0.99999945 0.99999945\n",
            " 0.99999945 0.99999945 0.99999945 0.99999945 0.99999945 0.99999945\n",
            " 0.99999945 0.99999945 0.99999945 0.99999945 0.99999945 0.99999945\n",
            " 0.99999945 0.99999944 0.99999958 0.99999878 1.00000091 0.99999896\n",
            " 0.99999563 1.0000054  0.99999964 0.99999324 1.00000279 1.0000006\n",
            " 0.99999743 0.99999662 1.00000452 1.00000592 0.99999505 0.9999945\n",
            " 0.99999781 0.99999689 0.99999996 1.00000187 0.99999795 1.00000203\n",
            " 1.00000514 1.00000527 1.00000091 1.00000008 1.00000062 0.99999874\n",
            " 0.99999947 0.99999825 0.99999783 0.99999679 0.99999737 0.9999972\n",
            " 0.99999739 0.99999782 0.99999862 0.99999797 0.999998   0.99999837\n",
            " 0.99999877 0.99999942 1.00000018 1.00000029 0.99999995 1.00000006\n",
            " 0.99999813 1.0000005  0.99999999 0.99999874 0.99999948 0.99999885\n",
            " 0.99999882 0.99999927 1.00000146 1.00000193 0.99999995 0.99999485\n",
            " 0.99998856 0.99997952 0.99996218 0.99989054]\n",
            "\n",
            "***************************************************************************************************************************************\n",
            "n: 2500\n",
            "Minimum function value: 7.271484821663556e-09\n",
            "No of iterations: 67\n",
            "Time taken: 176.241088166\n",
            "Minimizer: [1.00000036 1.00000028 1.00000025 ... 1.00000513 1.00000925 1.00002114]\n",
            "\n",
            "***************************************************************************************************************************************\n",
            "n: 5000\n",
            "Minimum function value: 8.464918426169494e-09\n",
            "No of iterations: 85\n",
            "Time taken: 1572.0553763\n",
            "Minimizer: [0.99999869 0.99999853 0.99999952 ... 0.99999263 0.99998436 0.99996509]\n",
            "\n",
            "***************************************************************************************************************************************\n",
            "n: 7500\n",
            "Minimum function value: 7.487095768070494e-09\n",
            "No of iterations: 85\n",
            "Time taken: 5060.609278034\n",
            "Minimizer: [0.99999954 0.99999972 1.00000066 ... 0.99999708 0.99999346 0.99998351]\n",
            "\n",
            "***************************************************************************************************************************************\n",
            "n: 10000\n",
            "Minimum function value: 1.3295625380358626e-08\n",
            "No of iterations: 80\n",
            "Time taken: 11195.230018600003\n",
            "Minimizer: [1.00000046 1.0000006  1.00000115 ... 0.99998318 0.99995598 0.99989704]\n",
            "\n",
            "***************************************************************************************************************************************\n"
          ]
        }
      ]
    },
    {
      "cell_type": "code",
      "source": [
        "time_taken_bfgs=[42.113621098, 176.241088166, 1572.0553763, 5060.609278034, 11195.230018600003]"
      ],
      "metadata": {
        "id": "tLeU-eMns8La"
      },
      "execution_count": null,
      "outputs": []
    },
    {
      "cell_type": "markdown",
      "source": [
        "Note: Storing time taken by BFGS method (in seconds) in a list so that the values dont get lost."
      ],
      "metadata": {
        "id": "gZXfQDD_04fU"
      }
    },
    {
      "cell_type": "code",
      "source": [
        "print(\"Time taken by BFGS Method for each n\")\n",
        "print(\"n \\t Time taken\")\n",
        "for i in range(5):\n",
        "  print(n[i],\"\\t\",time_taken_bfgs[i])"
      ],
      "metadata": {
        "colab": {
          "base_uri": "https://localhost:8080/"
        },
        "id": "b-LUlGNeH7MG",
        "outputId": "71170ac4-3efb-4be0-d903-3b70950eb643"
      },
      "execution_count": null,
      "outputs": [
        {
          "output_type": "stream",
          "name": "stdout",
          "text": [
            "Time taken by BFGS Method for each n\n",
            "n \t Time taken\n",
            "1000 \t 42.113621098\n",
            "2500 \t 176.241088166\n",
            "5000 \t 1572.0553763\n",
            "7500 \t 5060.609278034\n",
            "10000 \t 11195.230018600003\n"
          ]
        }
      ]
    },
    {
      "cell_type": "markdown",
      "source": [
        "Code for answer 5)"
      ],
      "metadata": {
        "id": "COx9TLRO0b3O"
      }
    },
    {
      "cell_type": "code",
      "source": [
        "my_tol= 1e-1"
      ],
      "metadata": {
        "id": "a08mTw-iA79I"
      },
      "execution_count": null,
      "outputs": []
    },
    {
      "cell_type": "code",
      "source": [
        "minimizer_newton = [0 for i in range(5)]\n",
        "iters_newton  = [0 for i in range(5)]\n",
        "min_fval_newton = [0 for i in range(5)]\n",
        "time_taken_newton = [0 for i in range(5)]\n",
        "\n",
        "for i in range(5):\n",
        "    my_start_x = np.zeros(n[i])\n",
        "    start_time = timer()\n",
        "    minimizer_newton[i] , iters_newton[i] , min_fval_newton[i] = find_minimizer_Newtonmethod(my_start_x, n[i], my_tol, BACKTRACKING_LINE_SEARCH, alpha_start, rho, gamma)\n",
        "    end_time = timer()\n",
        "    time_taken_newton[i] = end_time - start_time\n",
        "    print(\"n:\", n[i])\n",
        "    print(\"Minimum function value:\", min_fval_newton[i])\n",
        "    print(\"No of iterations:\", iters_newton[i])\n",
        "    print(\"Time taken:\", time_taken_newton[i])\n",
        "    print(\"Minimizer:\", minimizer_newton[i])\n",
        "    print(\"\\n***************************************************************************************************************************************\")"
      ],
      "metadata": {
        "colab": {
          "base_uri": "https://localhost:8080/",
          "height": 415
        },
        "id": "NTYhAzWl4u-7",
        "outputId": "113f5629-343d-4a2d-aeef-6a39c1237f65"
      },
      "execution_count": null,
      "outputs": [
        {
          "output_type": "error",
          "ename": "KeyboardInterrupt",
          "evalue": "ignored",
          "traceback": [
            "\u001b[0;31m---------------------------------------------------------------------------\u001b[0m",
            "\u001b[0;31mKeyboardInterrupt\u001b[0m                         Traceback (most recent call last)",
            "\u001b[0;32m<ipython-input-17-1a08128afa14>\u001b[0m in \u001b[0;36m<module>\u001b[0;34m\u001b[0m\n\u001b[1;32m      7\u001b[0m     \u001b[0mmy_start_x\u001b[0m \u001b[0;34m=\u001b[0m \u001b[0mnp\u001b[0m\u001b[0;34m.\u001b[0m\u001b[0mzeros\u001b[0m\u001b[0;34m(\u001b[0m\u001b[0mn\u001b[0m\u001b[0;34m[\u001b[0m\u001b[0mi\u001b[0m\u001b[0;34m]\u001b[0m\u001b[0;34m)\u001b[0m\u001b[0;34m\u001b[0m\u001b[0;34m\u001b[0m\u001b[0m\n\u001b[1;32m      8\u001b[0m     \u001b[0mstart_time\u001b[0m \u001b[0;34m=\u001b[0m \u001b[0mtimer\u001b[0m\u001b[0;34m(\u001b[0m\u001b[0;34m)\u001b[0m\u001b[0;34m\u001b[0m\u001b[0;34m\u001b[0m\u001b[0m\n\u001b[0;32m----> 9\u001b[0;31m     \u001b[0mx_opts_newton\u001b[0m\u001b[0;34m[\u001b[0m\u001b[0mi\u001b[0m\u001b[0;34m]\u001b[0m \u001b[0;34m,\u001b[0m \u001b[0miters_newton\u001b[0m\u001b[0;34m[\u001b[0m\u001b[0mi\u001b[0m\u001b[0;34m]\u001b[0m \u001b[0;34m,\u001b[0m \u001b[0mf_opts_newton\u001b[0m\u001b[0;34m[\u001b[0m\u001b[0mi\u001b[0m\u001b[0;34m]\u001b[0m \u001b[0;34m=\u001b[0m \u001b[0mfind_minimizer_Newtonmethod\u001b[0m\u001b[0;34m(\u001b[0m\u001b[0mmy_start_x\u001b[0m\u001b[0;34m,\u001b[0m \u001b[0mn\u001b[0m\u001b[0;34m[\u001b[0m\u001b[0mi\u001b[0m\u001b[0;34m]\u001b[0m\u001b[0;34m,\u001b[0m \u001b[0mmy_tol\u001b[0m\u001b[0;34m,\u001b[0m \u001b[0mBACKTRACKING_LINE_SEARCH\u001b[0m\u001b[0;34m,\u001b[0m \u001b[0malpha_start\u001b[0m\u001b[0;34m,\u001b[0m \u001b[0mrho\u001b[0m\u001b[0;34m,\u001b[0m \u001b[0mgamma\u001b[0m\u001b[0;34m)\u001b[0m\u001b[0;34m\u001b[0m\u001b[0;34m\u001b[0m\u001b[0m\n\u001b[0m\u001b[1;32m     10\u001b[0m     \u001b[0mend_time\u001b[0m \u001b[0;34m=\u001b[0m \u001b[0mtimer\u001b[0m\u001b[0;34m(\u001b[0m\u001b[0;34m)\u001b[0m\u001b[0;34m\u001b[0m\u001b[0;34m\u001b[0m\u001b[0m\n\u001b[1;32m     11\u001b[0m     \u001b[0mtimes_newton\u001b[0m\u001b[0;34m[\u001b[0m\u001b[0mi\u001b[0m\u001b[0;34m]\u001b[0m \u001b[0;34m=\u001b[0m \u001b[0mend_time\u001b[0m \u001b[0;34m-\u001b[0m \u001b[0mstart_time\u001b[0m\u001b[0;34m\u001b[0m\u001b[0;34m\u001b[0m\u001b[0m\n",
            "\u001b[0;32m<ipython-input-10-9c1b2406db64>\u001b[0m in \u001b[0;36mfind_minimizer_Newtonmethod\u001b[0;34m(start_x, n, tol, line_search_type, *args)\u001b[0m\n\u001b[1;32m     25\u001b[0m         \u001b[0md_k\u001b[0m \u001b[0;34m=\u001b[0m \u001b[0mcompute_D_k_newton\u001b[0m\u001b[0;34m(\u001b[0m\u001b[0mx\u001b[0m\u001b[0;34m,\u001b[0m \u001b[0mn\u001b[0m\u001b[0;34m)\u001b[0m\u001b[0;34m\u001b[0m\u001b[0;34m\u001b[0m\u001b[0m\n\u001b[1;32m     26\u001b[0m         \u001b[0;32mif\u001b[0m \u001b[0mline_search_type\u001b[0m \u001b[0;34m==\u001b[0m \u001b[0mBACKTRACKING_LINE_SEARCH\u001b[0m\u001b[0;34m:\u001b[0m\u001b[0;34m\u001b[0m\u001b[0;34m\u001b[0m\u001b[0m\n\u001b[0;32m---> 27\u001b[0;31m             \u001b[0mstep_length\u001b[0m \u001b[0;34m=\u001b[0m \u001b[0mcompute_steplength_backtracking_scaled_direction\u001b[0m\u001b[0;34m(\u001b[0m\u001b[0mx\u001b[0m\u001b[0;34m,\u001b[0m \u001b[0mn\u001b[0m\u001b[0;34m,\u001b[0m \u001b[0mg_x\u001b[0m\u001b[0;34m,\u001b[0m \u001b[0md_k\u001b[0m\u001b[0;34m,\u001b[0m \u001b[0malpha_start\u001b[0m\u001b[0;34m,\u001b[0m \u001b[0mrho\u001b[0m\u001b[0;34m,\u001b[0m \u001b[0mgamma\u001b[0m\u001b[0;34m)\u001b[0m\u001b[0;34m\u001b[0m\u001b[0;34m\u001b[0m\u001b[0m\n\u001b[0m\u001b[1;32m     28\u001b[0m         \u001b[0;32melif\u001b[0m \u001b[0mline_search_type\u001b[0m \u001b[0;34m==\u001b[0m \u001b[0mCONSTANT_STEP_LENGTH\u001b[0m\u001b[0;34m:\u001b[0m\u001b[0;34m\u001b[0m\u001b[0;34m\u001b[0m\u001b[0m\n\u001b[1;32m     29\u001b[0m             \u001b[0mstep_length\u001b[0m \u001b[0;34m=\u001b[0m \u001b[0;36m1.0\u001b[0m\u001b[0;34m\u001b[0m\u001b[0;34m\u001b[0m\u001b[0m\n",
            "\u001b[0;32m<ipython-input-6-9c38da334477>\u001b[0m in \u001b[0;36mcompute_steplength_backtracking_scaled_direction\u001b[0;34m(x, n, gradf, D_k, alpha_start, rho, gamma)\u001b[0m\n\u001b[1;32m      9\u001b[0m     \u001b[0malpha\u001b[0m \u001b[0;34m=\u001b[0m \u001b[0malpha_start\u001b[0m\u001b[0;34m\u001b[0m\u001b[0;34m\u001b[0m\u001b[0m\n\u001b[1;32m     10\u001b[0m     \u001b[0mp\u001b[0m \u001b[0;34m=\u001b[0m \u001b[0;34m-\u001b[0m\u001b[0mgradf\u001b[0m\u001b[0;34m\u001b[0m\u001b[0;34m\u001b[0m\u001b[0m\n\u001b[0;32m---> 11\u001b[0;31m     \u001b[0;32mwhile\u001b[0m \u001b[0mevalf\u001b[0m\u001b[0;34m(\u001b[0m\u001b[0mnp\u001b[0m\u001b[0;34m.\u001b[0m\u001b[0madd\u001b[0m\u001b[0;34m(\u001b[0m\u001b[0mx\u001b[0m\u001b[0;34m,\u001b[0m \u001b[0malpha\u001b[0m\u001b[0;34m*\u001b[0m\u001b[0mnp\u001b[0m\u001b[0;34m.\u001b[0m\u001b[0mdot\u001b[0m\u001b[0;34m(\u001b[0m\u001b[0mD_k\u001b[0m\u001b[0;34m,\u001b[0m\u001b[0mp\u001b[0m\u001b[0;34m)\u001b[0m\u001b[0;34m)\u001b[0m\u001b[0;34m,\u001b[0m \u001b[0mn\u001b[0m\u001b[0;34m)\u001b[0m \u001b[0;34m>\u001b[0m \u001b[0mnp\u001b[0m\u001b[0;34m.\u001b[0m\u001b[0msubtract\u001b[0m\u001b[0;34m(\u001b[0m\u001b[0mevalf\u001b[0m\u001b[0;34m(\u001b[0m\u001b[0mx\u001b[0m\u001b[0;34m,\u001b[0m \u001b[0mn\u001b[0m\u001b[0;34m)\u001b[0m\u001b[0;34m,\u001b[0m \u001b[0mgamma\u001b[0m\u001b[0;34m*\u001b[0m\u001b[0malpha\u001b[0m\u001b[0;34m*\u001b[0m\u001b[0mnp\u001b[0m\u001b[0;34m.\u001b[0m\u001b[0mdot\u001b[0m\u001b[0;34m(\u001b[0m\u001b[0mnp\u001b[0m\u001b[0;34m.\u001b[0m\u001b[0mdot\u001b[0m\u001b[0;34m(\u001b[0m\u001b[0mD_k\u001b[0m\u001b[0;34m,\u001b[0m\u001b[0mgradf\u001b[0m\u001b[0;34m)\u001b[0m\u001b[0;34m,\u001b[0m \u001b[0mgradf\u001b[0m\u001b[0;34m)\u001b[0m\u001b[0;34m)\u001b[0m\u001b[0;34m:\u001b[0m\u001b[0;34m\u001b[0m\u001b[0;34m\u001b[0m\u001b[0m\n\u001b[0m\u001b[1;32m     12\u001b[0m \u001b[0;34m\u001b[0m\u001b[0m\n\u001b[1;32m     13\u001b[0m         \u001b[0malpha\u001b[0m \u001b[0;34m=\u001b[0m \u001b[0mrho\u001b[0m\u001b[0;34m*\u001b[0m\u001b[0malpha\u001b[0m\u001b[0;34m\u001b[0m\u001b[0;34m\u001b[0m\u001b[0m\n",
            "\u001b[0;32m<__array_function__ internals>\u001b[0m in \u001b[0;36mdot\u001b[0;34m(*args, **kwargs)\u001b[0m\n",
            "\u001b[0;31mKeyboardInterrupt\u001b[0m: "
          ]
        }
      ]
    },
    {
      "cell_type": "markdown",
      "source": [
        "Note: The code was running for more than 4 hours even after taking a tolerance of $10^{-1}$ but it did not terminate for any value of n so I interrupted execution. This might be because computing inverse of a large Hessian matrix takes a lot of time and here our n (size of matrix) is very large. Also, step length is zero so at each iteration, the value of the objective function is the same, so Newton's method is not a suitable algorithm to find the minimum of this function. Hence, I did not run the next cell also."
      ],
      "metadata": {
        "id": "qZV0wNRb1E4F"
      }
    },
    {
      "cell_type": "code",
      "source": [
        "print(\"Time taken by Newton's method for each n\")\n",
        "print(\"n \\t Time taken\")\n",
        "for i in range(5):\n",
        "  print(n[i],\"\\t\",time_taken_newton[i])"
      ],
      "metadata": {
        "id": "n5JcsWfPIebr"
      },
      "execution_count": null,
      "outputs": []
    },
    {
      "cell_type": "markdown",
      "source": [
        "Answer 6)"
      ],
      "metadata": {
        "id": "B9t6B1s70giL"
      }
    },
    {
      "cell_type": "markdown",
      "source": [
        "Note: I have only plotted times taken by BFGS method and not both because of reasons mentioned above."
      ],
      "metadata": {
        "id": "4j-EFCX7163_"
      }
    },
    {
      "cell_type": "code",
      "source": [
        "#we will plot the function values and check the behavior\n",
        "import matplotlib.pyplot as plt #package useful for plotting\n",
        "plt.plot(n, time_taken_bfgs, '-o', label='BFGS', color='green')\n",
        "#plt.plot(n, time_taken_newton, '-o', label=\"Newton's Method\")\n",
        "plt.xlabel('n')\n",
        "plt.ylabel('Time taken')\n",
        "plt.legend()\n",
        "plt.xticks(n)\n",
        "plt.title(\"Time taken by BFGS method vs n\")\n",
        "plt.show()"
      ],
      "metadata": {
        "colab": {
          "base_uri": "https://localhost:8080/",
          "height": 295
        },
        "id": "h6yFHyY-_cM8",
        "outputId": "06c5d19e-5cc1-416f-9ac3-411244c9bfa6"
      },
      "execution_count": null,
      "outputs": [
        {
          "output_type": "display_data",
          "data": {
            "text/plain": [
              "<Figure size 432x288 with 1 Axes>"
            ],
            "image/png": "[encoded data removed]"
          },
          "metadata": {
            "needs_background": "light"
          }
        }
      ]
    },
    {
      "cell_type": "markdown",
      "source": [
        "Observations:\n",
        "\n",
        "*   Time taken by the BFGS method to find minimizer increases with increase in n.\n",
        "*   The minimum function value is close to zero and the minimizer is close to $[1,1,...,1] \\in R^n$ for all values of n.\n",
        "\n"
      ],
      "metadata": {
        "id": "0er8GcRD2M5K"
      }
    }
  ]
}