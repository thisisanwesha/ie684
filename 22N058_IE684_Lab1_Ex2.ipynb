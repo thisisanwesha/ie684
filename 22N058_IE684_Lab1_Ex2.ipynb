{
  "nbformat": 4,
  "nbformat_minor": 0,
  "metadata": {
    "colab": {
      "provenance": []
    },
    "kernelspec": {
      "name": "python3",
      "display_name": "Python 3"
    }
  },
  "cells": [
    {
      "cell_type": "markdown",
      "metadata": {
        "id": "nVE0Xoa0Q5wE"
      },
      "source": [
        "$\\Large\\textbf{Lab 1 Exercise 2. }$\n",
        "\n",
        "Now we will consider a slightly different algorithm which can be used to find a minimizer of the function $f(\\mathbf{x})=f(x_1,x_2)= (x_1+100)^2 + (x_2-25)^2$. "
      ]
    },
    {
      "cell_type": "markdown",
      "metadata": {
        "id": "0gpe6eGRLvSh"
      },
      "source": [
        "$\\textbf{[R]}$ Write the function $f(\\mathbf{x})$ in the form $\\mathbf{x}^\\top \\mathbf{A} \\mathbf{x} + 2 \\mathbf{b}^\\top \\mathbf{x} + c$, where $\\mathbf{x}\\in {\\mathbb{R}}^2$, $\\mathbf{A}$ is a symmetric matrix of size $2 \\times 2$, $\\mathbf{b}\\in{\\mathbb{R}}^2$ and $c\\in\\mathbb{R}$. \n",
        "\n"
      ]
    },
    {
      "cell_type": "markdown",
      "metadata": {
        "id": "CTPeLBt0L7F7"
      },
      "source": [
        "Answer 1)\n",
        "\n",
        "$\\begin{bmatrix}\n",
        "x_1 & x_2\\\\\n",
        "\\end{bmatrix}\n",
        "*\n",
        "\\begin{bmatrix}\n",
        "1 & 0\\\\\n",
        "0 & 1\n",
        "\\end{bmatrix}\n",
        "*\n",
        "\\begin{bmatrix}\n",
        "x_1\\\\\n",
        "x_2\n",
        "\\end{bmatrix}\n",
        "+2*\n",
        "\\begin{bmatrix}\n",
        "100 & -25\n",
        "\\end{bmatrix}\n",
        "*\n",
        "\\begin{bmatrix}\n",
        "x_1\\\\\n",
        "x_2\n",
        "\\end{bmatrix}\n",
        "+10625$\n",
        "\n",
        "\n",
        "A=$\\begin{bmatrix}\n",
        "1 & 0\\\\\n",
        "0 & 1\n",
        "\\end{bmatrix}$\n",
        "\n",
        "b=$\\begin{bmatrix}\n",
        "100 \\\\\n",
        "-25\n",
        "\\end{bmatrix}$\n",
        "\n",
        "c=10625"
      ]
    },
    {
      "cell_type": "markdown",
      "metadata": {
        "id": "PjANnIQ3L39D"
      },
      "source": [
        "\n",
        "$\\textbf{[R]}$ It turns out that for a function $f:{\\mathbb{R}}^n\\rightarrow \\mathbb{R}$ of the form $f(\\mathbf{x})=\\mathbf{x}^\\top \\mathbf{A} \\mathbf{x} + 2 \\mathbf{b}^\\top \\mathbf{x} + c$, where $\\mathbf{A}\\in{\\mathbb{R}}^{n \\times n}$ is a symmetric matrix, $\\mathbf{b} \\in {\\mathbb{R}}^n$ and $c\\in \\mathbb{R}$, the analytical solution to $\\min_{\\alpha \\geq 0} f(\\mathbf{x} - \\alpha \\nabla f(\\mathbf{x}))$ can be found in closed form. Find the solution. "
      ]
    },
    {
      "cell_type": "markdown",
      "metadata": {
        "id": "4jU-adJ0L-P1"
      },
      "source": [
        "Answer 2)\n",
        "\n",
        "$f(\\mathbf{x})=\\mathbf{x}^\\top \\mathbf{A} \\mathbf{x} + 2 \\mathbf{b}^\\top \\mathbf{x} + c$\n",
        "\n",
        "where $\\mathbf{A}$ is a symmetric matrix.\n",
        "\n",
        "The gradient is given by $ \\nabla f(\\mathbf{x})=2*\\mathbf{A}*\\mathbf{x} + 2 * \\mathbf{b}$\n",
        "\n",
        "We have to compute step length $\\alpha$ that minimizes the function $f(\\mathbf{x} - \\alpha \\nabla f(\\mathbf{x}))$ where $\\alpha \\ge 0$\n",
        "\n",
        "Let g($\\alpha$)=$f(\\mathbf{x} - \\alpha \\nabla f(\\mathbf{x}))$\n",
        "\n",
        "Necessary condition for optimality is $g'(\\alpha)=0$\n",
        "\n",
        "Taking derivative with respect to $\\alpha$\n",
        "\n",
        "$\\frac{d\\ g(\\alpha)}{d \\ \\alpha}$=$\\frac{d(f(\\mathbf{x} - \\alpha \\nabla f(\\mathbf{x}))}{d(\\mathbf{x} - \\alpha \\nabla f(\\mathbf{x}))}*\\frac{d(\\mathbf{x} - \\alpha \\nabla f(\\mathbf{x}))}{d\\alpha}=0$\n",
        "\n",
        "By chain rule \n",
        "\n",
        "$\\Rightarrow (\\nabla f(\\mathbf{x} - \\alpha \\nabla f(\\mathbf{x})))^\\top*\\nabla f(\\mathbf{x})=0 $\n",
        "\n",
        "Taking transpose both side \n",
        "\n",
        "$\\Rightarrow (\\nabla f(\\mathbf{x}))^\\top*(\\nabla f(\\mathbf{x} - \\alpha \\nabla f(\\mathbf{x})))=0 $\n",
        "\n",
        "since $  \\nabla f(\\mathbf{x})=2*\\mathbf{A}*\\mathbf{x} + 2 * \\mathbf{b}$ \n",
        "\n",
        "$\\Rightarrow (\\nabla f(\\mathbf{x}))^\\top*[2*A*(\\mathbf{x} - \\alpha \\nabla f(\\mathbf{x}))+2*b]=0 $\n",
        "\n",
        "$\\Rightarrow (\\nabla f(\\mathbf{x}))^\\top*A*\\mathbf{x} -\\alpha * (\\nabla f(\\mathbf{x}))^\\top * A * (\\nabla f(\\mathbf{x})) + (\\nabla f(\\mathbf{x}))^\\top*\\mathbf{b}=0$\n",
        "\n",
        "$\\Rightarrow \\alpha * (\\nabla f(\\mathbf{x}))^\\top * A * (\\nabla f(\\mathbf{x}))=(\\nabla f(\\mathbf{x}))^\\top * A* \\mathbf{x}+(\\nabla f(\\mathbf{x}))^\\top * \\mathbf{b}$\n",
        "\n",
        "$\\Rightarrow \\alpha=\\frac{(\\nabla f(\\mathbf{x}))^\\top * A* \\mathbf{x}+(\\nabla f(\\mathbf{x}))^\\top * \\mathbf{b}}{(\\nabla f(\\mathbf{x}))^\\top * A * (\\nabla f(\\mathbf{x}))}$\n",
        "\n",
        "$\\Rightarrow \\alpha=\\frac{(\\nabla f(\\mathbf{x}))^\\top * (A* \\mathbf{x}+\\mathbf{b})}{(\\nabla f(\\mathbf{x}))^\\top * A * (\\nabla f(\\mathbf{x}))}$\n",
        "\n",
        "$\\Rightarrow \\alpha=\\frac{(\\nabla f(\\mathbf{x}))^\\top \\nabla f(\\mathbf{x})}{2(\\nabla f(\\mathbf{x}))^\\top * A * (\\nabla f(\\mathbf{x}))}$\n",
        "\n",
        "where $\\nabla f(\\mathbf{x})=2*\\mathbf{A}*\\mathbf{x} + 2 * \\mathbf{b}$\n",
        "\n",
        "Now we have to prove that $\\alpha $ is minimizer by showing\n",
        "\n",
        "$\\frac{d^2 (g(\\alpha))}{d\\alpha^2}>0 $\n",
        "\n",
        "$\\nabla^2f(\\mathbf(x))=2*A $ \n",
        "\n",
        "which is symmetric and positive definite\n",
        "\n",
        "$\\Rightarrow \\alpha$ is minimizer"
      ]
    },
    {
      "cell_type": "markdown",
      "metadata": {
        "id": "YVkab74DJsRL"
      },
      "source": [
        "We will use this idea to construct a suitable step length finding procedure for our modified algorithm given below: \n",
        "\n",
        "\n",
        "\\begin{align}\n",
        "& \\textbf{Input:} \\text{ Starting point $x^0$, Stopping tolerance $\\tau$}  \\\\\n",
        "& \\textbf{Initialize } k=0 \\\\ \n",
        "&\\textbf{While } \\| \\nabla f(\\mathbf{x}^k) \\|_2 > \\tau \\text{ do:}  \\\\   \n",
        "&\\quad \\quad \\eta^k = \\arg\\min_{\\eta\\geq 0} f(\\mathbf{x}^k - \\eta  \\nabla f(\\mathbf{x}^k)) \\\\\n",
        "&\\quad \\quad \\mathbf{x}^{k+1} \\leftarrow \\mathbf{x}^k - \\eta^k \\nabla f(\\mathbf{x}^k)  \\\\ \n",
        "&\\quad \\quad k = {k+1} \\\\ \n",
        "&\\textbf{End While} \\\\\n",
        "&\\textbf{Output: } \\mathbf{x}^k\n",
        "\\end{align}"
      ]
    },
    {
      "cell_type": "code",
      "metadata": {
        "id": "KJq7tIgIRroP"
      },
      "source": [
        "#numpy package will be used for most of our lab exercises. Please have a look at https://numpy.org/doc/stable/ for numpy documentation\n",
        "#we will first import the numpy package and name it as np\n",
        "import numpy as np \n",
        "#Henceforth, we can lazily use np to denote the much longer numpy !! "
      ],
      "execution_count": 20,
      "outputs": []
    },
    {
      "cell_type": "code",
      "metadata": {
        "id": "GZjX2IwOR8_X"
      },
      "source": [
        "#Now we will define a function which will compute and return the function value \n",
        "def evalf(x):  \n",
        "  #Input: x is a numpy array of size 2 \n",
        "  assert type(x) is np.ndarray and len(x) == 2 #do not allow arbitrary arguments \n",
        "  #after checking if the argument is valid, we can compute the objective function value\n",
        "  return (x[0]+100)**2 + (x[1]-25)**2\n"
      ],
      "execution_count": 21,
      "outputs": []
    },
    {
      "cell_type": "code",
      "metadata": {
        "id": "6klpwtDra_I8"
      },
      "source": [
        "#Now we will define a function which will compute and return the gradient value as a numpy array \n",
        "def evalg(x):  \n",
        "  #Input: x is a numpy array of size 2 \n",
        "  assert type(x) is np.ndarray and len(x) == 2 #do not allow arbitrary arguments \n",
        "  #after checking if the argument is valid, we can compute the gradient value\n",
        "  return np.array([2*(x[0]+100),2*(x[1]-25)])"
      ],
      "execution_count": 22,
      "outputs": []
    },
    {
      "cell_type": "code",
      "metadata": {
        "id": "f3blM08V0HOl"
      },
      "source": [
        "#Complete the module to compute the steplength\n",
        "def compute_steplength(x): #add appropriate arguments to the function \n",
        "  #Complete the code\n",
        "  A=np.array([[1,0],[0,1]])\n",
        "  num=np.dot(evalg(x),evalg(x))\n",
        "  deno=np.dot(np.dot(evalg(x),A),evalg(x))\n",
        "  step_length=num/(2*deno)\n",
        "  return step_length"
      ],
      "execution_count": 23,
      "outputs": []
    },
    {
      "cell_type": "code",
      "metadata": {
        "id": "3SCJdqivdpxx"
      },
      "source": [
        "def find_minimizer(start_x, tol):\n",
        "  #Input: start_x is a numpy array of size 2, tol denotes the tolerance and is a positive float value\n",
        "  assert type(start_x) is np.ndarray and len(start_x) == 2 #do not allow arbitrary arguments \n",
        "  assert type(tol) is float and tol>=0 \n",
        "  x = start_x\n",
        "  g_x = evalg(x)\n",
        "  k = 0\n",
        "  print('iter:',k, ' x:', x, ' f(x):', evalf(x), ' grad at x:', g_x, ' gradient norm:', np.linalg.norm(g_x))\n",
        "\n",
        "  while (np.linalg.norm(g_x) > tol): #continue as long as the norm of gradient is not close to zero upto a tolerance tol\n",
        "    step_length = compute_steplength(x) #call the new function you wrote to compute the steplength\n",
        "    x = np.subtract(x, np.multiply(step_length,g_x)) #update x = x - step_length*g_x\n",
        "    k += 1 #increment iteration\n",
        "    g_x = evalg(x) #compute gradient at new point\n",
        "    print('iter:',k, ' x:', x, ' f(x):', evalf(x), ' grad at x:', g_x, ' gradient norm:', np.linalg.norm(g_x))\n",
        "  return k\n"
      ],
      "execution_count": 24,
      "outputs": []
    },
    {
      "cell_type": "code",
      "metadata": {
        "id": "n-kHCkbwe-M4",
        "colab": {
          "base_uri": "https://localhost:8080/"
        },
        "outputId": "49264590-5d5e-457b-8299-458bf6548323"
      },
      "source": [
        "my_start_x = np.array([10,10])\n",
        "my_tol= 1e-3\n",
        "find_minimizer(my_start_x, my_tol)"
      ],
      "execution_count": 25,
      "outputs": [
        {
          "output_type": "stream",
          "name": "stdout",
          "text": [
            "iter: 0  x: [10 10]  f(x): 12325  grad at x: [220 -30]  gradient norm: 222.03603311174518\n",
            "iter: 1  x: [-100.   25.]  f(x): 0.0  grad at x: [0. 0.]  gradient norm: 0.0\n"
          ]
        },
        {
          "output_type": "execute_result",
          "data": {
            "text/plain": [
              "1"
            ]
          },
          "metadata": {},
          "execution_count": 25
        }
      ]
    },
    {
      "cell_type": "code",
      "source": [
        "my_start_x = np.array([10,10])\n",
        "my_tol= [10**(-(p+1)) for p in range(10)]\n",
        "iters=[]\n",
        "for i in my_tol:\n",
        "  iters.append(find_minimizer(my_start_x,i))"
      ],
      "metadata": {
        "colab": {
          "base_uri": "https://localhost:8080/"
        },
        "id": "fQhI2zDdOU6H",
        "outputId": "6308a2e0-9e2c-4267-8c8b-a1ad34feef4a"
      },
      "execution_count": 27,
      "outputs": [
        {
          "output_type": "stream",
          "name": "stdout",
          "text": [
            "iter: 0  x: [10 10]  f(x): 12325  grad at x: [220 -30]  gradient norm: 222.03603311174518\n",
            "iter: 1  x: [-100.   25.]  f(x): 0.0  grad at x: [0. 0.]  gradient norm: 0.0\n",
            "iter: 0  x: [10 10]  f(x): 12325  grad at x: [220 -30]  gradient norm: 222.03603311174518\n",
            "iter: 1  x: [-100.   25.]  f(x): 0.0  grad at x: [0. 0.]  gradient norm: 0.0\n",
            "iter: 0  x: [10 10]  f(x): 12325  grad at x: [220 -30]  gradient norm: 222.03603311174518\n",
            "iter: 1  x: [-100.   25.]  f(x): 0.0  grad at x: [0. 0.]  gradient norm: 0.0\n",
            "iter: 0  x: [10 10]  f(x): 12325  grad at x: [220 -30]  gradient norm: 222.03603311174518\n",
            "iter: 1  x: [-100.   25.]  f(x): 0.0  grad at x: [0. 0.]  gradient norm: 0.0\n",
            "iter: 0  x: [10 10]  f(x): 12325  grad at x: [220 -30]  gradient norm: 222.03603311174518\n",
            "iter: 1  x: [-100.   25.]  f(x): 0.0  grad at x: [0. 0.]  gradient norm: 0.0\n",
            "iter: 0  x: [10 10]  f(x): 12325  grad at x: [220 -30]  gradient norm: 222.03603311174518\n",
            "iter: 1  x: [-100.   25.]  f(x): 0.0  grad at x: [0. 0.]  gradient norm: 0.0\n",
            "iter: 0  x: [10 10]  f(x): 12325  grad at x: [220 -30]  gradient norm: 222.03603311174518\n",
            "iter: 1  x: [-100.   25.]  f(x): 0.0  grad at x: [0. 0.]  gradient norm: 0.0\n",
            "iter: 0  x: [10 10]  f(x): 12325  grad at x: [220 -30]  gradient norm: 222.03603311174518\n",
            "iter: 1  x: [-100.   25.]  f(x): 0.0  grad at x: [0. 0.]  gradient norm: 0.0\n",
            "iter: 0  x: [10 10]  f(x): 12325  grad at x: [220 -30]  gradient norm: 222.03603311174518\n",
            "iter: 1  x: [-100.   25.]  f(x): 0.0  grad at x: [0. 0.]  gradient norm: 0.0\n",
            "iter: 0  x: [10 10]  f(x): 12325  grad at x: [220 -30]  gradient norm: 222.03603311174518\n",
            "iter: 1  x: [-100.   25.]  f(x): 0.0  grad at x: [0. 0.]  gradient norm: 0.0\n"
          ]
        }
      ]
    },
    {
      "cell_type": "code",
      "source": [
        "import matplotlib.pyplot as plt\n",
        "plt.plot(my_tol,iters)\n",
        "plt.xlabel('Stopping tolerance values')\n",
        "plt.ylabel('Number of iterations')\n",
        "plt.show()"
      ],
      "metadata": {
        "colab": {
          "base_uri": "https://localhost:8080/",
          "height": 279
        },
        "id": "PZHEa8e7OXCX",
        "outputId": "f144104b-aa4d-4b5a-aa42-0d498deaaa75"
      },
      "execution_count": 28,
      "outputs": [
        {
          "output_type": "display_data",
          "data": {
            "text/plain": [
              "<Figure size 432x288 with 1 Axes>"
            ],
            "image/png": "[encoded data removed]"
          },
          "metadata": {
            "needs_background": "light"
          }
        }
      ]
    },
    {
      "cell_type": "markdown",
      "source": [
        "Answer 4) In exercise 1, as stopping tolerance values decreased, maximum number of iterations taken by the algorithm to terminate increased. Here, algorithm terminates after one iteration even if we change the stopping tolerance values."
      ],
      "metadata": {
        "id": "TievIqYGWPP4"
      }
    }
  ]
}