{
  "nbformat": 4,
  "nbformat_minor": 0,
  "metadata": {
    "colab": {
      "provenance": []
    },
    "kernelspec": {
      "name": "python3",
      "display_name": "Python 3"
    },
    "language_info": {
      "name": "python"
    }
  },
  "cells": [
    {
      "cell_type": "code",
      "source": [
        "import numpy as np "
      ],
      "metadata": {
        "id": "gu4A5xqLuITN"
      },
      "execution_count": null,
      "outputs": []
    },
    {
      "cell_type": "markdown",
      "source": [
        "### Answer 1)"
      ],
      "metadata": {
        "id": "CVoIWPLX4FZy"
      }
    },
    {
      "cell_type": "code",
      "source": [
        "#we will load the iris data from scikit-learn package\n",
        "from sklearn.datasets import load_iris\n",
        "iris = load_iris()"
      ],
      "metadata": {
        "id": "i5uw7seHvP84"
      },
      "execution_count": null,
      "outputs": []
    },
    {
      "cell_type": "code",
      "source": [
        "#check the shape of iris data\n",
        "print(iris.data.shape)\n",
        "A=iris.data"
      ],
      "metadata": {
        "colab": {
          "base_uri": "https://localhost:8080/"
        },
        "id": "c81iAp2IvScY",
        "outputId": "920d9e06-e939-41a4-957d-0d7e24d9c23c"
      },
      "execution_count": null,
      "outputs": [
        {
          "output_type": "stream",
          "name": "stdout",
          "text": [
            "(150, 4)\n"
          ]
        }
      ]
    },
    {
      "cell_type": "code",
      "source": [
        "#check the shape of iris target\n",
        "print(iris.target.shape)"
      ],
      "metadata": {
        "colab": {
          "base_uri": "https://localhost:8080/"
        },
        "id": "IUohOs36vTzo",
        "outputId": "a3a3070d-13cc-4497-9ced-4491a6656597"
      },
      "execution_count": null,
      "outputs": [
        {
          "output_type": "stream",
          "name": "stdout",
          "text": [
            "(150,)\n"
          ]
        }
      ]
    },
    {
      "cell_type": "code",
      "source": [
        "#How many labels does iris data have?\n",
        "#C=num of classes\n",
        "#print(C)\n",
        "\n",
        "classes = np.unique(iris.target)\n",
        "C = len(classes)\n",
        "\n",
        "print(\"Number of classes:\", C)\n",
        "print(\"Classes:\", classes)"
      ],
      "metadata": {
        "colab": {
          "base_uri": "https://localhost:8080/"
        },
        "id": "JdaPwyKbvWUD",
        "outputId": "4afa0ef2-b5fb-42e6-ae6a-0cae576456fb"
      },
      "execution_count": null,
      "outputs": [
        {
          "output_type": "stream",
          "name": "stdout",
          "text": [
            "Number of classes: 3\n",
            "Classes: [0 1 2]\n"
          ]
        }
      ]
    },
    {
      "cell_type": "code",
      "source": [
        "n = iris.data.shape[0]         #Number of data points\n",
        "d = iris.data.shape[1]         #Dimension of data points"
      ],
      "metadata": {
        "id": "ZDMvRIFywUo9"
      },
      "execution_count": null,
      "outputs": []
    },
    {
      "cell_type": "markdown",
      "source": [
        "### Answer 1b)"
      ],
      "metadata": {
        "id": "2ufVCoiH4RMr"
      }
    },
    {
      "cell_type": "code",
      "source": [
        "#In the following code, we create a nx1 vector of target labels\n",
        "y = 1.0*np.ones([A.shape[0],])\n",
        "\n",
        "for i in range(iris.target.shape[0]):\n",
        "  y[i]= (-1, 1) [iris.target[i] == 1]"
      ],
      "metadata": {
        "colab": {
          "base_uri": "https://localhost:8080/"
        },
        "id": "WB7knUvbvrAr",
        "outputId": "c3608104-3297-4e56-ef75-64a84c67384b"
      },
      "execution_count": null,
      "outputs": [
        {
          "output_type": "stream",
          "name": "stderr",
          "text": [
            "<ipython-input-18-059ee59e59b1>:5: DeprecationWarning: In future, it will be an error for 'np.bool_' scalars to be interpreted as an index\n",
            "  y[i]= (-1, 1) [iris.target[i] == 1]\n"
          ]
        }
      ]
    },
    {
      "cell_type": "code",
      "source": [
        "print(y)"
      ],
      "metadata": {
        "colab": {
          "base_uri": "https://localhost:8080/"
        },
        "id": "VfcomdXW8eIy",
        "outputId": "6123ea3e-d231-4376-baf1-e00d18f4c9e7"
      },
      "execution_count": null,
      "outputs": [
        {
          "output_type": "stream",
          "name": "stdout",
          "text": [
            "[-1. -1. -1. -1. -1. -1. -1. -1. -1. -1. -1. -1. -1. -1. -1. -1. -1. -1.\n",
            " -1. -1. -1. -1. -1. -1. -1. -1. -1. -1. -1. -1. -1. -1. -1. -1. -1. -1.\n",
            " -1. -1. -1. -1. -1. -1. -1. -1. -1. -1. -1. -1. -1. -1.  1.  1.  1.  1.\n",
            "  1.  1.  1.  1.  1.  1.  1.  1.  1.  1.  1.  1.  1.  1.  1.  1.  1.  1.\n",
            "  1.  1.  1.  1.  1.  1.  1.  1.  1.  1.  1.  1.  1.  1.  1.  1.  1.  1.\n",
            "  1.  1.  1.  1.  1.  1.  1.  1.  1.  1. -1. -1. -1. -1. -1. -1. -1. -1.\n",
            " -1. -1. -1. -1. -1. -1. -1. -1. -1. -1. -1. -1. -1. -1. -1. -1. -1. -1.\n",
            " -1. -1. -1. -1. -1. -1. -1. -1. -1. -1. -1. -1. -1. -1. -1. -1. -1. -1.\n",
            " -1. -1. -1. -1. -1. -1.]\n"
          ]
        }
      ]
    },
    {
      "cell_type": "code",
      "source": [
        "# Create an index array\n",
        "indexarr = np.arange(n)        ## index array\n",
        "np.random.shuffle(indexarr)    ## shuffle the indices\n",
        "print(indexarr) #check indexarr after shuffling"
      ],
      "metadata": {
        "colab": {
          "base_uri": "https://localhost:8080/"
        },
        "id": "S4qIund3wCH7",
        "outputId": "255943ac-c365-48e0-9969-fa7774cb508e"
      },
      "execution_count": null,
      "outputs": [
        {
          "output_type": "stream",
          "name": "stdout",
          "text": [
            "[123  48 128  24 144 142 126  64  19  57  34  18  41 137 132 106  92 117\n",
            "  60 104  82  96 122  83  46  71  30  77  56  58 148  45 131  15  52  93\n",
            " 138  22   6  42  74  51  20  43  87  66  85  75 115  29  32 136  37  39\n",
            "   7  49  44  61  35 139  27   8 119  16   2 107  89  23  10  54  14  99\n",
            " 109 146 100 121 113   9  55 103  95  98  28  76  91  94  33  73 116  36\n",
            "  67  31 130  68   4  65  97 133 140   5  53  80  88 145  38 118  17  12\n",
            "  50  81  63  69 134  40  79  84 125  25   3  78   1 143 147 129 102 108\n",
            "  21 141  86 110 149 120 135  70 101  59  47 112 127  11 124  13 114 111\n",
            "  90  62  26  72 105   0]\n"
          ]
        }
      ]
    },
    {
      "cell_type": "markdown",
      "source": [
        "### Answer 1c)"
      ],
      "metadata": {
        "id": "pTFyJicX4Uln"
      }
    },
    {
      "cell_type": "code",
      "source": [
        "# Use the first 80% of indexarr to create the train data and the remaining 20% to create the test data\n",
        "split = int(0.8*len(indexarr))\n",
        "\n",
        "train_data = np.array([iris.data[i] for i in indexarr[:split]])\n",
        "train_label = np.array([y[i] for i in indexarr[:split]])\n",
        "test_data = np.array([iris.data[i] for i in indexarr[split:]])\n",
        "test_label = np.array([y[i] for i in indexarr[split:]])"
      ],
      "metadata": {
        "id": "qErD7XLrwGLa"
      },
      "execution_count": null,
      "outputs": []
    },
    {
      "cell_type": "markdown",
      "source": [
        "### Answer 1e)"
      ],
      "metadata": {
        "id": "abwz4yNK4Yh-"
      }
    },
    {
      "cell_type": "code",
      "source": [
        "def predict(w, x):\n",
        "    return np.sign(np.dot(w.T, x))"
      ],
      "metadata": {
        "id": "Ds3kMLt4wX-P"
      },
      "execution_count": null,
      "outputs": []
    },
    {
      "cell_type": "markdown",
      "source": [
        "### Answer 1f)"
      ],
      "metadata": {
        "id": "piXGwhEP4a6W"
      }
    },
    {
      "cell_type": "code",
      "source": [
        "def accuracy(w, data, label):\n",
        "    count = 0\n",
        "    for i in range(data.shape[0]):\n",
        "        if label[i,:] == predict(w, data[i,:]):\n",
        "            count = count + 1\n",
        "    acc = count*100/data.shape[0]\n",
        "    return acc"
      ],
      "metadata": {
        "id": "UbOZeWgDwZU8"
      },
      "execution_count": null,
      "outputs": []
    },
    {
      "cell_type": "code",
      "source": [
        "#print(\"Accuracy of train data:\", accuracy(w, train_data, train_label))"
      ],
      "metadata": {
        "id": "QB_it-zlzSnw"
      },
      "execution_count": null,
      "outputs": []
    },
    {
      "cell_type": "code",
      "source": [
        "#print(\"Accuracy of test data:\", accuracy(w, test_data, test_label))"
      ],
      "metadata": {
        "id": "NEoIqAlV1B21"
      },
      "execution_count": null,
      "outputs": []
    }
  ]
}