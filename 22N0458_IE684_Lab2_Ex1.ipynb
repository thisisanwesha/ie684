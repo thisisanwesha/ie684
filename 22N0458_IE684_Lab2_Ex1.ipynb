{
  "nbformat": 4,
  "nbformat_minor": 0,
  "metadata": {
    "colab": {
      "provenance": []
    },
    "kernelspec": {
      "name": "python3",
      "display_name": "Python 3"
    }
  },
  "cells": [
    {
      "cell_type": "markdown",
      "metadata": {
        "id": "nVE0Xoa0Q5wE"
      },
      "source": [
        "$\\Large\\textbf{Lab 2. Exercise 1. }$\n",
        "\n"
      ]
    },
    {
      "cell_type": "code",
      "metadata": {
        "id": "KJq7tIgIRroP"
      },
      "source": [
        "#numpy package will be used for most of our lab exercises. Please have a look at Please have a look at https://numpy.org/doc/stable/ for numpy documentation\n",
        "#we will first import the numpy package and name it as np\n",
        "import numpy as np \n",
        "#Henceforth, we can lazily use np to denote the much longer numpy !! "
      ],
      "execution_count": 1,
      "outputs": []
    },
    {
      "cell_type": "code",
      "metadata": {
        "id": "GZjX2IwOR8_X"
      },
      "source": [
        "#Now we will define a function which will compute and return the function value \n",
        "def evalf(x):  \n",
        "  #Input: x is a numpy array of size 2 \n",
        "  assert type(x) is np.ndarray and len(x) == 2 #do not allow arbitrary arguments \n",
        "  #after checking if the argument is valid, we can compute the objective function value\n",
        "  #compute the function value and return it \n",
        "  return (x[1]+12)**2 + (-8+x[0])**2"
      ],
      "execution_count": 2,
      "outputs": []
    },
    {
      "cell_type": "code",
      "metadata": {
        "id": "6klpwtDra_I8"
      },
      "source": [
        "#Now we will define a function which will compute and return the gradient value as a numpy array \n",
        "def evalg(x):  \n",
        "  #Input: x is a numpy array of size 2 \n",
        "  assert type(x) is np.ndarray and len(x) == 2 #do not allow arbitrary arguments \n",
        "  #after checking if the argument is valid, we can compute the gradient value\n",
        "  #compute the gradient value and return it \n",
        "  return np.array([2*(x[0]-8), 2*(x[1]+12)])"
      ],
      "execution_count": 3,
      "outputs": []
    },
    {
      "cell_type": "code",
      "metadata": {
        "id": "f3blM08V0HOl"
      },
      "source": [
        "#Complete the module to compute the steplength by using the closed-form expression\n",
        "def compute_steplength_exact(gradf, A): #add appropriate arguments to the function \n",
        "  assert type(gradf) is np.ndarray and len(gradf) == 2 \n",
        "  assert type(A) is np.ndarray and A.shape[0] == 2 and  A.shape[1] == 2 #allow only a 2x2 array\n",
        "   \n",
        "  #Complete the code to compute step length\n",
        "  nume=np.matmul(gradf.transpose(),gradf)\n",
        "  deno=np.matmul(np.matmul(gradf.transpose(),A),gradf)\n",
        "  step_length=nume/(2*deno)  \n",
        "  return step_length"
      ],
      "execution_count": 4,
      "outputs": []
    },
    {
      "cell_type": "code",
      "metadata": {
        "id": "PGunDYy6Q21S"
      },
      "source": [
        "#Complete the module to compute the steplength by using the backtracking line search\n",
        "def compute_steplength_backtracking(x, gradf, alpha_start, rho, gamma): #add appropriate arguments to the function \n",
        "  assert type(x) is np.ndarray and len(gradf) == 2 \n",
        "  assert type(gradf) is np.ndarray and len(gradf) == 2 \n",
        "  \n",
        "  alpha = alpha_start\n",
        "  pk=-gradf\n",
        "  #implement the backtracking line search\n",
        "  while evalf(x+alpha*pk)>evalf(x)+gamma*alpha*np.matmul(gradf.T,pk):\n",
        "    alpha=rho*alpha\n",
        "\n",
        "  #print('final step length:',alpha)\n",
        "  return alpha"
      ],
      "execution_count": 5,
      "outputs": []
    },
    {
      "cell_type": "code",
      "metadata": {
        "id": "WaUUdzLtVSCl"
      },
      "source": [
        "#we define the types of line search methods that we have implemented\n",
        "EXACT_LINE_SEARCH = 1\n",
        "BACKTRACKING_LINE_SEARCH = 2\n",
        "CONSTANT_STEP_LENGTH = 3"
      ],
      "execution_count": 6,
      "outputs": []
    },
    {
      "cell_type": "code",
      "metadata": {
        "id": "3SCJdqivdpxx"
      },
      "source": [
        "def find_minimizer(start_x, tol, line_search_type, *args):\n",
        "  #Input: start_x is a numpy array of size 2, tol denotes the tolerance and is a positive float value\n",
        "  assert type(start_x) is np.ndarray and len(start_x) == 2 #do not allow arbitrary arguments \n",
        "  assert type(tol) is float and tol>=0 \n",
        "  # construct a suitable A matrix for the quadratic function \n",
        "  A = np.array([[1, 0],[0,1]])\n",
        "  x = start_x\n",
        "  g_x = evalg(x)\n",
        "\n",
        "  #initialization for backtracking line search\n",
        "  if(line_search_type == BACKTRACKING_LINE_SEARCH):\n",
        "    alpha_start = args[0]\n",
        "    rho = args[1]\n",
        "    gamma = args[2]\n",
        "    #print('Params for Backtracking LS: alpha start:', alpha_start, 'rho:', rho,' gamma:', gamma)\n",
        "\n",
        "  k = 0\n",
        "  #print('iter:',k, ' x:', x, ' f(x):', evalf(x), ' grad at x:', g_x, ' gradient norm:', np.linalg.norm(g_x))\n",
        "\n",
        "  while (np.linalg.norm(g_x) > tol): #continue as long as the norm of gradient is not close to zero upto a tolerance tol\n",
        "  \n",
        "    if line_search_type == EXACT_LINE_SEARCH:\n",
        "      step_length = compute_steplength_exact(g_x, A) #call the new function you wrote to compute the steplength\n",
        "      #raise ValueError('EXACT LINE SEARCH NOT YET IMPLEMENTED')\n",
        "    elif line_search_type == BACKTRACKING_LINE_SEARCH:\n",
        "      step_length = compute_steplength_backtracking(x,g_x, alpha_start,rho, gamma) #call the new function you wrote to compute the steplength\n",
        "      #raise ValueError('BACKTRACKING LINE SEARCH NOT YET IMPLEMENTED')\n",
        "    elif line_search_type == CONSTANT_STEP_LENGTH: #do a gradient descent with constant step length\n",
        "      step_length = 0.1\n",
        "    else:  \n",
        "      raise ValueError('Line search type unknown. Please check!')\n",
        "    \n",
        "    #implement the gradient descent steps here   \n",
        "    x = np.subtract(x, np.multiply(step_length,g_x)) #update x = x - step_length*g_x\n",
        "    k += 1 #increment iteration\n",
        "    g_x = evalg(x) #compute gradient at new point\n",
        "\n",
        "    #print('iter:',k, ' x:', x, ' f(x):', evalf(x), ' grad at x:', g_x, ' gradient norm:', np.linalg.norm(g_x))\n",
        "  return x, k, evalf(x)\n"
      ],
      "execution_count": 7,
      "outputs": []
    },
    {
      "cell_type": "markdown",
      "source": [
        "Code for answer 3"
      ],
      "metadata": {
        "id": "b53YC_MxeC5A"
      }
    },
    {
      "cell_type": "code",
      "metadata": {
        "id": "n-kHCkbwe-M4"
      },
      "source": [
        "my_start_x = np.array([1,1])\n",
        "my_tol= 1e-5"
      ],
      "execution_count": 8,
      "outputs": []
    },
    {
      "cell_type": "code",
      "source": [
        "x_opt_const, iter_const, f_const = find_minimizer(my_start_x, my_tol, CONSTANT_STEP_LENGTH)\n",
        "print(\"Minimizer =\", x_opt_const)\n",
        "print(\"Minimum function value =\", f_const)\n",
        "print(\"No of iterations =\", iter_const)"
      ],
      "metadata": {
        "colab": {
          "base_uri": "https://localhost:8080/"
        },
        "id": "bTH2CJkMbrrN",
        "outputId": "29d9a050-b70d-4e7f-9b53-911cc52dbe45"
      },
      "execution_count": 9,
      "outputs": [
        {
          "output_type": "stream",
          "name": "stdout",
          "text": [
            "Minimizer = [  7.99999775 -11.99999582]\n",
            "Minimum function value = 2.2517218946096954e-11\n",
            "No of iterations = 67\n"
          ]
        }
      ]
    },
    {
      "cell_type": "code",
      "source": [
        "x_opt_exact, iter_exact, f_exact = find_minimizer(my_start_x, my_tol, EXACT_LINE_SEARCH)\n",
        "print(\"Minimizer =\", x_opt_exact)\n",
        "print(\"Minimum function value =\", f_exact)\n",
        "print(\"No of iterations =\", iter_exact)"
      ],
      "metadata": {
        "colab": {
          "base_uri": "https://localhost:8080/"
        },
        "id": "pr794bWOcsDf",
        "outputId": "93babfa4-6105-4e69-d0e7-9fb9aefc3e72"
      },
      "execution_count": 10,
      "outputs": [
        {
          "output_type": "stream",
          "name": "stdout",
          "text": [
            "Minimizer = [  8. -12.]\n",
            "Minimum function value = 0.0\n",
            "No of iterations = 1\n"
          ]
        }
      ]
    },
    {
      "cell_type": "code",
      "source": [
        "#check what happens when you call find_minimzer using backtracking line search\n",
        "x_opt_bls, iter_bls, f_bls = find_minimizer(my_start_x, my_tol, BACKTRACKING_LINE_SEARCH, 1, 0.5,0.5)\n",
        "print(\"Minimizer =\", x_opt_bls)\n",
        "print(\"Minimum function value =\", f_bls)\n",
        "print(\"No of iterations =\", iter_bls)"
      ],
      "metadata": {
        "colab": {
          "base_uri": "https://localhost:8080/"
        },
        "id": "zzjvxh3Bbt-3",
        "outputId": "d55f4801-3b05-4a85-bbc8-ead9b2d760fa"
      },
      "execution_count": 11,
      "outputs": [
        {
          "output_type": "stream",
          "name": "stdout",
          "text": [
            "Minimizer = [  8. -12.]\n",
            "Minimum function value = 0.0\n",
            "No of iterations = 1\n"
          ]
        }
      ]
    },
    {
      "cell_type": "markdown",
      "source": [
        "Code for answer 4"
      ],
      "metadata": {
        "id": "t9U6ZbbleFzu"
      }
    },
    {
      "cell_type": "code",
      "source": [
        "my_start_x = np.array([25,25])\n",
        "my_tol= 10**-(12)"
      ],
      "metadata": {
        "id": "L4AixHAccB40"
      },
      "execution_count": 12,
      "outputs": []
    },
    {
      "cell_type": "code",
      "source": [
        "x_opt_exact, iter_exact, f_exact = find_minimizer(my_start_x, my_tol, EXACT_LINE_SEARCH)\n",
        "print(\"Minimizer =\", x_opt_exact)\n",
        "print(\"Minimum function value =\", f_exact)\n",
        "print(\"No of iterations =\", iter_exact)"
      ],
      "metadata": {
        "id": "rCObvsDtNNJj",
        "colab": {
          "base_uri": "https://localhost:8080/"
        },
        "outputId": "03cd66c3-75cd-4234-a947-0bb6d8714e88"
      },
      "execution_count": 13,
      "outputs": [
        {
          "output_type": "stream",
          "name": "stdout",
          "text": [
            "Minimizer = [  8. -12.]\n",
            "Minimum function value = 0.0\n",
            "No of iterations = 1\n"
          ]
        }
      ]
    },
    {
      "cell_type": "code",
      "source": [
        "x_opt_bls, iter_bls, f_bls = find_minimizer(my_start_x, my_tol, BACKTRACKING_LINE_SEARCH, 1, 0.5,0.5)\n",
        "print(\"Minimizer =\", x_opt_bls)\n",
        "print(\"Minimum function value =\", f_bls)\n",
        "print(\"No of iterations =\", iter_bls)"
      ],
      "metadata": {
        "id": "Zr38VIocNPz0",
        "colab": {
          "base_uri": "https://localhost:8080/"
        },
        "outputId": "fe929071-8dac-4cce-b468-843c7e82f904"
      },
      "execution_count": 14,
      "outputs": [
        {
          "output_type": "stream",
          "name": "stdout",
          "text": [
            "Minimizer = [  8. -12.]\n",
            "Minimum function value = 0.0\n",
            "No of iterations = 1\n"
          ]
        }
      ]
    },
    {
      "cell_type": "markdown",
      "source": [
        "Code for answer 5"
      ],
      "metadata": {
        "id": "Syvu8ZU5eImp"
      }
    },
    {
      "cell_type": "code",
      "source": [
        "my_start_x = np.array([25,25])\n",
        "my_tol= 10**-(10)"
      ],
      "metadata": {
        "id": "_ck3Tab2M_i8"
      },
      "execution_count": 15,
      "outputs": []
    },
    {
      "cell_type": "code",
      "source": [
        "alpha=[1, 0.9, 0.75, 0.6, 0.5, 0.4, 0.25, 0.1, 0.01]\n",
        "iter5=[]\n",
        "print(\"Alpha \\t Minimizer \\t Minimum function value \\t No of iterations\")\n",
        "for i in alpha:\n",
        "  x_opt_bls, iter_bls, f_bls = find_minimizer(my_start_x, my_tol, BACKTRACKING_LINE_SEARCH, i, 0.5,0.5)\n",
        "  iter5.append(iter_bls)\n",
        "  print(i,\"\\t\", x_opt_bls, \"\\t\", f_bls, \"\\t\", iter_bls)"
      ],
      "metadata": {
        "colab": {
          "base_uri": "https://localhost:8080/"
        },
        "id": "D8-OnUIcfBMr",
        "outputId": "e37af339-fe38-4723-b1a2-af0f9d52e2a8"
      },
      "execution_count": 16,
      "outputs": [
        {
          "output_type": "stream",
          "name": "stdout",
          "text": [
            "Alpha \t Minimizer \t Minimum function value \t No of iterations\n",
            "1 \t [  8. -12.] \t 0.0 \t 1\n",
            "0.9 \t [  8. -12.] \t 1.6579714975258972e-21 \t 12\n",
            "0.75 \t [  8. -12.] \t 1.3714654556129199e-21 \t 20\n",
            "0.6 \t [  8. -12.] \t 2.2038291998576117e-21 \t 30\n",
            "0.5 \t [  8. -12.] \t 0.0 \t 1\n",
            "0.4 \t [  8. -12.] \t 1.1393259623274523e-22 \t 18\n",
            "0.25 \t [  8. -12.] \t 1.3714654556129199e-21 \t 40\n",
            "0.1 \t [  8. -12.] \t 2.3972320602008796e-21 \t 123\n",
            "0.01 \t [  8. -12.] \t 2.4523367712209537e-21 \t 1358\n"
          ]
        }
      ]
    },
    {
      "cell_type": "code",
      "source": [
        "x_opt_exact, iter_exact, f_exact = find_minimizer(my_start_x, my_tol, EXACT_LINE_SEARCH)\n",
        "print(\"Minimizer =\",x_opt_exact)\n",
        "print(\"Minimum function value =\",f_exact)\n",
        "print(\"No of iterations =\", iter_exact)"
      ],
      "metadata": {
        "id": "6Isxpt9sNC27",
        "colab": {
          "base_uri": "https://localhost:8080/"
        },
        "outputId": "c0e80f3e-7d68-40f0-82b4-ce975b088eea"
      },
      "execution_count": 17,
      "outputs": [
        {
          "output_type": "stream",
          "name": "stdout",
          "text": [
            "Minimizer = [  8. -12.]\n",
            "Minimum function value = 0.0\n",
            "No of iterations = 1\n"
          ]
        }
      ]
    },
    {
      "cell_type": "code",
      "source": [
        "#we will plot the function values and check the behavior\n",
        "import matplotlib.pyplot as plt #package useful for plotting\n",
        "plt.plot(alpha, iter5)\n",
        "plt.ylabel('No of iterations')\n",
        "plt.xlabel('Alpha values')\n",
        "plt.show()"
      ],
      "metadata": {
        "colab": {
          "base_uri": "https://localhost:8080/",
          "height": 280
        },
        "id": "2cUU8g2qizpU",
        "outputId": "b93c076e-087f-40b3-cc61-b4bac85b6641"
      },
      "execution_count": 18,
      "outputs": [
        {
          "output_type": "display_data",
          "data": {
            "text/plain": [
              "<Figure size 432x288 with 1 Axes>"
            ],
            "image/png": "[encoded data removed]"
          },
          "metadata": {
            "needs_background": "light"
          }
        }
      ]
    },
    {
      "cell_type": "markdown",
      "source": [
        "Code for answer 6"
      ],
      "metadata": {
        "id": "2AIC2AsUeKFt"
      }
    },
    {
      "cell_type": "code",
      "source": [
        "my_start_x = np.array([25,25])\n",
        "my_tol= 10**-(10)"
      ],
      "metadata": {
        "id": "X1i1T_cRNFUv"
      },
      "execution_count": 19,
      "outputs": []
    },
    {
      "cell_type": "code",
      "source": [
        "rho=[0.9, 0.75, 0.6, 0.5, 0.4, 0.25, 0.1, 0.01]\n",
        "iter6=[]\n",
        "print(\"Rho \\t Minimizer \\t Minimum function value \\t No of iterations\")\n",
        "for i in rho:\n",
        "  x_opt_bls, iter_bls, f_bls = find_minimizer(my_start_x, my_tol, BACKTRACKING_LINE_SEARCH, 1, i,0.5)\n",
        "  iter6.append(iter_bls)\n",
        "  print(i, \"\\t\", x_opt_bls, \"\\t\", f_bls, \"\\t\", iter_bls)"
      ],
      "metadata": {
        "colab": {
          "base_uri": "https://localhost:8080/"
        },
        "id": "8tpuJulBfEHq",
        "outputId": "cbc2f6f2-955a-47ae-eaa9-52b26f824689"
      },
      "execution_count": 20,
      "outputs": [
        {
          "output_type": "stream",
          "name": "stdout",
          "text": [
            "Rho \t Minimizer \t Minimum function value \t No of iterations\n",
            "0.9 \t [  8. -12.] \t 4.960536411900771e-22 \t 9\n",
            "0.75 \t [  8. -12.] \t 1.0819468296335504e-21 \t 15\n",
            "0.6 \t [  8. -12.] \t 7.844395544174143e-22 \t 22\n",
            "0.5 \t [  8. -12.] \t 0.0 \t 1\n",
            "0.4 \t [  8. -12.] \t 1.1393259623274523e-22 \t 18\n",
            "0.25 \t [  8. -12.] \t 1.3714654556129199e-21 \t 40\n",
            "0.1 \t [  8. -12.] \t 2.3972320602008796e-21 \t 123\n",
            "0.01 \t [  8. -12.] \t 2.4523367712209537e-21 \t 1358\n"
          ]
        }
      ]
    },
    {
      "cell_type": "code",
      "source": [
        "x_opt_exact, iter_exact, f_exact = find_minimizer(my_start_x, my_tol, EXACT_LINE_SEARCH)\n",
        "print(\"Minimizer =\",x_opt_exact)\n",
        "print(\"Minimum function value =\",f_exact)\n",
        "print(\"No of iterations =\", iter_exact)"
      ],
      "metadata": {
        "id": "4fCGejCkNIL0",
        "colab": {
          "base_uri": "https://localhost:8080/"
        },
        "outputId": "c74fe6b7-9df2-4419-849b-270fdc07bc6e"
      },
      "execution_count": 21,
      "outputs": [
        {
          "output_type": "stream",
          "name": "stdout",
          "text": [
            "Minimizer = [  8. -12.]\n",
            "Minimum function value = 0.0\n",
            "No of iterations = 1\n"
          ]
        }
      ]
    },
    {
      "cell_type": "code",
      "source": [
        "#we will plot the function values and check the behavior\n",
        "import matplotlib.pyplot as plt #package useful for plotting\n",
        "plt.plot(rho, iter6)\n",
        "plt.ylabel('No of iterations')\n",
        "plt.xlabel('Rho values')\n",
        "plt.show()"
      ],
      "metadata": {
        "colab": {
          "base_uri": "https://localhost:8080/",
          "height": 280
        },
        "id": "qzRnnQKcjMTg",
        "outputId": "cf8da6c4-24c0-4100-ba37-04efd49fb19d"
      },
      "execution_count": 22,
      "outputs": [
        {
          "output_type": "display_data",
          "data": {
            "text/plain": [
              "<Figure size 432x288 with 1 Axes>"
            ],
            "image/png": "[encoded data removed]"
          },
          "metadata": {
            "needs_background": "light"
          }
        }
      ]
    },
    {
      "cell_type": "markdown",
      "source": [
        "Answer 3) Minimizer is [8, -12] and minimum function value is 0."
      ],
      "metadata": {
        "id": "yZZvr4KdI2WA"
      }
    },
    {
      "cell_type": "markdown",
      "source": [
        "Answer 4) Both the gradient descent procedures (using backtracking and using exact line search) have the same number of iterations. This happens because the minimum function value (0) is reached in 1 iteration only in both.  "
      ],
      "metadata": {
        "id": "HOdh6SQ9I2SC"
      }
    },
    {
      "cell_type": "markdown",
      "source": [
        "Answer 5) As value of alpha increases, the number of iterations generally decreases (with the exception being alpha=0.5 which takes only one iteration). Minimizer is [8, -12] for all values of alpha. As alpha increases, minimum function value generally decreases (with exceptions being alpha=0.6 and alpha=0.9) but remains close to zero. Gradient descent using exact line search takes only one iteration to execute as opposed to backtracking algorithm which uses more iterations ranging from 1 to 1358."
      ],
      "metadata": {
        "id": "fiwn2jlHI2OY"
      }
    },
    {
      "cell_type": "markdown",
      "source": [
        "Answer 6) As value of rho increases, the number of iterations generally decreases (with the exception being rho=0.5 which takes only one iteration). Minimizer is [8, -12] for all values of rho. As rho increases, minimum function value generally decreases (with exceptions being rho=0.6 and rho=0.75) but remains close to zero. Gradient descent using exact line search takes only one iteration to execute as opposed to backtracking algorithm which uses more iterations ranging from 1 to 1358."
      ],
      "metadata": {
        "id": "A72Y5mPmI2AA"
      }
    }
  ]
}