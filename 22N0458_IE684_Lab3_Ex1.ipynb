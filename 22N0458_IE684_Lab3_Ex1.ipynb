{
  "nbformat": 4,
  "nbformat_minor": 0,
  "metadata": {
    "colab": {
      "provenance": []
    },
    "kernelspec": {
      "name": "python3",
      "display_name": "Python 3"
    }
  },
  "cells": [
    {
      "cell_type": "markdown",
      "metadata": {
        "id": "nVE0Xoa0Q5wE"
      },
      "source": [
        "$\\Large\\textbf{Lab 3.}$ $\\large\\textbf{Exercise 1.}$\n",
        "\n"
      ]
    },
    {
      "cell_type": "markdown",
      "metadata": {
        "id": "YVkab74DJsRL"
      },
      "source": [
        "In the last lab, when we tried to solve certain problems of the form $\\min_{\\mathbf{x} \\in {\\mathbb{R}}^n} f(\\mathbf{x})$ using gradient descent algorithm, we noticed that the algorithm needed a large number of iterations to find the minimizer. Today we will discuss some remedy measures for this issue.  "
      ]
    },
    {
      "cell_type": "markdown",
      "metadata": {
        "id": "b-Meohokl4xP"
      },
      "source": [
        "Consider the problem $\\min_{\\mathbf{x}} f(\\mathbf{x}) = 1500x_1^2 + 4x_1 x_2 +  x_2^2$. "
      ]
    },
    {
      "cell_type": "markdown",
      "metadata": {
        "id": "ZvWjvAgnXxS3"
      },
      "source": [
        "Note that the function $f(\\mathbf{x})$ is twice continuously differentiable. First let us investigate the Hessian $\\nabla^2 f(\\mathbf{x})$ of the function. \n",
        "\n",
        "Note that the Hessian $\\nabla^2 f(\\mathbf{x})$ of the function $f(\\mathbf{x})$ is positive definite. \n",
        "\n",
        "Due to the positive definite nature of the Hessian, we shall find the condition number of the Hessian given by $\\kappa\\left (\\nabla^2 f(\\mathbf{x}) \\right ) = \\frac{\\lambda_{\\max} \\left (\\nabla^2 f(\\mathbf{x}) \\right )}{\\lambda_{\\min} \\left (\\nabla^2 f(\\mathbf{x}) \\right )}$, where $\\lambda_{\\max}(\\mathbf{A})$ denotes the maximum eigen value of matrix $\\mathbf{A}$ and $\\lambda_{\\min}(\\mathbf{A})$ denotes the minimum eigen value of matrix $\\mathbf{A}$.  \n",
        "\n",
        "\n"
      ]
    },
    {
      "cell_type": "markdown",
      "metadata": {
        "id": "fLfdgrmxANif"
      },
      "source": [
        "$\\textbf{Question:}$ Write code to find the Hessian matrix of the function $f(\\mathbf{x}) = 1500x_1^2 + 4x_1 x_2 +  x_2^2$ and its condition number. "
      ]
    },
    {
      "cell_type": "code",
      "metadata": {
        "id": "72qwiJ0CDtOX"
      },
      "source": [
        "import numpy as np \n",
        "import matplotlib.pyplot as plt #package useful for plotting\n",
        "\n",
        "\n",
        "#method to find Hessian matrix: Complete the code\n",
        "def evalh(x): \n",
        "  assert type(x) is np.ndarray \n",
        "  assert len(x) == 2\n",
        "  return np.array([[3000,4],[4,2]])\n",
        "\n",
        "#method to find the condition number of any square matrix: : Complete the code\n",
        "def find_condition_number(A):\n",
        "  assert type(A) is np.ndarray\n",
        "  assert A.shape[0] == A.shape[1]\n",
        "  return np.cond()"
      ],
      "execution_count": 1,
      "outputs": []
    },
    {
      "cell_type": "markdown",
      "metadata": {
        "id": "g7ivDCuJRP9b"
      },
      "source": [
        "The condition number of the Hessian plays a major role in the progress of the iterates of gradient descent towards the optimal solution point. Typically a large value of the condition number indicates that the problem is $\\textbf{ill-conditioned}$ and hence leads to slow progress of the iterates towards the optimal solution point. Now we shall discuss a method which would help in better $\\textbf{conditioning}$ of the problem and hence would help in speeding up the progress of the iterates towards the optimal solution point. \n",
        "\n",
        "Let us first illustrate an equivalent transformation of the problem $\\min_{\\mathbf{x} \\in {\\mathbb{R}}^n} f(\\mathbf{x})$. Consider the transformation $\\mathbf{x}=\\mathbf{My}$ where $\\mathbf{M}\\in {\\mathbb{R}}^{n \\times n}$ is an invertible matrix and $\\mathbf{y} \\in {\\mathbb{R}}^n$ and consider the equivalent problem $\\min_{\\mathbf{y} \\in {\\mathbb{R}}^n} g(\\mathbf{y}) \\equiv \\min_{\\mathbf{y} \\in {\\mathbb{R}}^n} f(\\mathbf{My})$. \n",
        "\n",
        "$\\textbf{Check:}$ Why are the two problems $\\min_{\\mathbf{x} \\in {\\mathbb{R}}^n} f(\\mathbf{x})$ and $\\min_{\\mathbf{y} \\in {\\mathbb{R}}^n} g(\\mathbf{y})$  equivalent? \n",
        "\n",
        "Note that the gradient $\\nabla_{\\mathbf{y}} g(\\mathbf{y}) = \\mathbf{M}^\\top \\nabla_{\\mathbf{x}} f(\\mathbf{x})$ and the Hessian is $\\nabla^2_{\\mathbf{y}} g(\\mathbf{y}) = \\mathbf{M}^\\top \\nabla^2_{\\mathbf{x}} f(\\mathbf{x}) \\mathbf{M}$. \n",
        "\n",
        "Hence the gradient descent update to solve $\\min_{\\mathbf{y} \\in {\\mathbb{R}}^n} g(\\mathbf{y})$ becomes: \n",
        "\n",
        "\n",
        "\\begin{align}\n",
        "{\\mathbf{y}}^{k+1} &= {\\mathbf{y}}^{k} - \\eta \\nabla_{\\mathbf{y}} g({\\mathbf{y}}^{k}) \\\\\n",
        "\\end{align}\n",
        "\n",
        "Pre-multiplying by $\\mathbf{M}$, we have:\n",
        "\\begin{align}\n",
        "{\\mathbf{M}\\mathbf{y}}^{k+1} &= {\\mathbf{M}\\mathbf{y}}^{k} -  \\eta \\mathbf{M} \\nabla_{\\mathbf{y}} g({\\mathbf{y}}^{k})  \\\\\n",
        "\\implies \\mathbf{x}^{k+1} &= \\mathbf{x}^{k} - \\eta \\mathbf{MM}^\\top \\nabla_{\\mathbf{x}} f({\\mathbf{x}}^{k}) \n",
        "\\end{align}\n",
        "\n",
        "\n",
        "Letting $\\mathbf{D} = \\mathbf{MM}^\\top$, we see that the update is of the form:\n",
        "\\begin{align}\n",
        "\\mathbf{x}^{k+1} &= \\mathbf{x}^{k} - \\eta \\mathbf{D} \\nabla f({\\mathbf{x}}^{k}) \n",
        "\\end{align}\n",
        "\n",
        "Note that the matrix $\\mathbf{D}$ is symmetric and positive definite and hence can be written as $\\mathbf{D} = \\mathbf{B}^2$, where $\\mathbf{B}$ is also symmetric and positive definite. Denoting $\\mathbf{B}= \\mathbf{D}^{\\frac{1}{2}}$, we see that a useful choice for the matrix $\\mathbf{M}$ is $\\mathbf{M} = \\mathbf{B} = \\mathbf{D}^{\\frac{1}{2}}$. \n",
        "\n",
        "The matrix $\\mathbf{D}$ is called a $\\textbf{scaling}$ matrix and helps in scaling the Hessian. We will consider $\\mathbf{D}$ to be a diagonal matrix. Thus it would be useful to find a suitable candidate of the scaling matrix at each iteration which could help in significant progress of the iterates towards the optimal solution. \n",
        "\n",
        "\n"
      ]
    },
    {
      "cell_type": "markdown",
      "metadata": {
        "id": "ZgHGXcTYNXuw"
      },
      "source": [
        "This discussion leads to the following algorithm:\n",
        "\\begin{align}\n",
        "& \\textbf{Input:} \\text{ Starting point $x^0$, Stopping tolerance $\\tau$}  \\\\\n",
        "& \\textbf{Initialize } k=0 \\\\ \n",
        "& \\mathbf{p}^k =-\\nabla f(\\mathbf{x}^k) \\\\ \n",
        "&\\textbf{While } \\| \\mathbf{p}^k \\|_2 > \\tau \\text{ do:}  \\\\   \n",
        "&\\quad \\quad \\text{ Choose a suitable scaling matrix }\\mathbf{D}^k. \\\\ \n",
        "&\\quad \\quad \\eta^k = \\arg\\min_{\\eta\\geq 0} f(\\mathbf{x}^k + \\eta  \\mathbf{D}^k \\mathbf{p}^k) = \\arg\\min_{\\eta\\geq 0} f(\\mathbf{x}^k - \\eta  \\mathbf{D}^k \\nabla f(\\mathbf{x}^k)) \\\\\n",
        "&\\quad \\quad \\mathbf{x}^{k+1} = \\mathbf{x}^k + \\eta^k \\mathbf{D}^k \\mathbf{p}^k = \\mathbf{x}^k - \\eta^k  \\mathbf{D}^k \\nabla f(\\mathbf{x}^k)  \\\\ \n",
        "&\\quad \\quad k = {k+1} \\\\ \n",
        "&\\textbf{End While} \\\\\n",
        "&\\textbf{Output: } \\mathbf{x}^k\n",
        "\\end{align}"
      ]
    },
    {
      "cell_type": "markdown",
      "metadata": {
        "id": "3XvbzQ5LeJ_N"
      },
      "source": [
        "Note that the update step in the modified gradient descent scheme uses a scaled gradient. Thus it becomes important to set up some criteria for choosing the $\\mathbf{D}^k$ matrix in every iteration. In this exercise, we will assume $\\mathbf{D}^k$ to be a diagonal matrix. The following questions will help in designing a suitable $\\mathbf{D}^k$."
      ]
    },
    {
      "cell_type": "markdown",
      "metadata": {
        "id": "kC5h9vGOfLcr"
      },
      "source": [
        "$\\textbf{Question:}$ Based on our discussion on condition number and the derivation of the gradient descent scheme with scaling, can you identify and write down the matrix $\\mathbf{Q}$ whose condition number needs to be analyzed in the new gradient scheme with scaling? "
      ]
    },
    {
      "cell_type": "markdown",
      "metadata": {
        "id": "ZL8skZZIf8yd"
      },
      "source": [
        "$\\textbf{Your Answer:}$"
      ]
    },
    {
      "cell_type": "markdown",
      "metadata": {
        "id": "qrbWd2XigB2N"
      },
      "source": [
        "$\\textbf{Question:}$ Based on the matrix $\\mathbf{Q}$, can you come up with a useful choice for $\\mathbf{D}^k$ (assuming $\\mathbf{D}^k$ to be diagonal)?"
      ]
    },
    {
      "cell_type": "markdown",
      "metadata": {
        "id": "BTIH3LnUgRh6"
      },
      "source": [
        "$\\textbf{Your Answer:}$"
      ]
    },
    {
      "cell_type": "markdown",
      "metadata": {
        "id": "YDNH0zgxgaPR"
      },
      "source": [
        "Write code to find the matrix $\\mathbf{D}^k$. "
      ]
    },
    {
      "cell_type": "code",
      "metadata": {
        "id": "KJq7tIgIRroP"
      },
      "source": [
        "#The method defines a way to construct D_k matrix used in scaling the gradient in the modified gradient descent scheme\n",
        "def compute_D_k(x):\n",
        "  assert type(x) is np.ndarray\n",
        "  assert len(x) == 2\n",
        "  #compute and return D_k\n",
        "  a=1/(evalh(x)[0][0])\n",
        "  b=1/(evalh(x)[1][1])\n",
        "  return np.array([[a, 0], [0, b]])\n",
        "  "
      ],
      "execution_count": 2,
      "outputs": []
    },
    {
      "cell_type": "code",
      "metadata": {
        "id": "GZjX2IwOR8_X"
      },
      "source": [
        "#Now we will define a Python function which will compute and return the objective function value \n",
        "def evalf(x):  \n",
        "  #Input: x is a numpy array of size 2 \n",
        "  assert type(x) is np.ndarray and len(x) == 2 #do not allow arbitrary arguments \n",
        "  #after checking if the argument is valid, we can compute the objective function value\n",
        "  #compute the function value and return it \n",
        "  return (1500*(x[0]**2)) + (4*x[0]*x[1]) + (x[1]**2)\n"
      ],
      "execution_count": 3,
      "outputs": []
    },
    {
      "cell_type": "code",
      "metadata": {
        "id": "6klpwtDra_I8"
      },
      "source": [
        "#Now we will define a Python function which will compute and return the gradient value as a numpy array \n",
        "def evalg(x):  \n",
        "  #Input: x is a numpy array of size 2 \n",
        "  assert type(x) is np.ndarray and len(x) == 2 #do not allow arbitrary arguments \n",
        "  #after checking if the argument is valid, we can compute the gradient value\n",
        "  #compute the gradient value and return it \n",
        "  return np.array([(3000*x[0]) + (4*x[1]), (4*x[0])+(2*x[1])]) "
      ],
      "execution_count": 4,
      "outputs": []
    },
    {
      "cell_type": "code",
      "metadata": {
        "id": "f3blM08V0HOl"
      },
      "source": [
        "#Complete the module to compute the steplength by using the closed-form expression\n",
        "def compute_steplength_exact(x, gradf, A, b): #add appropriate arguments to the function \n",
        "  assert type(gradf) is np.ndarray and len(gradf) == 2 \n",
        "  assert type(A) is np.ndarray and A.shape[0] == 2 and  A.shape[1] == 2 #allow only a 2x2 array\n",
        "   \n",
        "  #Complete the code \n",
        "  num = np.dot(np.dot(x.T, A), gradf) + np.dot(np.dot(gradf.T, A), x) + 2*np.dot(b.T, gradf)\n",
        "  den = 2*np.dot(np.dot(gradf.T, A), gradf)\n",
        "  step_length = num/den\n",
        "    \n",
        "  return step_length "
      ],
      "execution_count": 5,
      "outputs": []
    },
    {
      "cell_type": "code",
      "metadata": {
        "id": "PGunDYy6Q21S"
      },
      "source": [
        "#Complete the module to compute the steplength by using the closed-form expression\n",
        "def compute_steplength_backtracking(x, gradf, alpha_start, rho, gamma, *args): #add appropriate arguments to the function \n",
        "  assert type(x) is np.ndarray and len(gradf) == 2 \n",
        "  assert type(gradf) is np.ndarray and len(gradf) == 2 \n",
        "  assert type(alpha_start) is float and alpha_start>=0. \n",
        "  assert type(rho) is float and rho>=0.\n",
        "  assert type(gamma) is float and gamma>=0. \n",
        "  \n",
        "  #Complete the code \n",
        "  alpha = alpha_start\n",
        "  pk = -gradf\n",
        "  while evalf(np.add(x, alpha*pk)) > np.add(evalf(x), gamma*alpha*np.dot(gradf.T,pk)):\n",
        "    alpha = rho*alpha\n",
        "\n",
        "  return alpha\n",
        "  "
      ],
      "execution_count": 6,
      "outputs": []
    },
    {
      "cell_type": "code",
      "metadata": {
        "id": "wqjdHM3eaHYf"
      },
      "source": [
        "def compute_steplength_backtracking_scaled_direction(x, gradf, direction, alpha_start, rho, gamma, *args): #add appropriate arguments to the function \n",
        "  assert type(x) is np.ndarray and len(gradf) == 2 \n",
        "  assert type(gradf) is np.ndarray and len(gradf) == 2 \n",
        "  assert type(direction) is np.ndarray and len(direction) == 2 \n",
        "  assert type(alpha_start) is float and alpha_start>=0. \n",
        "  assert type(rho) is float and rho>=0.\n",
        "  assert type(gamma) is float and gamma>=0. \n",
        "  \n",
        "  \n",
        "  \n",
        "  #Complete the code \n",
        "  alpha = alpha_start\n",
        "  pk = -gradf\n",
        "  while evalf(np.add(x, alpha*np.dot(direction,pk))) > np.subtract(evalf(x), gamma*alpha*np.dot(np.dot(direction,gradf), gradf)):\n",
        "    alpha = rho*alpha\n",
        "  return alpha"
      ],
      "execution_count": 7,
      "outputs": []
    },
    {
      "cell_type": "code",
      "metadata": {
        "id": "GvLRu5s635ph"
      },
      "source": [
        "#line search type \n",
        "EXACT_LINE_SEARCH = 1\n",
        "BACKTRACKING_LINE_SEARCH = 2\n",
        "CONSTANT_STEP_LENGTH = 3"
      ],
      "execution_count": 8,
      "outputs": []
    },
    {
      "cell_type": "code",
      "source": [
        "#complete the code for gradient descent to find the minimizer\n",
        "\n",
        "def find_minimizer_gd(start_x, tol, line_search_type, *args):\n",
        "    #Input: start_x is a numpy array of size 2, tol denotes the tolerance and is a positive float value\n",
        "    assert type(start_x) is np.ndarray and len(start_x) == 2 #do not allow arbitrary arguments \n",
        "    assert type(tol) is float and tol>=0 \n",
        "\n",
        "    # constructing a suitable A matrix and b vector for the quadratic function \n",
        "    A = np.array([[1500,2],[2,1]])\n",
        "    b = np.array([0.,0.])\n",
        "    x = start_x\n",
        "    g_x = evalg(x)\n",
        "\n",
        "    #initialization for backtracking line search\n",
        "    if(line_search_type == BACKTRACKING_LINE_SEARCH):\n",
        "        alpha_start = args[0]\n",
        "        rho = args[1]\n",
        "        gamma = args[2]\n",
        "        # print('Params for Backtracking LS: alpha start:', alpha_start, 'rho:', rho,' gamma:', gamma)\n",
        "\n",
        "    k = 0\n",
        "    #   print('iter:',k, ' x:', x, ' f(x):', evalf(x), ' grad at x:', g_x, ' gradient norm:', np.linalg.norm(g_x))\n",
        "\n",
        "    while (np.linalg.norm(g_x) > tol): #continue as long as the norm of gradient is not close to zero upto a tolerance tol\n",
        "    \n",
        "        if line_search_type == EXACT_LINE_SEARCH:\n",
        "            step_length = compute_steplength_exact(x, g_x, A, b) #call the new function you wrote to compute the steplength\n",
        "        elif line_search_type == BACKTRACKING_LINE_SEARCH:\n",
        "            step_length = compute_steplength_backtracking(x,g_x, alpha_start,rho, gamma) #call the new function you wrote to compute the steplength\n",
        "        elif line_search_type == CONSTANT_STEP_LENGTH: #do a gradient descent with constant step length\n",
        "            step_length = 0.1\n",
        "        else:  \n",
        "            raise ValueError('Line search type unknown. Please check!')\n",
        "        \n",
        "        #implement the gradient descent steps here   \n",
        "        x = np.subtract(x, np.multiply(step_length,g_x)) #update x = x - step_length*g_x\n",
        "        k += 1 #increment iteration\n",
        "        g_x = evalg(x) #compute gradient at new point\n",
        "\n",
        "        # print('iter:',k, ' x:', x, ' f(x):', evalf(x), ' grad at x:', g_x, ' gradient norm:', np.linalg.norm(g_x))\n",
        "    return x, evalf(x), k \n",
        " "
      ],
      "metadata": {
        "id": "dDMmPpANrseB"
      },
      "execution_count": 9,
      "outputs": []
    },
    {
      "cell_type": "code",
      "metadata": {
        "id": "3SCJdqivdpxx"
      },
      "source": [
        "# Code for gradient descent with scaling to find the minimizer with scaling\n",
        "\n",
        "def find_minimizer_gdscaling(start_x, tol, line_search_type, *args):\n",
        "    #Input: start_x is a numpy array of size 2, tol denotes the tolerance and is a positive float value\n",
        "    assert type(start_x) is np.ndarray and len(start_x) == 2 #do not allow arbitrary arguments \n",
        "    assert type(tol) is float and tol>=0 \n",
        "\n",
        "    #constructing a suitable A matrix and b vector for the quadratic function \n",
        "    A = np.array([[1500,2],[2,1]])\n",
        "    b = np.array([0.,0.])\n",
        "    x = start_x\n",
        "    g_x = evalg(x)\n",
        "    d_k = compute_D_k(x)\n",
        "\n",
        "    #initialization for backtracking line search\n",
        "    alpha_start = args[0]\n",
        "    rho = args[1]\n",
        "    gamma = args[2]\n",
        "    # print('Params for Backtracking LS: alpha start:', alpha_start, 'rho:', rho,' gamma:', gamma)\n",
        "\n",
        "    k = 0\n",
        "    #   print('iter:',k, ' x:', x, ' f(x):', evalf(x), ' grad at x:', g_x, ' gradient norm:', np.linalg.norm(g_x))\n",
        "\n",
        "    while (np.linalg.norm(g_x) > tol): #continue as long as the norm of gradient is not close to zero upto a tolerance tol\n",
        "        if line_search_type == BACKTRACKING_LINE_SEARCH:\n",
        "            step_length = compute_steplength_backtracking_scaled_direction(x, g_x, d_k, alpha_start, rho, gamma) #call the new function you wrote to compute the steplength\n",
        "        else:  \n",
        "            raise ValueError('Line search type unknown. Please check!')\n",
        "        \n",
        "        #implement the gradient descent steps here   \n",
        "        x = np.subtract(x, np.multiply(step_length,np.dot(d_k, g_x))) #update x = x - step_length*g_x\n",
        "        k += 1 #increment iteration\n",
        "        g_x = evalg(x) #compute gradient at new point\n",
        "\n",
        "        # print('iter:',k, ' x:', x, ' f(x):', evalf(x), ' grad at x:', g_x, ' gradient norm:', np.linalg.norm(g_x))\n",
        "    return x, evalf(x), k \n",
        " "
      ],
      "execution_count": 10,
      "outputs": []
    },
    {
      "cell_type": "markdown",
      "source": [
        "Code for answer 8"
      ],
      "metadata": {
        "id": "9hahknURj6do"
      }
    },
    {
      "cell_type": "code",
      "metadata": {
        "id": "3hoak3jnHkXd"
      },
      "source": [
        "my_start_x = np.array([1.,4000.])\n",
        "my_tol= 1e-12"
      ],
      "execution_count": 11,
      "outputs": []
    },
    {
      "cell_type": "code",
      "metadata": {
        "id": "vgu4yasdJEKo",
        "colab": {
          "base_uri": "https://localhost:8080/"
        },
        "outputId": "91e7a9f6-3958-4efb-a1cf-c23c4d9574f3"
      },
      "source": [
        "#check gradient descent with exact line search \n",
        "x_opt_exact, f_exact, iter_exact= find_minimizer_gd(my_start_x, my_tol, EXACT_LINE_SEARCH)\n",
        "print(\"Minimizer =\", x_opt_exact)\n",
        "print(\"Minimum function value =\", f_exact)\n",
        "print(\"No of iterations =\", iter_exact)"
      ],
      "execution_count": 12,
      "outputs": [
        {
          "output_type": "stream",
          "name": "stdout",
          "text": [
            "Minimizer = [-7.44595231e-16  4.61544291e-13]\n",
            "Minimum function value = 2.124801107784775e-25\n",
            "No of iterations = 14075\n"
          ]
        }
      ]
    },
    {
      "cell_type": "code",
      "metadata": {
        "id": "U0_iOLVoQFYy",
        "colab": {
          "base_uri": "https://localhost:8080/"
        },
        "outputId": "16d05967-7076-4dc4-849e-869041a136ce"
      },
      "source": [
        "#check gradient descent with backtracking line search without scaling\n",
        "alpha_start = 1.\n",
        "rho = 0.5\n",
        "gamma = 0.5\n",
        "\n",
        "x_opt_bls, f_bls, iter_bls = find_minimizer_gd(my_start_x, my_tol, BACKTRACKING_LINE_SEARCH, alpha_start, rho, gamma)\n",
        "print(\"Minimizer =\", x_opt_bls)\n",
        "print(\"Minimum function value =\", f_bls)\n",
        "print(\"No of iterations =\", iter_bls)"
      ],
      "execution_count": 13,
      "outputs": [
        {
          "output_type": "stream",
          "name": "stdout",
          "text": [
            "Minimizer = [-4.78532202e-16  4.53575301e-13]\n",
            "Minimum function value = 2.0520584176089396e-25\n",
            "No of iterations = 21985\n"
          ]
        }
      ]
    },
    {
      "cell_type": "code",
      "metadata": {
        "id": "KpABILpQxPKD",
        "colab": {
          "base_uri": "https://localhost:8080/"
        },
        "outputId": "67b8d701-92c5-4b33-8aa1-53934776c042"
      },
      "source": [
        "#check gradient descent with scaling and backtracking line search \n",
        "alpha_start = 1.\n",
        "rho = 0.5\n",
        "gamma = 0.5\n",
        "\n",
        "x_opt_bls_scaling, f_bls_scaling, iter_bls_scaling = find_minimizer_gdscaling(my_start_x, my_tol, BACKTRACKING_LINE_SEARCH, alpha_start, rho, gamma)\n",
        "print(\"Minimizer =\", x_opt_bls_scaling)\n",
        "print(\"Minimum function value =\", f_bls_scaling)\n",
        "print(\"No of iterations =\", iter_bls_scaling)"
      ],
      "execution_count": 14,
      "outputs": [
        {
          "output_type": "stream",
          "name": "stdout",
          "text": [
            "Minimizer = [-2.31674405e-18  9.60515434e-16]\n",
            "Minimum function value = 9.217397790469283e-31\n",
            "No of iterations = 16\n"
          ]
        }
      ]
    },
    {
      "cell_type": "markdown",
      "source": [
        "Code for answer 9"
      ],
      "metadata": {
        "id": "84TWvA_Zj2QN"
      }
    },
    {
      "cell_type": "code",
      "source": [
        "my_start_x = np.array([1.,4000.])\n",
        "my_tol= 1e-12\n",
        "alpha=[1., 0.9, 0.75, 0.6, 0.5, 0.4, 0.25, 0.1, 0.01]\n",
        "rho=0.5\n",
        "gamma=0.5"
      ],
      "metadata": {
        "id": "Ka4ZvClskfSX"
      },
      "execution_count": 15,
      "outputs": []
    },
    {
      "cell_type": "code",
      "source": [
        "iter91=[]\n",
        "print(\"Alpha \\t Minimizer \\t Minimum function value \\t No of iterations\")\n",
        "for i in alpha:\n",
        "  x_opt_bls, f_bls, iter_bls= find_minimizer_gd(my_start_x, my_tol, BACKTRACKING_LINE_SEARCH, i, rho,gamma)\n",
        "  iter91.append(iter_bls)\n",
        "  print(i,\"\\t\", x_opt_bls, \"\\t\", f_bls, \"\\t\", iter_bls)"
      ],
      "metadata": {
        "colab": {
          "base_uri": "https://localhost:8080/"
        },
        "id": "1jKcpbFhjxVD",
        "outputId": "5b1d9fd0-2a5d-4149-8009-d623ecefff54"
      },
      "execution_count": 16,
      "outputs": [
        {
          "output_type": "stream",
          "name": "stdout",
          "text": [
            "Alpha \t Minimizer \t Minimum function value \t No of iterations\n",
            "1.0 \t [-4.78532202e-16  4.53575301e-13] \t 2.0520584176089396e-25 \t 21985\n",
            "0.9 \t [-5.48799355e-16  4.71515450e-13] \t 2.2174352131747877e-25 \t 15941\n",
            "0.75 \t [-7.18643891e-16  4.89175378e-13] \t 2.386610528547938e-25 \t 6750\n",
            "0.6 \t [-6.07554226e-16  4.94036636e-13] \t 2.43425264283868e-25 \t 6887\n",
            "0.5 \t [-4.78532202e-16  4.53575301e-13] \t 2.0520584176089396e-25 \t 21985\n",
            "0.4 \t [-7.24091328e-16  4.84454819e-13] \t 2.3407977615582728e-25 \t 11362\n",
            "0.25 \t [-4.78532202e-16  4.53575301e-13] \t 2.0520584176089396e-25 \t 21985\n",
            "0.1 \t [-7.24091328e-16  4.84454819e-13] \t 2.3407977615582728e-25 \t 11362\n",
            "0.01 \t [-5.80852788e-16  4.86459735e-13] \t 2.3601891237044125e-25 \t 5509\n"
          ]
        }
      ]
    },
    {
      "cell_type": "code",
      "source": [
        "iter92=[]\n",
        "print(\"Alpha \\t Minimizer \\t Minimum function value \\t No of iterations\")\n",
        "for i in alpha:\n",
        "  x_opt_bls_scaling, f_bls_scaling, iter_bls_scaling = find_minimizer_gdscaling(my_start_x, my_tol, BACKTRACKING_LINE_SEARCH, i, rho, gamma)\n",
        "  iter92.append(iter_bls_scaling)\n",
        "  print(i,\"\\t\", x_opt_bls_scaling, \"\\t\", f_bls_scaling, \"\\t\", iter_bls_scaling)"
      ],
      "metadata": {
        "colab": {
          "base_uri": "https://localhost:8080/"
        },
        "id": "1F0AbFH5lWn8",
        "outputId": "32fa99cf-6411-4eb4-fff9-f4b979144a78"
      },
      "execution_count": 17,
      "outputs": [
        {
          "output_type": "stream",
          "name": "stdout",
          "text": [
            "Alpha \t Minimizer \t Minimum function value \t No of iterations\n",
            "1.0 \t [-2.31674405e-18  9.60515434e-16] \t 9.217397790469283e-31 \t 16\n",
            "0.9 \t [-1.54825431e-16  5.99636318e-15] \t 6.819918471923904e-29 \t 21\n",
            "0.75 \t [-2.78273450e-16  1.07784868e-14] \t 2.203324807217381e-28 \t 32\n",
            "0.6 \t [-3.37385169e-16  1.30849588e-14] \t 3.2430059206322154e-28 \t 47\n",
            "0.5 \t [-2.51144512e-16  9.75949896e-15] \t 1.800539902805011e-28 \t 62\n",
            "0.4 \t [-3.26530890e-16  1.27315971e-14] \t 3.0539815808527928e-28 \t 83\n",
            "0.25 \t [-2.68853026e-16  1.05480788e-14] \t 2.0834135979657747e-28 \t 147\n",
            "0.1 \t [-3.34815103e-16  1.32481337e-14] \t 3.2592207464795465e-28 \t 397\n",
            "0.01 \t [-3.51028779e-16  1.39670836e-14] \t 3.602998362211868e-28 \t 4146\n"
          ]
        }
      ]
    },
    {
      "cell_type": "code",
      "source": [
        "#we will plot the function values and check the behavior\n",
        "plt.plot(alpha, iter91, 'o-', label = 'For backtracking without scaling')\n",
        "plt.plot(alpha, iter92, '*-', label = 'For backtracking with scaling')\n",
        "plt.ylabel('No of iterations')\n",
        "plt.xlabel('Alpha values')\n",
        "plt.legend()\n",
        "plt.show()"
      ],
      "metadata": {
        "colab": {
          "base_uri": "https://localhost:8080/",
          "height": 279
        },
        "id": "WOl7y2UJlfVg",
        "outputId": "a0e9cf77-b7ec-44b6-8422-ebc9175e2f36"
      },
      "execution_count": 18,
      "outputs": [
        {
          "output_type": "display_data",
          "data": {
            "text/plain": [
              "<Figure size 432x288 with 1 Axes>"
            ],
            "image/png": "[encoded data removed]"
          },
          "metadata": {
            "needs_background": "light"
          }
        }
      ]
    },
    {
      "cell_type": "markdown",
      "source": [
        "Code for answer 10"
      ],
      "metadata": {
        "id": "mcSD8RxzkBZi"
      }
    },
    {
      "cell_type": "code",
      "source": [
        "my_start_x = np.array([1.,4000.])\n",
        "my_tol= 1e-12\n",
        "rho=[0.9, 0.75, 0.6, 0.5, 0.4, 0.25, 0.1, 0.01]\n",
        "alpha=1.\n",
        "gamma=0.5"
      ],
      "metadata": {
        "id": "vXMmG7CGkYXX"
      },
      "execution_count": 19,
      "outputs": []
    },
    {
      "cell_type": "code",
      "source": [
        "iter101=[]\n",
        "print(\"Rho \\t Minimizer \\t Minimum function value \\t No of iterations\")\n",
        "for i in rho:\n",
        "  x_opt_bls, f_bls, iter_bls = find_minimizer_gd(my_start_x, my_tol, BACKTRACKING_LINE_SEARCH, alpha, i, gamma)\n",
        "  iter101.append(iter_bls)\n",
        "  print(i, \"\\t\", x_opt_bls, \"\\t\", f_bls, \"\\t\", iter_bls)"
      ],
      "metadata": {
        "colab": {
          "base_uri": "https://localhost:8080/"
        },
        "id": "0UJA40xQkiLh",
        "outputId": "c277ec67-b86f-4881-8dc2-8e989e76d486"
      },
      "execution_count": 20,
      "outputs": [
        {
          "output_type": "stream",
          "name": "stdout",
          "text": [
            "Rho \t Minimizer \t Minimum function value \t No of iterations\n",
            "0.9 \t [-6.44686128e-16  4.90962904e-13] \t 2.404019351870065e-25 \t 127\n",
            "0.75 \t [-7.15454842e-16  4.83616543e-13] \t 2.332687511412074e-25 \t 3135\n",
            "0.6 \t [-7.07691748e-16  4.70469643e-13] \t 2.2076113616544364e-25 \t 15834\n",
            "0.5 \t [-4.78532202e-16  4.53575301e-13] \t 2.0520584176089396e-25 \t 21985\n",
            "0.4 \t [-5.16461460e-16  4.67846629e-13] \t 2.1831406770108246e-25 \t 20049\n",
            "0.25 \t [-5.67128954e-16  4.70177132e-13] \t 2.204823842206756e-25 \t 24570\n",
            "0.1 \t [-4.35224428e-16  4.42644725e-13] \t 1.9544788340231146e-25 \t 45435\n",
            "0.01 \t [-6.03891924e-16  4.89972672e-13] \t 2.394366854291179e-25 \t 17463\n"
          ]
        }
      ]
    },
    {
      "cell_type": "code",
      "source": [
        "iter102=[]\n",
        "print(\"Rho \\t Minimizer \\t Minimum function value \\t No of iterations\")\n",
        "for i in rho:\n",
        "  x_opt_bls_scaling, f_bls_scaling, iter_bls_scaling = find_minimizer_gdscaling(my_start_x, my_tol, BACKTRACKING_LINE_SEARCH, alpha, i, gamma)\n",
        "  iter102.append(iter_bls_scaling)\n",
        "  print(i,\"\\t\", x_opt_bls_scaling, \"\\t\", f_bls_scaling, \"\\t\", iter_bls_scaling)"
      ],
      "metadata": {
        "colab": {
          "base_uri": "https://localhost:8080/"
        },
        "id": "1zSqZOq0scpO",
        "outputId": "a8b78afe-de0d-4025-c5d8-d23b73f8a0de"
      },
      "execution_count": 21,
      "outputs": [
        {
          "output_type": "stream",
          "name": "stdout",
          "text": [
            "Rho \t Minimizer \t Minimum function value \t No of iterations\n",
            "0.9 \t [-1.90920422e-16  3.38018326e-15] \t 6.352016622002106e-29 \t 14\n",
            "0.75 \t [-3.59593964e-18  9.57478862e-16] \t 9.223897999650174e-31 \t 15\n",
            "0.6 \t [-2.68496827e-18  1.53311688e-15] \t 2.3447954703965872e-30 \t 15\n",
            "0.5 \t [-2.31674405e-18  9.60515434e-16] \t 9.217397790469283e-31 \t 16\n",
            "0.4 \t [-2.10920879e-18  1.38155681e-15] \t 1.903716407388883e-30 \t 16\n",
            "0.25 \t [-6.9534609e-16  4.5561674e-13] \t 2.0704462793405916e-25 \t 16\n",
            "0.1 \t [-6.22892805e-16  4.51919078e-13] \t 2.0368685744853975e-25 \t 23\n",
            "0.01 \t [-5.88632151e-16  4.39928337e-13] \t 1.9302084997635662e-25 \t 130\n"
          ]
        }
      ]
    },
    {
      "cell_type": "code",
      "source": [
        "#we will plot the function values and check the behavior\n",
        "plt.plot(rho, iter101, 'o-', label = 'For backtracking without scaling')\n",
        "plt.plot(rho, iter102, '*-', label = 'For backtracking with scaling')\n",
        "plt.ylabel('No of iterations')\n",
        "plt.xlabel('Rho values')\n",
        "plt.legend()\n",
        "plt.show()"
      ],
      "metadata": {
        "colab": {
          "base_uri": "https://localhost:8080/",
          "height": 279
        },
        "id": "dGTvv9wcklQs",
        "outputId": "081975e6-3d95-4269-a678-5e4a77c8504a"
      },
      "execution_count": 22,
      "outputs": [
        {
          "output_type": "display_data",
          "data": {
            "text/plain": [
              "<Figure size 432x288 with 1 Axes>"
            ],
            "image/png": "[encoded data removed]"
          },
          "metadata": {
            "needs_background": "light"
          }
        }
      ]
    },
    {
      "cell_type": "markdown",
      "source": [
        "Answer 4) The matrix Q whose condition number needs to be analyzed can be taken to be $\\nabla^2_y f(y)$ = $\\mathbf{M}^\\top \\nabla^2_x f(x) \\mathbf{M}$ where $\\nabla^2f(x)$ is the Hessian of the function f(x) and $\\mathbf{M} = \\mathbf{D}^{\\frac{1}{2}}$."
      ],
      "metadata": {
        "id": "0wZIqz9B2hQO"
      }
    },
    {
      "cell_type": "markdown",
      "source": [
        "Answer 5) Assuming $\\mathbf{D}^k$ to be a diagonal matrix, we can take $\\mathbf{D}^k$ to be the diagonal approximation of the inverse of $\\nabla^2 f(\\mathbf{x})$ (Hessian of the function f(X)) which gives us:\n",
        "\n",
        "$\\begin{aligned}\n",
        "\\mathbf{D}^k = \\begin{bmatrix} \\frac{1}{f_{x_1 x_1}} & 0\\\\ 0 & \\frac{1}{f_{x_2 x_2}} \\end{bmatrix}\n",
        "\\end{aligned}\n",
        "$ where $f_{x_1 x_1} = \\frac{\\partial^2f(\\mathbf{x})}{\\partial x_1^2}$ and  $f_{x_2 x_2} = \\frac{\\partial^2f(\\mathbf{x})}{\\partial x_2^2}$\n",
        "\n",
        "Based on our given function, the matrix $\\mathbf{D}^k$ comes out to be $\\begin{bmatrix} \\frac{1}{3000} & 0\\\\ 0 & \\frac{1}{2} \\end{bmatrix}$"
      ],
      "metadata": {
        "id": "xe2DqrGR3F3M"
      }
    },
    {
      "cell_type": "markdown",
      "source": [
        "Answer 7) Minimizer = [0,0] and the minimum function value = 0"
      ],
      "metadata": {
        "id": "FDIHFyFi3F_N"
      }
    },
    {
      "cell_type": "markdown",
      "source": [
        "Answer 8)\n",
        "\n",
        "**Gradient descent with exact line search**\n",
        "\n",
        "Minimizer = [-7.44595231e-16  4.61544291e-13]\n",
        "\n",
        "Minimum function value = 2.124801107784775e-25\n",
        "\n",
        "No of iterations = 14075\n",
        "\n",
        "**Gradient descent with backtracking line search without scaling**\n",
        "\n",
        "Minimizer = [-4.78532202e-16  4.53575301e-13]\n",
        "\n",
        "Minimum function value = 2.0520584176089396e-25\n",
        "\n",
        "No of iterations = 21985\n",
        "\n",
        "**Gradient descent with backtracking line search with scaling**\n",
        "\n",
        "Minimizer = [-2.31674405e-18  9.60515434e-16]\n",
        "\n",
        "Minimum function value = 9.217397790469283e-31\n",
        "\n",
        "No of iterations = 16\n",
        "\n",
        "**Observations:** Gradient descent with bracking line search without scaling takes the most number of iterations, followed by gradient descent with exact line search and then gradient descent with backtracking line search with scaling. By observing the minimizer and the minimum function value, best convergence (minimizer close to [0,0] and minimum function value close to 0) is seen in gradient descent with backtracking line search with scaling, followed by gradient descent with backtracking line search without scaling and then gradient descent with exact line search. \n"
      ],
      "metadata": {
        "id": "ZPpk2dRu3Gc_"
      }
    },
    {
      "cell_type": "markdown",
      "source": [
        "Answer 9) Backtracking line search with scaling uses fewer iterations and gives better result (minimizer close to [0,0] and minimum function value close to 0) than backtracking line search without scaling. Number of iterations with backtracking line search without scaling does not follow any trend with increase in alpha values but they decrease with increase in alpha values in case of backtracking line search with scaling."
      ],
      "metadata": {
        "id": "M99uaeGI3Gj9"
      }
    },
    {
      "cell_type": "markdown",
      "source": [
        "Answer 10) Backtracking line search with scaling uses fewer iterations and gives better result (minimizer close to [0,0] and minimum function value close to 0) than backtracking line search without scaling. Number of iterations with backtracking line search without scaling decreases (exceptions being rho=0.01 and rho=0.5) with increase in rho values and they decrease very gradually with increase in rho values in case of backtracking line search with scaling."
      ],
      "metadata": {
        "id": "iRrecjgy3GqN"
      }
    }
  ]
}