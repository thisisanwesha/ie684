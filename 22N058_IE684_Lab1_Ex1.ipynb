{
  "nbformat": 4,
  "nbformat_minor": 0,
  "metadata": {
    "colab": {
      "provenance": []
    },
    "kernelspec": {
      "name": "python3",
      "display_name": "Python 3"
    }
  },
  "cells": [
    {
      "cell_type": "markdown",
      "metadata": {
        "id": "nVE0Xoa0Q5wE"
      },
      "source": [
        "$\\large\\textbf{Lab 1 Exercise 1. }$\n",
        "\n",
        "We will start with a procedure which helps to find a minimizer of the function $f(\\mathbf{x})=f(x_1,x_2)= (x_1+100)^2 + (x_2-25)^2$. \n",
        "\n",
        "Note that the gradient of $f(\\mathbf{x})$ is given by:\n",
        "\n",
        "$\n",
        "\\nabla f(\\mathbf{x}) = \\begin{bmatrix} \\frac{\\partial f(\\mathbf{x})}{\\partial x_1} \\\\ \\frac{\\partial f(\\mathbf{x})}{\\partial x_2}\\end{bmatrix}. \n",
        "$\n",
        "\n",
        "We will use the following gradient descent type algorithm: \n",
        "\n",
        "\\begin{align}\n",
        "& \\textbf{Input:} \\text{ Starting point $x^0$, Stopping tolerance $\\tau$, Steplength $\\eta$}  \\\\\n",
        "& \\textbf{Initialize } k=0 \\\\ \n",
        "&\\textbf{While } \\| \\nabla f(\\mathbf{x}^k) \\|_2 > \\tau \\text{ do:}  \\\\   \n",
        "&\\quad \\quad \\mathbf{x}^{k+1} \\leftarrow \\mathbf{x}^k - \\eta \\nabla f(\\mathbf{x}^k)  \\\\ \n",
        "&\\quad \\quad k = {k+1} \\\\ \n",
        "&\\textbf{End While} \\\\\n",
        "&\\textbf{Output: } \\mathbf{x}^k\n",
        "\\end{align}\n"
      ]
    },
    {
      "cell_type": "code",
      "metadata": {
        "id": "KJq7tIgIRroP"
      },
      "source": [
        "#numpy package will be used for most of our lab exercises. Please have a look at https://numpy.org/doc/stable/ for numpy documentation\n",
        "#we will first import the numpy package and name it as np\n",
        "import numpy as np \n",
        "#Henceforth, we can lazily use np to denote the much longer numpy !! "
      ],
      "execution_count": 100,
      "outputs": []
    },
    {
      "cell_type": "code",
      "metadata": {
        "id": "GZjX2IwOR8_X"
      },
      "source": [
        "#Now we will define a function which will compute and return the function value \n",
        "def evalf(x):  \n",
        "  #Input: x is a numpy array of size 2 \n",
        "  assert type(x) is np.ndarray \n",
        "  assert len(x) == 2 #do not allow arbitrary arguments \n",
        "  #after checking if the argument is valid, we can compute the objective function value\n",
        "  return (x[0]+100)**2 + (x[1]-25)**2\n"
      ],
      "execution_count": 101,
      "outputs": []
    },
    {
      "cell_type": "code",
      "metadata": {
        "id": "hu_eWNWHTg64"
      },
      "source": [
        "#check whether you can pass arbitrary arguments to evalf \n",
        "#my_x = [1,3] #Note: my_x is a list of 2 elements, but not a numpy array\n",
        "#print('f(my_x) is:',evalf(my_x))"
      ],
      "execution_count": 102,
      "outputs": []
    },
    {
      "cell_type": "code",
      "metadata": {
        "colab": {
          "base_uri": "https://localhost:8080/"
        },
        "id": "JhgbIivdTshs",
        "outputId": "92a321f0-206d-475b-c95e-786012169612"
      },
      "source": [
        "# First we will create a numpy array of size 2\n",
        "my_x = np.array([1,2])\n",
        "print('type of my_x',type(my_x), 'length of my_x:',len(my_x)) #verify if my_x is indeed a numpy array of size 2\n"
      ],
      "execution_count": 103,
      "outputs": [
        {
          "output_type": "stream",
          "name": "stdout",
          "text": [
            "type of my_x <class 'numpy.ndarray'> length of my_x: 2\n"
          ]
        }
      ]
    },
    {
      "cell_type": "code",
      "metadata": {
        "id": "o6Iky9aOT78d",
        "colab": {
          "base_uri": "https://localhost:8080/"
        },
        "outputId": "8f01478b-10ea-4594-867b-2c80387435e4"
      },
      "source": [
        "#now call evalf (x) with my_x as argument and check if it works\n",
        "print(evalf(my_x))"
      ],
      "execution_count": 104,
      "outputs": [
        {
          "output_type": "stream",
          "name": "stdout",
          "text": [
            "10730\n"
          ]
        }
      ]
    },
    {
      "cell_type": "code",
      "metadata": {
        "id": "6klpwtDra_I8"
      },
      "source": [
        "#Now we will define a function which will compute and return the gradient value as a numpy array \n",
        "def evalg(x):  \n",
        "  #Input: x is a numpy array of size 2 \n",
        "  assert type(x) is np.ndarray and len(x) == 2 #do not allow arbitrary arguments \n",
        "  #after checking if the argument is valid, we can compute the gradient value\n",
        "  return np.array([2*(x[0]+100),2*(x[1]-25)])"
      ],
      "execution_count": 105,
      "outputs": []
    },
    {
      "cell_type": "code",
      "metadata": {
        "id": "3SCJdqivdpxx"
      },
      "source": [
        "def find_minimizer(start_x, tol, step_length):\n",
        "  #Input: start_x is a numpy array of size 2, tol denotes the tolerance and is a positive float value\n",
        "  assert type(start_x) is np.ndarray and len(start_x) == 2 #do not allow arbitrary arguments \n",
        "  assert type(tol) is float and tol>=0 \n",
        "  assert type(step_length) is float and step_length>=0 \n",
        "  x = start_x\n",
        "  g_x = evalg(x)\n",
        "  k = 0\n",
        "\n",
        "  #we can manage a list to store the function values, might be useful for plotting \n",
        "  fvals = [evalf(x)]\n",
        "  #print('iter:',k, ' x:', x, ' f(x):', evalf(x), ' grad at x:', g_x, ' gradient norm:', np.linalg.norm(g_x))\n",
        "\n",
        "  while (np.linalg.norm(g_x) > tol): #continue as long as the norm of gradient is not close to zero upto a tolerance tol\n",
        "    x = np.subtract(x, np.multiply(step_length,g_x)) #update x = x - step_length*g_x\n",
        "    k += 1 #increment iteration\n",
        "    g_x = evalg(x) #compute gradient at new point\n",
        "\n",
        "    #append the current function value to the list containing function values\n",
        "    fvals.append(evalf(x))\n",
        "    #print('iter:',k, ' x:', x, ' f(x):', evalf(x), ' grad at x:', g_x, ' gradient norm:', np.linalg.norm(g_x))\n",
        "  return x, fvals, k \n"
      ],
      "execution_count": 106,
      "outputs": []
    },
    {
      "cell_type": "code",
      "metadata": {
        "id": "n-kHCkbwe-M4",
        "colab": {
          "base_uri": "https://localhost:8080/"
        },
        "outputId": "b619feb1-c393-4e86-baab-8da1a9ee5ddf"
      },
      "source": [
        "my_start_x = np.array([10,10])\n",
        "my_steplength = 0.1\n",
        "my_tol= 1e-3 #10^{-3} or 0.001\n",
        "opt_x, fvals_ret, iters = find_minimizer(my_start_x, my_tol, my_steplength)\n",
        "print('Optimizer:',opt_x)"
      ],
      "execution_count": 107,
      "outputs": [
        {
          "output_type": "stream",
          "name": "stdout",
          "text": [
            "Optimizer: [-99.99958844  24.99994388]\n"
          ]
        }
      ]
    },
    {
      "cell_type": "code",
      "source": [
        "print('Minimizer:',opt_x)\n",
        "print('Minimum function value:',fvals_ret[-1])"
      ],
      "metadata": {
        "colab": {
          "base_uri": "https://localhost:8080/"
        },
        "id": "OKN2VRuCF6L7",
        "outputId": "54b08d84-feb1-4b97-f3d1-fbd96243dde4"
      },
      "execution_count": 108,
      "outputs": [
        {
          "output_type": "stream",
          "name": "stdout",
          "text": [
            "Minimizer: [-99.99958844  24.99994388]\n",
            "Minimum function value: 1.7253033717248775e-07\n"
          ]
        }
      ]
    },
    {
      "cell_type": "code",
      "metadata": {
        "id": "Ft_3BxMzfREx",
        "colab": {
          "base_uri": "https://localhost:8080/",
          "height": 279
        },
        "outputId": "4e58f14a-6433-45a1-c964-dcf0da1345bc"
      },
      "source": [
        "#we will plot the function values and check the behavior\n",
        "import matplotlib.pyplot as plt #package useful for plotting\n",
        "plt.plot(fvals_ret)\n",
        "plt.xlabel('Iterations')\n",
        "plt.ylabel('f(x)')\n",
        "plt.show()"
      ],
      "execution_count": 109,
      "outputs": [
        {
          "output_type": "display_data",
          "data": {
            "text/plain": [
              "<Figure size 432x288 with 1 Axes>"
            ],
            "image/png": "[encoded data removed]"
          },
          "metadata": {
            "needs_background": "light"
          }
        }
      ]
    },
    {
      "cell_type": "markdown",
      "source": [
        "**Code for answer 3**"
      ],
      "metadata": {
        "id": "JJcvGCzU_J-q"
      }
    },
    {
      "cell_type": "code",
      "metadata": {
        "id": "E6_yk3_CaBYJ",
        "colab": {
          "base_uri": "https://localhost:8080/"
        },
        "outputId": "d60d14b6-1ffc-441d-e6a7-aee433a4e603"
      },
      "source": [
        "my_start_x = np.array([10,10])\n",
        "my_steplength = 0.1\n",
        "iter_list=[]\n",
        "tau=[]\n",
        "print('Tolerance values'+'\\t\\t'+'Minimizer'+'        \\t\\t\\t'+'Minimum function value'+'\\t\\t'+'Number of iterations taken by algorithm to terminate')\n",
        "for p in range(10): \n",
        "  my_tol= float(10**(-(p+1)))\n",
        "  tau.append(my_tol)\n",
        "  opt_x, fvals_ret, iters = find_minimizer(my_start_x, my_tol, my_steplength)\n",
        "  iter_list.append(iters)\n",
        "  print(tau[p],'    \\t\\t',opt_x,'    \\t\\t',fvals_ret[-1],'    \\t',iters)"
      ],
      "execution_count": 110,
      "outputs": [
        {
          "output_type": "stream",
          "name": "stdout",
          "text": [
            "Tolerance values\t\tMinimizer        \t\t\tMinimum function value\t\tNumber of iterations taken by algorithm to terminate\n",
            "0.1     \t\t [-99.9553787   24.99391528]     \t\t 0.0020280843668995063     \t 35\n",
            "0.01     \t\t [-99.99520882  24.99934666]     \t\t 2.3382220797474075e-05     \t 45\n",
            "0.001     \t\t [-99.99958844  24.99994388]     \t\t 1.7253033717248775e-07     \t 56\n",
            "0.0001     \t\t [-99.99995581  24.99999397]     \t\t 1.989139359193299e-09     \t 66\n",
            "1e-05     \t\t [-99.99999526  24.99999935]     \t\t 2.293321544605827e-11     \t 76\n",
            "1e-06     \t\t [-99.99999959  24.99999994]     \t\t 1.6921726745458407e-13     \t 87\n",
            "1e-07     \t\t [-99.99999996  24.99999999]     \t\t 1.950942200128245e-15     \t 97\n",
            "1e-08     \t\t [-100.   25.]     \t\t 2.249273021138356e-17     \t 107\n",
            "1e-09     \t\t [-100.   25.]     \t\t 1.6597088735501767e-19     \t 118\n",
            "1e-10     \t\t [-100.   25.]     \t\t 1.9135732950098918e-21     \t 128\n"
          ]
        }
      ]
    },
    {
      "cell_type": "code",
      "source": [
        "print(iter_list)"
      ],
      "metadata": {
        "colab": {
          "base_uri": "https://localhost:8080/"
        },
        "id": "QLpeAFMiNXRh",
        "outputId": "e8f04a4b-c449-425a-f5a0-cf0f2250069f"
      },
      "execution_count": 111,
      "outputs": [
        {
          "output_type": "stream",
          "name": "stdout",
          "text": [
            "[35, 45, 56, 66, 76, 87, 97, 107, 118, 128]\n"
          ]
        }
      ]
    },
    {
      "cell_type": "code",
      "source": [
        "print(tau)"
      ],
      "metadata": {
        "colab": {
          "base_uri": "https://localhost:8080/"
        },
        "id": "Hz6uhbpGOmtQ",
        "outputId": "31ec0dfe-534d-46c2-e253-55e6234d7ac8"
      },
      "execution_count": 112,
      "outputs": [
        {
          "output_type": "stream",
          "name": "stdout",
          "text": [
            "[0.1, 0.01, 0.001, 0.0001, 1e-05, 1e-06, 1e-07, 1e-08, 1e-09, 1e-10]\n"
          ]
        }
      ]
    },
    {
      "cell_type": "code",
      "source": [
        "#we will plot the function values and check the behavior\n",
        "import matplotlib.pyplot as plt #package useful for plotting\n",
        "plt.plot(tau, iter_list)\n",
        "plt.ylabel('No of max iterations')\n",
        "plt.xlabel('Stopping tolerances')\n",
        "plt.show()"
      ],
      "metadata": {
        "colab": {
          "base_uri": "https://localhost:8080/",
          "height": 279
        },
        "id": "oxWKB_iCNNNO",
        "outputId": "a3f45a24-ceee-4c2f-ee99-93c63564a057"
      },
      "execution_count": 113,
      "outputs": [
        {
          "output_type": "display_data",
          "data": {
            "text/plain": [
              "<Figure size 432x288 with 1 Axes>"
            ],
            "image/png": "[encoded data removed]"
          },
          "metadata": {
            "needs_background": "light"
          }
        }
      ]
    },
    {
      "cell_type": "markdown",
      "source": [
        "**Code for answer 4**"
      ],
      "metadata": {
        "id": "uQoQmqhB_Q4J"
      }
    },
    {
      "cell_type": "code",
      "source": [
        "my_start_x = np.array([10,10])\n",
        "my_tol= 1e-5\n",
        "iter_list2=[]\n",
        "step_list=[0.0001, 0.001, 0.01, 0.1, 0.2, 0.4, 0.5, 0.6, 0.7, 0.8, 0.9]\n",
        "print('Step length'+'       \\t'+'Minimizer'+'\\t\\t\\t'+'Minimum function value'+'   \\t'+'Number of iterations taken by algorithm to terminate')\n",
        "for p in range(11):\n",
        "  opt_x, fvals_ret, iters = find_minimizer(my_start_x, my_tol, step_list[p])\n",
        "  iter_list2.append(iters)\n",
        "  print(step_list[p],'    \\t',opt_x,'\\t\\t',fvals_ret[-1],'    \\t',iters)"
      ],
      "metadata": {
        "colab": {
          "base_uri": "https://localhost:8080/"
        },
        "id": "IxAhOetNPj08",
        "outputId": "20eb245d-cec2-4fc2-ecf3-225700f4899e"
      },
      "execution_count": 114,
      "outputs": [
        {
          "output_type": "stream",
          "name": "stdout",
          "text": [
            "Step length       \tMinimizer\t\t\tMinimum function value   \tNumber of iterations taken by algorithm to terminate\n",
            "0.0001     \t [-99.99999505  24.99999932] \t\t 2.49936770204995e-11     \t 84571\n",
            "0.001     \t [-99.99999505  24.99999933] \t\t 2.494219709847674e-11     \t 8450\n",
            "0.01     \t [-99.99999512  24.99999933] \t\t 2.4304673044883465e-11     \t 838\n",
            "0.1     \t [-99.99999526  24.99999935] \t\t 2.293321544605827e-11     \t 76\n",
            "0.2     \t [-99.99999685  24.99999957] \t\t 1.011747066175869e-11     \t 34\n",
            "0.4     \t [-99.99999775  24.99999969] \t\t 5.169479687800271e-12     \t 11\n",
            "0.5     \t [-100.   25.] \t\t 0.0     \t 1\n",
            "0.6     \t [-100.00000225   25.00000031] \t\t 5.169479687800271e-12     \t 11\n",
            "0.7     \t [-100.00000302   25.00000041] \t\t 9.312506683476372e-12     \t 19\n",
            "0.8     \t [-99.99999685  24.99999957] \t\t 1.011747066175869e-11     \t 34\n",
            "0.9     \t [-99.99999526  24.99999935] \t\t 2.293321544605827e-11     \t 76\n"
          ]
        }
      ]
    },
    {
      "cell_type": "code",
      "source": [
        "#we will plot the function values and check the behavior\n",
        "import matplotlib.pyplot as plt #package useful for plotting\n",
        "plt.plot(step_list, iter_list2)\n",
        "plt.ylabel('No of max iterations')\n",
        "plt.xlabel('Step lengths')\n",
        "plt.show()"
      ],
      "metadata": {
        "colab": {
          "base_uri": "https://localhost:8080/",
          "height": 279
        },
        "id": "eHGJxfOLP-pr",
        "outputId": "1029a835-5554-4abb-f8b5-2fad15cf569b"
      },
      "execution_count": 115,
      "outputs": [
        {
          "output_type": "display_data",
          "data": {
            "text/plain": [
              "<Figure size 432x288 with 1 Axes>"
            ],
            "image/png": "[encoded data removed]"
          },
          "metadata": {
            "needs_background": "light"
          }
        }
      ]
    },
    {
      "cell_type": "markdown",
      "source": [
        "**Code for answer 5**"
      ],
      "metadata": {
        "id": "rZHosxD1_VN-"
      }
    },
    {
      "cell_type": "code",
      "source": [
        "my_step_length=0.1\n",
        "my_tol= 1e-5\n",
        "my_start_x=np.array([(10000, 10000),(500, 0),(0, 1000),(1, 1),(-500, -2)])\n",
        "print('Starting point'+'        \\t\\t'+'Minimizer'+'\\t\\t\\t'+'Minimum function value'+'   \\t'+'Number of iterations taken by algorithm to terminate')\n",
        "for p in range(5):\n",
        "  opt_x, fvals_ret, iters = find_minimizer(my_start_x[p], my_tol, my_step_length)\n",
        "  print(my_start_x[p],'      \\t',opt_x,'\\t\\t',fvals_ret[-1],'    \\t',iters)                                                                                                                  "
      ],
      "metadata": {
        "colab": {
          "base_uri": "https://localhost:8080/"
        },
        "id": "q1sFhzfzQYiw",
        "outputId": "d9f7115b-4853-4543-948e-214127d16e8d"
      },
      "execution_count": 116,
      "outputs": [
        {
          "output_type": "stream",
          "name": "stdout",
          "text": [
            "Starting point        \t\tMinimizer\t\t\tMinimum function value   \tNumber of iterations taken by algorithm to terminate\n",
            "[10000 10000]       \t [-99.99999679  25.00000317] \t\t 2.0414342669998657e-11     \t 98\n",
            "[500   0]       \t [-99.99999566  24.99999982] \t\t 1.888746375147865e-11     \t 84\n",
            "[   0 1000]       \t [-99.99999954  25.00000452] \t\t 2.060780080476227e-11     \t 86\n",
            "[1 1]       \t [-99.99999564  24.99999896] \t\t 2.0052840841640608e-11     \t 76\n",
            "[-500   -2]       \t [-100.00000452   24.99999969] \t\t 2.055190630073527e-11     \t 82\n"
          ]
        }
      ]
    },
    {
      "cell_type": "markdown",
      "source": [
        "Answer 2) \n",
        "\n",
        "Minimizer: [-99.99958844  24.99994388]\n",
        "\n",
        "Minimum function value: 1.7253033717248775e-07"
      ],
      "metadata": {
        "id": "H_KO2WeV844C"
      }
    },
    {
      "cell_type": "markdown",
      "source": [
        "Answer 3) We can observe that as the stopping tolerance values decrease, the number of iterations taken by the algorithm to terminate increase but we get a more accurate solution as minimum function value decreases with decrease in stopping tolerance values. Also, both x and y coordinate values of the final minimizer is seen to be increasing with decrease in stopping tolerance values."
      ],
      "metadata": {
        "id": "hTNlfXdQ84tK"
      }
    },
    {
      "cell_type": "markdown",
      "source": [
        "Answer 4) We can observe that as the step lengths increase, the number of iterations taken by the algorithm to terminate decrease or remains same till step length 0.6 after which it starts increasing. Minimum function value decreases till step length 0.5 after which it starts increasing. Both x and y coordinate values of the final minimizer is seen to be increasing with decrease in step lengths till 0.7 after which they both start decreasing."
      ],
      "metadata": {
        "id": "pO682FRF84kx"
      }
    },
    {
      "cell_type": "markdown",
      "source": [
        "Answer 5) The closer the starting point is to the final minimizer, the less number of iterations are taken by the algorithm to terminate. Minimum function value and value of minimizer almost remain the same with slight decrease or increase but no general trend is seen."
      ],
      "metadata": {
        "id": "WqG9yqSV84Sj"
      }
    }
  ]
}