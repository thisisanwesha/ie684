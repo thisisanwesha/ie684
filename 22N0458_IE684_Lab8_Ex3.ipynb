{
  "nbformat": 4,
  "nbformat_minor": 0,
  "metadata": {
    "colab": {
      "provenance": []
    },
    "kernelspec": {
      "name": "python3",
      "display_name": "Python 3"
    },
    "language_info": {
      "name": "python"
    }
  },
  "cells": [
    {
      "cell_type": "code",
      "execution_count": 1,
      "metadata": {
        "id": "Ny4k_9zHetBl"
      },
      "outputs": [],
      "source": [
        "import numpy as np\n",
        "import pandas as pd\n",
        "from sklearn.model_selection import train_test_split\n",
        "from sklearn.neighbors import KNeighborsClassifier\n",
        "import matplotlib.pyplot as plt \n",
        "from sklearn.preprocessing import StandardScaler\n",
        "from sklearn.decomposition import PCA\n",
        "from sklearn.cluster import KMeans"
      ]
    },
    {
      "cell_type": "code",
      "source": [
        "df=pd.read_csv('haberman.data',sep=',',header=None)"
      ],
      "metadata": {
        "id": "_Zn35jyOfSF6"
      },
      "execution_count": 2,
      "outputs": []
    },
    {
      "cell_type": "code",
      "source": [
        "df.columns=['Age of patient','Year of operation','No of positive axillary nodes detected','Survival Status']"
      ],
      "metadata": {
        "id": "9jxeQWdffZHK"
      },
      "execution_count": 3,
      "outputs": []
    },
    {
      "cell_type": "code",
      "source": [
        "df"
      ],
      "metadata": {
        "colab": {
          "base_uri": "https://localhost:8080/",
          "height": 423
        },
        "id": "cuYS31T_fa83",
        "outputId": "d4bba2d6-c8a6-4ee7-f8ad-330c06daf837"
      },
      "execution_count": 4,
      "outputs": [
        {
          "output_type": "execute_result",
          "data": {
            "text/plain": [
              "     Age of patient  Year of operation  \\\n",
              "0                30                 64   \n",
              "1                30                 62   \n",
              "2                30                 65   \n",
              "3                31                 59   \n",
              "4                31                 65   \n",
              "..              ...                ...   \n",
              "301              75                 62   \n",
              "302              76                 67   \n",
              "303              77                 65   \n",
              "304              78                 65   \n",
              "305              83                 58   \n",
              "\n",
              "     No of positive axillary nodes detected  Survival Status  \n",
              "0                                         1                1  \n",
              "1                                         3                1  \n",
              "2                                         0                1  \n",
              "3                                         2                1  \n",
              "4                                         4                1  \n",
              "..                                      ...              ...  \n",
              "301                                       1                1  \n",
              "302                                       0                1  \n",
              "303                                       3                1  \n",
              "304                                       1                2  \n",
              "305                                       2                2  \n",
              "\n",
              "[306 rows x 4 columns]"
            ],
            "text/html": [
              "\n",
              "  <div id=\"df-0b95e76b-e828-45c1-aa4e-28390dbb39fe\">\n",
              "    <div class=\"colab-df-container\">\n",
              "      <div>\n",
              "<style scoped>\n",
              "    .dataframe tbody tr th:only-of-type {\n",
              "        vertical-align: middle;\n",
              "    }\n",
              "\n",
              "    .dataframe tbody tr th {\n",
              "        vertical-align: top;\n",
              "    }\n",
              "\n",
              "    .dataframe thead th {\n",
              "        text-align: right;\n",
              "    }\n",
              "</style>\n",
              "<table border=\"1\" class=\"dataframe\">\n",
              "  <thead>\n",
              "    <tr style=\"text-align: right;\">\n",
              "      <th></th>\n",
              "      <th>Age of patient</th>\n",
              "      <th>Year of operation</th>\n",
              "      <th>No of positive axillary nodes detected</th>\n",
              "      <th>Survival Status</th>\n",
              "    </tr>\n",
              "  </thead>\n",
              "  <tbody>\n",
              "    <tr>\n",
              "      <th>0</th>\n",
              "      <td>30</td>\n",
              "      <td>64</td>\n",
              "      <td>1</td>\n",
              "      <td>1</td>\n",
              "    </tr>\n",
              "    <tr>\n",
              "      <th>1</th>\n",
              "      <td>30</td>\n",
              "      <td>62</td>\n",
              "      <td>3</td>\n",
              "      <td>1</td>\n",
              "    </tr>\n",
              "    <tr>\n",
              "      <th>2</th>\n",
              "      <td>30</td>\n",
              "      <td>65</td>\n",
              "      <td>0</td>\n",
              "      <td>1</td>\n",
              "    </tr>\n",
              "    <tr>\n",
              "      <th>3</th>\n",
              "      <td>31</td>\n",
              "      <td>59</td>\n",
              "      <td>2</td>\n",
              "      <td>1</td>\n",
              "    </tr>\n",
              "    <tr>\n",
              "      <th>4</th>\n",
              "      <td>31</td>\n",
              "      <td>65</td>\n",
              "      <td>4</td>\n",
              "      <td>1</td>\n",
              "    </tr>\n",
              "    <tr>\n",
              "      <th>...</th>\n",
              "      <td>...</td>\n",
              "      <td>...</td>\n",
              "      <td>...</td>\n",
              "      <td>...</td>\n",
              "    </tr>\n",
              "    <tr>\n",
              "      <th>301</th>\n",
              "      <td>75</td>\n",
              "      <td>62</td>\n",
              "      <td>1</td>\n",
              "      <td>1</td>\n",
              "    </tr>\n",
              "    <tr>\n",
              "      <th>302</th>\n",
              "      <td>76</td>\n",
              "      <td>67</td>\n",
              "      <td>0</td>\n",
              "      <td>1</td>\n",
              "    </tr>\n",
              "    <tr>\n",
              "      <th>303</th>\n",
              "      <td>77</td>\n",
              "      <td>65</td>\n",
              "      <td>3</td>\n",
              "      <td>1</td>\n",
              "    </tr>\n",
              "    <tr>\n",
              "      <th>304</th>\n",
              "      <td>78</td>\n",
              "      <td>65</td>\n",
              "      <td>1</td>\n",
              "      <td>2</td>\n",
              "    </tr>\n",
              "    <tr>\n",
              "      <th>305</th>\n",
              "      <td>83</td>\n",
              "      <td>58</td>\n",
              "      <td>2</td>\n",
              "      <td>2</td>\n",
              "    </tr>\n",
              "  </tbody>\n",
              "</table>\n",
              "<p>306 rows × 4 columns</p>\n",
              "</div>\n",
              "      <button class=\"colab-df-convert\" onclick=\"convertToInteractive('df-0b95e76b-e828-45c1-aa4e-28390dbb39fe')\"\n",
              "              title=\"Convert this dataframe to an interactive table.\"\n",
              "              style=\"display:none;\">\n",
              "        \n",
              "  <svg xmlns=\"http://www.w3.org/2000/svg\" height=\"24px\"viewBox=\"0 0 24 24\"\n",
              "       width=\"24px\">\n",
              "    <path d=\"M0 0h24v24H0V0z\" fill=\"none\"/>\n",
              "    <path d=\"M18.56 5.44l.94 2.06.94-2.06 2.06-.94-2.06-.94-.94-2.06-.94 2.06-2.06.94zm-11 1L8.5 8.5l.94-2.06 2.06-.94-2.06-.94L8.5 2.5l-.94 2.06-2.06.94zm10 10l.94 2.06.94-2.06 2.06-.94-2.06-.94-.94-2.06-.94 2.06-2.06.94z\"/><path d=\"M17.41 7.96l-1.37-1.37c-.4-.4-.92-.59-1.43-.59-.52 0-1.04.2-1.43.59L10.3 9.45l-7.72 7.72c-.78.78-.78 2.05 0 2.83L4 21.41c.39.39.9.59 1.41.59.51 0 1.02-.2 1.41-.59l7.78-7.78 2.81-2.81c.8-.78.8-2.07 0-2.86zM5.41 20L4 18.59l7.72-7.72 1.47 1.35L5.41 20z\"/>\n",
              "  </svg>\n",
              "      </button>\n",
              "      \n",
              "  <style>\n",
              "    .colab-df-container {\n",
              "      display:flex;\n",
              "      flex-wrap:wrap;\n",
              "      gap: 12px;\n",
              "    }\n",
              "\n",
              "    .colab-df-convert {\n",
              "      background-color: #E8F0FE;\n",
              "      border: none;\n",
              "      border-radius: 50%;\n",
              "      cursor: pointer;\n",
              "      display: none;\n",
              "      fill: #1967D2;\n",
              "      height: 32px;\n",
              "      padding: 0 0 0 0;\n",
              "      width: 32px;\n",
              "    }\n",
              "\n",
              "    .colab-df-convert:hover {\n",
              "      background-color: #E2EBFA;\n",
              "      box-shadow: 0px 1px 2px rgba(60, 64, 67, 0.3), 0px 1px 3px 1px rgba(60, 64, 67, 0.15);\n",
              "      fill: #174EA6;\n",
              "    }\n",
              "\n",
              "    [theme=dark] .colab-df-convert {\n",
              "      background-color: #3B4455;\n",
              "      fill: #D2E3FC;\n",
              "    }\n",
              "\n",
              "    [theme=dark] .colab-df-convert:hover {\n",
              "      background-color: #434B5C;\n",
              "      box-shadow: 0px 1px 3px 1px rgba(0, 0, 0, 0.15);\n",
              "      filter: drop-shadow(0px 1px 2px rgba(0, 0, 0, 0.3));\n",
              "      fill: #FFFFFF;\n",
              "    }\n",
              "  </style>\n",
              "\n",
              "      <script>\n",
              "        const buttonEl =\n",
              "          document.querySelector('#df-0b95e76b-e828-45c1-aa4e-28390dbb39fe button.colab-df-convert');\n",
              "        buttonEl.style.display =\n",
              "          google.colab.kernel.accessAllowed ? 'block' : 'none';\n",
              "\n",
              "        async function convertToInteractive(key) {\n",
              "          const element = document.querySelector('#df-0b95e76b-e828-45c1-aa4e-28390dbb39fe');\n",
              "          const dataTable =\n",
              "            await google.colab.kernel.invokeFunction('convertToInteractive',\n",
              "                                                     [key], {});\n",
              "          if (!dataTable) return;\n",
              "\n",
              "          const docLinkHtml = 'Like what you see? Visit the ' +\n",
              "            '<a target=\"_blank\" href=https://colab.research.google.com/notebooks/data_table.ipynb>data table notebook</a>'\n",
              "            + ' to learn more about interactive tables.';\n",
              "          element.innerHTML = '';\n",
              "          dataTable['output_type'] = 'display_data';\n",
              "          await google.colab.output.renderOutput(dataTable, element);\n",
              "          const docLink = document.createElement('div');\n",
              "          docLink.innerHTML = docLinkHtml;\n",
              "          element.appendChild(docLink);\n",
              "        }\n",
              "      </script>\n",
              "    </div>\n",
              "  </div>\n",
              "  "
            ]
          },
          "metadata": {},
          "execution_count": 4
        }
      ]
    },
    {
      "cell_type": "code",
      "source": [
        "y = df['Survival Status']"
      ],
      "metadata": {
        "id": "AVQSpW08g-BJ"
      },
      "execution_count": 5,
      "outputs": []
    },
    {
      "cell_type": "code",
      "source": [
        "X = df.drop('Survival Status', axis = 1)"
      ],
      "metadata": {
        "id": "NO_AItF5Rxvx"
      },
      "execution_count": 6,
      "outputs": []
    },
    {
      "cell_type": "code",
      "source": [
        "X"
      ],
      "metadata": {
        "colab": {
          "base_uri": "https://localhost:8080/",
          "height": 423
        },
        "id": "fwpuctuJSBz_",
        "outputId": "3e14e43c-c7cc-4488-d098-6c525b19f8ca"
      },
      "execution_count": 7,
      "outputs": [
        {
          "output_type": "execute_result",
          "data": {
            "text/plain": [
              "     Age of patient  Year of operation  No of positive axillary nodes detected\n",
              "0                30                 64                                       1\n",
              "1                30                 62                                       3\n",
              "2                30                 65                                       0\n",
              "3                31                 59                                       2\n",
              "4                31                 65                                       4\n",
              "..              ...                ...                                     ...\n",
              "301              75                 62                                       1\n",
              "302              76                 67                                       0\n",
              "303              77                 65                                       3\n",
              "304              78                 65                                       1\n",
              "305              83                 58                                       2\n",
              "\n",
              "[306 rows x 3 columns]"
            ],
            "text/html": [
              "\n",
              "  <div id=\"df-02fe0c10-5ea0-4771-9745-cc900e1b909f\">\n",
              "    <div class=\"colab-df-container\">\n",
              "      <div>\n",
              "<style scoped>\n",
              "    .dataframe tbody tr th:only-of-type {\n",
              "        vertical-align: middle;\n",
              "    }\n",
              "\n",
              "    .dataframe tbody tr th {\n",
              "        vertical-align: top;\n",
              "    }\n",
              "\n",
              "    .dataframe thead th {\n",
              "        text-align: right;\n",
              "    }\n",
              "</style>\n",
              "<table border=\"1\" class=\"dataframe\">\n",
              "  <thead>\n",
              "    <tr style=\"text-align: right;\">\n",
              "      <th></th>\n",
              "      <th>Age of patient</th>\n",
              "      <th>Year of operation</th>\n",
              "      <th>No of positive axillary nodes detected</th>\n",
              "    </tr>\n",
              "  </thead>\n",
              "  <tbody>\n",
              "    <tr>\n",
              "      <th>0</th>\n",
              "      <td>30</td>\n",
              "      <td>64</td>\n",
              "      <td>1</td>\n",
              "    </tr>\n",
              "    <tr>\n",
              "      <th>1</th>\n",
              "      <td>30</td>\n",
              "      <td>62</td>\n",
              "      <td>3</td>\n",
              "    </tr>\n",
              "    <tr>\n",
              "      <th>2</th>\n",
              "      <td>30</td>\n",
              "      <td>65</td>\n",
              "      <td>0</td>\n",
              "    </tr>\n",
              "    <tr>\n",
              "      <th>3</th>\n",
              "      <td>31</td>\n",
              "      <td>59</td>\n",
              "      <td>2</td>\n",
              "    </tr>\n",
              "    <tr>\n",
              "      <th>4</th>\n",
              "      <td>31</td>\n",
              "      <td>65</td>\n",
              "      <td>4</td>\n",
              "    </tr>\n",
              "    <tr>\n",
              "      <th>...</th>\n",
              "      <td>...</td>\n",
              "      <td>...</td>\n",
              "      <td>...</td>\n",
              "    </tr>\n",
              "    <tr>\n",
              "      <th>301</th>\n",
              "      <td>75</td>\n",
              "      <td>62</td>\n",
              "      <td>1</td>\n",
              "    </tr>\n",
              "    <tr>\n",
              "      <th>302</th>\n",
              "      <td>76</td>\n",
              "      <td>67</td>\n",
              "      <td>0</td>\n",
              "    </tr>\n",
              "    <tr>\n",
              "      <th>303</th>\n",
              "      <td>77</td>\n",
              "      <td>65</td>\n",
              "      <td>3</td>\n",
              "    </tr>\n",
              "    <tr>\n",
              "      <th>304</th>\n",
              "      <td>78</td>\n",
              "      <td>65</td>\n",
              "      <td>1</td>\n",
              "    </tr>\n",
              "    <tr>\n",
              "      <th>305</th>\n",
              "      <td>83</td>\n",
              "      <td>58</td>\n",
              "      <td>2</td>\n",
              "    </tr>\n",
              "  </tbody>\n",
              "</table>\n",
              "<p>306 rows × 3 columns</p>\n",
              "</div>\n",
              "      <button class=\"colab-df-convert\" onclick=\"convertToInteractive('df-02fe0c10-5ea0-4771-9745-cc900e1b909f')\"\n",
              "              title=\"Convert this dataframe to an interactive table.\"\n",
              "              style=\"display:none;\">\n",
              "        \n",
              "  <svg xmlns=\"http://www.w3.org/2000/svg\" height=\"24px\"viewBox=\"0 0 24 24\"\n",
              "       width=\"24px\">\n",
              "    <path d=\"M0 0h24v24H0V0z\" fill=\"none\"/>\n",
              "    <path d=\"M18.56 5.44l.94 2.06.94-2.06 2.06-.94-2.06-.94-.94-2.06-.94 2.06-2.06.94zm-11 1L8.5 8.5l.94-2.06 2.06-.94-2.06-.94L8.5 2.5l-.94 2.06-2.06.94zm10 10l.94 2.06.94-2.06 2.06-.94-2.06-.94-.94-2.06-.94 2.06-2.06.94z\"/><path d=\"M17.41 7.96l-1.37-1.37c-.4-.4-.92-.59-1.43-.59-.52 0-1.04.2-1.43.59L10.3 9.45l-7.72 7.72c-.78.78-.78 2.05 0 2.83L4 21.41c.39.39.9.59 1.41.59.51 0 1.02-.2 1.41-.59l7.78-7.78 2.81-2.81c.8-.78.8-2.07 0-2.86zM5.41 20L4 18.59l7.72-7.72 1.47 1.35L5.41 20z\"/>\n",
              "  </svg>\n",
              "      </button>\n",
              "      \n",
              "  <style>\n",
              "    .colab-df-container {\n",
              "      display:flex;\n",
              "      flex-wrap:wrap;\n",
              "      gap: 12px;\n",
              "    }\n",
              "\n",
              "    .colab-df-convert {\n",
              "      background-color: #E8F0FE;\n",
              "      border: none;\n",
              "      border-radius: 50%;\n",
              "      cursor: pointer;\n",
              "      display: none;\n",
              "      fill: #1967D2;\n",
              "      height: 32px;\n",
              "      padding: 0 0 0 0;\n",
              "      width: 32px;\n",
              "    }\n",
              "\n",
              "    .colab-df-convert:hover {\n",
              "      background-color: #E2EBFA;\n",
              "      box-shadow: 0px 1px 2px rgba(60, 64, 67, 0.3), 0px 1px 3px 1px rgba(60, 64, 67, 0.15);\n",
              "      fill: #174EA6;\n",
              "    }\n",
              "\n",
              "    [theme=dark] .colab-df-convert {\n",
              "      background-color: #3B4455;\n",
              "      fill: #D2E3FC;\n",
              "    }\n",
              "\n",
              "    [theme=dark] .colab-df-convert:hover {\n",
              "      background-color: #434B5C;\n",
              "      box-shadow: 0px 1px 3px 1px rgba(0, 0, 0, 0.15);\n",
              "      filter: drop-shadow(0px 1px 2px rgba(0, 0, 0, 0.3));\n",
              "      fill: #FFFFFF;\n",
              "    }\n",
              "  </style>\n",
              "\n",
              "      <script>\n",
              "        const buttonEl =\n",
              "          document.querySelector('#df-02fe0c10-5ea0-4771-9745-cc900e1b909f button.colab-df-convert');\n",
              "        buttonEl.style.display =\n",
              "          google.colab.kernel.accessAllowed ? 'block' : 'none';\n",
              "\n",
              "        async function convertToInteractive(key) {\n",
              "          const element = document.querySelector('#df-02fe0c10-5ea0-4771-9745-cc900e1b909f');\n",
              "          const dataTable =\n",
              "            await google.colab.kernel.invokeFunction('convertToInteractive',\n",
              "                                                     [key], {});\n",
              "          if (!dataTable) return;\n",
              "\n",
              "          const docLinkHtml = 'Like what you see? Visit the ' +\n",
              "            '<a target=\"_blank\" href=https://colab.research.google.com/notebooks/data_table.ipynb>data table notebook</a>'\n",
              "            + ' to learn more about interactive tables.';\n",
              "          element.innerHTML = '';\n",
              "          dataTable['output_type'] = 'display_data';\n",
              "          await google.colab.output.renderOutput(dataTable, element);\n",
              "          const docLink = document.createElement('div');\n",
              "          docLink.innerHTML = docLinkHtml;\n",
              "          element.appendChild(docLink);\n",
              "        }\n",
              "      </script>\n",
              "    </div>\n",
              "  </div>\n",
              "  "
            ]
          },
          "metadata": {},
          "execution_count": 7
        }
      ]
    },
    {
      "cell_type": "code",
      "source": [
        "y"
      ],
      "metadata": {
        "colab": {
          "base_uri": "https://localhost:8080/"
        },
        "id": "H_mRpu25SDOw",
        "outputId": "98a7b6e9-6fa8-4d2c-f7a2-fc5e12dbfcc1"
      },
      "execution_count": 8,
      "outputs": [
        {
          "output_type": "execute_result",
          "data": {
            "text/plain": [
              "0      1\n",
              "1      1\n",
              "2      1\n",
              "3      1\n",
              "4      1\n",
              "      ..\n",
              "301    1\n",
              "302    1\n",
              "303    1\n",
              "304    2\n",
              "305    2\n",
              "Name: Survival Status, Length: 306, dtype: int64"
            ]
          },
          "metadata": {},
          "execution_count": 8
        }
      ]
    },
    {
      "cell_type": "code",
      "source": [
        "K = np.array(list(range(1,6)))"
      ],
      "metadata": {
        "id": "6_CYXUnYrQQq"
      },
      "execution_count": 9,
      "outputs": []
    },
    {
      "cell_type": "code",
      "source": [
        "sc = StandardScaler()\n",
        "X = sc.fit_transform(X)\n",
        "\n",
        "pca = PCA(2)\n",
        "X = pca.fit_transform(X)"
      ],
      "metadata": {
        "id": "fh64mT5J5Z8u"
      },
      "execution_count": 10,
      "outputs": []
    },
    {
      "cell_type": "code",
      "source": [
        "X_train, X_test, y_train, y_test = train_test_split(X, y, test_size = 0.2, random_state = 100)"
      ],
      "metadata": {
        "id": "k-kzRvQadMPT"
      },
      "execution_count": 11,
      "outputs": []
    },
    {
      "cell_type": "code",
      "source": [
        "test_L1 = []\n",
        "test_L2 = []\n",
        "print(\"K\\t L1 accuracy\\t   \\t L2 accuracy\")\n",
        "for i in K:\n",
        "  clf = KNeighborsClassifier(n_neighbors = i, metric='manhattan')\n",
        "  clf.fit(X_train, y_train)\n",
        "  test_score_L1 = clf.score(X_test, y_test)\n",
        "    \n",
        "  clf = KNeighborsClassifier(n_neighbors = i, metric='euclidean')\n",
        "  clf.fit(X_train, y_train)\n",
        "  test_score_L2 = clf.score(X_test, y_test)\n",
        "    \n",
        "  test_L1.append(test_score_L1)\n",
        "  test_L2.append(test_score_L2)\n",
        "  print(i,\"\\t\",test_score_L1,\"\\t\",test_score_L2)"
      ],
      "metadata": {
        "colab": {
          "base_uri": "https://localhost:8080/"
        },
        "id": "rWPaG32TqRF8",
        "outputId": "17914897-5563-45d0-8fc5-89240de55d12"
      },
      "execution_count": 12,
      "outputs": [
        {
          "output_type": "stream",
          "name": "stdout",
          "text": [
            "K\t L1 accuracy\t   \t L2 accuracy\n",
            "1 \t 0.7419354838709677 \t 0.7258064516129032\n",
            "2 \t 0.7580645161290323 \t 0.7903225806451613\n",
            "3 \t 0.7258064516129032 \t 0.6774193548387096\n",
            "4 \t 0.7258064516129032 \t 0.7580645161290323\n",
            "5 \t 0.7419354838709677 \t 0.7419354838709677\n"
          ]
        }
      ]
    },
    {
      "cell_type": "code",
      "source": [
        "plt.plot(K,test_L1, color='b',marker='*', label='L1')\n",
        "plt.plot(K,test_L2, color='r', marker='o', label='L2')\n",
        "plt.xlabel('k (Number of clusters)')\n",
        "plt.ylabel('Test Accuracy')\n",
        "plt.title(\"Graph between k and test accuracy for Train-Test Split 80:20\")\n",
        "plt.legend()\n",
        "plt.show()"
      ],
      "metadata": {
        "colab": {
          "base_uri": "https://localhost:8080/",
          "height": 295
        },
        "id": "46kh0EpIvZl0",
        "outputId": "b5fde8d6-0703-4aa9-d54e-62b5f3c73392"
      },
      "execution_count": 13,
      "outputs": [
        {
          "output_type": "display_data",
          "data": {
            "text/plain": [
              "<Figure size 432x288 with 1 Axes>"
            ],
            "image/png": "[encoded data removed]"
          },
          "metadata": {
            "needs_background": "light"
          }
        }
      ]
    },
    {
      "cell_type": "code",
      "source": [
        "plt.bar(K-0.1,test_L1, color='b', width=0.25, label='L1')\n",
        "plt.bar(K+0.1,test_L2, color='r', width=0.25, label='L2')\n",
        "plt.xlabel('k (Number of clusters)')\n",
        "plt.ylabel('Test Accuracy')\n",
        "plt.title(\"Graph between k and test accuracy for Train-Test Split 80:20\")\n",
        "plt.legend()\n",
        "plt.show()"
      ],
      "metadata": {
        "colab": {
          "base_uri": "https://localhost:8080/",
          "height": 295
        },
        "id": "zh6-ueT8wi06",
        "outputId": "56c07747-ad34-4d7a-cec2-0c724699c3ec"
      },
      "execution_count": 14,
      "outputs": [
        {
          "output_type": "display_data",
          "data": {
            "text/plain": [
              "<Figure size 432x288 with 1 Axes>"
            ],
            "image/png": "[encoded data removed]"
          },
          "metadata": {
            "needs_background": "light"
          }
        }
      ]
    },
    {
      "cell_type": "code",
      "source": [
        "X_train, X_test, y_train, y_test = train_test_split(X, y, test_size = 0.4, random_state = 100)"
      ],
      "metadata": {
        "id": "mW0gIMGdduO8"
      },
      "execution_count": 15,
      "outputs": []
    },
    {
      "cell_type": "code",
      "source": [
        "test_L1 = []\n",
        "test_L2 = []\n",
        "print(\"K\\t L1 accuracy\\t   \\t L2 accuracy\")\n",
        "for i in K:\n",
        "  clf = KNeighborsClassifier(n_neighbors = i, metric='manhattan')\n",
        "  clf.fit(X_train, y_train)\n",
        "  test_score_L1 = clf.score(X_test, y_test)\n",
        "    \n",
        "  clf = KNeighborsClassifier(n_neighbors = i, metric='euclidean')\n",
        "  clf.fit(X_train, y_train)\n",
        "  test_score_L2 = clf.score(X_test, y_test)\n",
        "    \n",
        "  test_L1.append(test_score_L1)\n",
        "  test_L2.append(test_score_L2)\n",
        "  print(i,\"\\t\",test_score_L1,\"\\t\",test_score_L2)"
      ],
      "metadata": {
        "colab": {
          "base_uri": "https://localhost:8080/"
        },
        "id": "BLCTyfpIvJ3q",
        "outputId": "40b1a1c7-39a1-451a-9a6d-e290581516b8"
      },
      "execution_count": 16,
      "outputs": [
        {
          "output_type": "stream",
          "name": "stdout",
          "text": [
            "K\t L1 accuracy\t   \t L2 accuracy\n",
            "1 \t 0.6910569105691057 \t 0.6829268292682927\n",
            "2 \t 0.7317073170731707 \t 0.7479674796747967\n",
            "3 \t 0.7154471544715447 \t 0.7235772357723578\n",
            "4 \t 0.7235772357723578 \t 0.7560975609756098\n",
            "5 \t 0.7317073170731707 \t 0.7235772357723578\n"
          ]
        }
      ]
    },
    {
      "cell_type": "code",
      "source": [
        "plt.plot(K,test_L1, color='b',marker='*', label='L1')\n",
        "plt.plot(K,test_L2, color='r', marker='o', label='L2')\n",
        "plt.xlabel('k (Number of clusters)')\n",
        "plt.ylabel('Test Accuracy')\n",
        "plt.title(\"Graph between k and test accuracy for Train-Test Split 60:40\")\n",
        "plt.legend()\n",
        "plt.show()"
      ],
      "metadata": {
        "colab": {
          "base_uri": "https://localhost:8080/",
          "height": 295
        },
        "id": "HwilKcXVxh7p",
        "outputId": "469a0b4b-ca26-43e8-ed5d-2c7049574e4d"
      },
      "execution_count": 17,
      "outputs": [
        {
          "output_type": "display_data",
          "data": {
            "text/plain": [
              "<Figure size 432x288 with 1 Axes>"
            ],
            "image/png": "[encoded data removed]"
          },
          "metadata": {
            "needs_background": "light"
          }
        }
      ]
    },
    {
      "cell_type": "code",
      "source": [
        "plt.bar(K-0.1,test_L1, color='b', width=0.25, label='L1')\n",
        "plt.bar(K+0.1,test_L2, color='r', width=0.25, label='L2')\n",
        "plt.xlabel('k (Number of clusters)')\n",
        "plt.ylabel('Test Accuracy')\n",
        "plt.title(\"Graph between k and test accuracy for Train-Test Split 60:40\")\n",
        "plt.legend()\n",
        "plt.show()"
      ],
      "metadata": {
        "colab": {
          "base_uri": "https://localhost:8080/",
          "height": 295
        },
        "id": "qzF6khyBxzLA",
        "outputId": "07d49527-b903-46b1-caba-30d97eb47499"
      },
      "execution_count": 18,
      "outputs": [
        {
          "output_type": "display_data",
          "data": {
            "text/plain": [
              "<Figure size 432x288 with 1 Axes>"
            ],
            "image/png": "[encoded data removed]"
          },
          "metadata": {
            "needs_background": "light"
          }
        }
      ]
    },
    {
      "cell_type": "code",
      "source": [
        "X_train, X_test, y_train, y_test = train_test_split(X, y, test_size = 0.3, random_state = 100)"
      ],
      "metadata": {
        "id": "Ep9DOZArdyut"
      },
      "execution_count": 19,
      "outputs": []
    },
    {
      "cell_type": "code",
      "source": [
        "test_L1 = []\n",
        "test_L2 = []\n",
        "print(\"K\\t L1 accuracy\\t   \\t L2 accuracy\")\n",
        "for i in K:\n",
        "  clf = KNeighborsClassifier(n_neighbors = i, metric='manhattan')\n",
        "  clf.fit(X_train, y_train)\n",
        "  test_score_L1 = clf.score(X_test, y_test)\n",
        "    \n",
        "  clf = KNeighborsClassifier(n_neighbors = i, metric='euclidean')\n",
        "  clf.fit(X_train, y_train)\n",
        "  test_score_L2 = clf.score(X_test, y_test)\n",
        "    \n",
        "  test_L1.append(test_score_L1)\n",
        "  test_L2.append(test_score_L2)\n",
        "  print(i,\"\\t\",test_score_L1,\"\\t\",test_score_L2)"
      ],
      "metadata": {
        "colab": {
          "base_uri": "https://localhost:8080/"
        },
        "id": "GtjjPpOzvSSl",
        "outputId": "4eda9f2e-cac8-4e47-f126-bb0a32a05d7e"
      },
      "execution_count": 20,
      "outputs": [
        {
          "output_type": "stream",
          "name": "stdout",
          "text": [
            "K\t L1 accuracy\t   \t L2 accuracy\n",
            "1 \t 0.7391304347826086 \t 0.7391304347826086\n",
            "2 \t 0.7391304347826086 \t 0.75\n",
            "3 \t 0.6956521739130435 \t 0.717391304347826\n",
            "4 \t 0.717391304347826 \t 0.7282608695652174\n",
            "5 \t 0.7391304347826086 \t 0.7282608695652174\n"
          ]
        }
      ]
    },
    {
      "cell_type": "code",
      "source": [
        "plt.plot(K,test_L1, color='b',marker='*', label='L1')\n",
        "plt.plot(K,test_L2, color='r', marker='o', label='L2')\n",
        "plt.xlabel('k (Number of clusters)')\n",
        "plt.ylabel('Test Accuracy')\n",
        "plt.title(\"Graph between k and test accuracy for Train-Test Split 70:30\")\n",
        "plt.legend()\n",
        "plt.show()"
      ],
      "metadata": {
        "colab": {
          "base_uri": "https://localhost:8080/",
          "height": 295
        },
        "id": "_ZwTSHaxxkeZ",
        "outputId": "bdef9afb-2688-4225-903c-d03da993f20d"
      },
      "execution_count": 21,
      "outputs": [
        {
          "output_type": "display_data",
          "data": {
            "text/plain": [
              "<Figure size 432x288 with 1 Axes>"
            ],
            "image/png": "[encoded data removed]"
          },
          "metadata": {
            "needs_background": "light"
          }
        }
      ]
    },
    {
      "cell_type": "code",
      "source": [
        "plt.bar(K-0.1,test_L1, color='b', width=0.25, label='L1')\n",
        "plt.bar(K+0.1,test_L2, color='r', width=0.25, label='L2')\n",
        "plt.xlabel('k (Number of clusters)')\n",
        "plt.ylabel('Test Accuracy')\n",
        "plt.title(\"Graph between k and test accuracy for Train-Test Split 70:30\")\n",
        "plt.legend()\n",
        "plt.show()"
      ],
      "metadata": {
        "colab": {
          "base_uri": "https://localhost:8080/",
          "height": 295
        },
        "id": "YlSz3gt7x3rF",
        "outputId": "e76ab5c5-398b-4cc2-c34a-2d8a7fb4acca"
      },
      "execution_count": 22,
      "outputs": [
        {
          "output_type": "display_data",
          "data": {
            "text/plain": [
              "<Figure size 432x288 with 1 Axes>"
            ],
            "image/png": "[encoded data removed]"
          },
          "metadata": {
            "needs_background": "light"
          }
        }
      ]
    },
    {
      "cell_type": "code",
      "source": [
        "X_train, X_test, y_train, y_test = train_test_split(X, y, test_size = 0.1, random_state = 100)"
      ],
      "metadata": {
        "id": "PovSGLyCd2_t"
      },
      "execution_count": 23,
      "outputs": []
    },
    {
      "cell_type": "code",
      "source": [
        "test_L1 = []\n",
        "test_L2 = []\n",
        "print(\"K\\t L1 accuracy\\t   \\t L2 accuracy\")\n",
        "for i in K:\n",
        "  clf = KNeighborsClassifier(n_neighbors = i, metric='manhattan')\n",
        "  clf.fit(X_train, y_train)\n",
        "  test_score_L1 = clf.score(X_test, y_test)\n",
        "    \n",
        "  clf = KNeighborsClassifier(n_neighbors = i, metric='euclidean')\n",
        "  clf.fit(X_train, y_train)\n",
        "  test_score_L2 = clf.score(X_test, y_test)\n",
        "    \n",
        "  test_L1.append(test_score_L1)\n",
        "  test_L2.append(test_score_L2)\n",
        "  print(i,\"\\t\",test_score_L1,\"\\t\",test_score_L2)"
      ],
      "metadata": {
        "colab": {
          "base_uri": "https://localhost:8080/"
        },
        "id": "DEfaBDg9vTne",
        "outputId": "dbe61fb7-3dd7-41aa-ae89-c8c1dc00bdbb"
      },
      "execution_count": 24,
      "outputs": [
        {
          "output_type": "stream",
          "name": "stdout",
          "text": [
            "K\t L1 accuracy\t   \t L2 accuracy\n",
            "1 \t 0.8064516129032258 \t 0.7741935483870968\n",
            "2 \t 0.7741935483870968 \t 0.7741935483870968\n",
            "3 \t 0.6774193548387096 \t 0.6451612903225806\n",
            "4 \t 0.7419354838709677 \t 0.7741935483870968\n",
            "5 \t 0.7096774193548387 \t 0.6774193548387096\n"
          ]
        }
      ]
    },
    {
      "cell_type": "code",
      "source": [
        "plt.plot(K,test_L1, color='b',marker='*', label='L1')\n",
        "plt.plot(K,test_L2, color='r', marker='o', label='L2')\n",
        "plt.xlabel('k (Number of clusters)')\n",
        "plt.ylabel('Test Accuracy')\n",
        "plt.title(\"Graph between k and test accuracy for Train-Test Split 90:10\")\n",
        "plt.legend()\n",
        "plt.show()"
      ],
      "metadata": {
        "colab": {
          "base_uri": "https://localhost:8080/",
          "height": 295
        },
        "id": "bvJntZ6oxmlj",
        "outputId": "bfa0e3a2-92e2-47c0-c641-f433caf25218"
      },
      "execution_count": 25,
      "outputs": [
        {
          "output_type": "display_data",
          "data": {
            "text/plain": [
              "<Figure size 432x288 with 1 Axes>"
            ],
            "image/png": "[encoded data removed]"
          },
          "metadata": {
            "needs_background": "light"
          }
        }
      ]
    },
    {
      "cell_type": "code",
      "source": [
        "plt.bar(K-0.1,test_L1, color='b', width=0.25, label='L1')\n",
        "plt.bar(K+0.1,test_L2, color='r', width=0.25, label='L2')\n",
        "plt.xlabel('k (Number of clusters)')\n",
        "plt.ylabel('Test Accuracy')\n",
        "plt.title(\"Graph between k and test accuracy for Train-Test Split 90:10\")\n",
        "plt.legend()\n",
        "plt.show()"
      ],
      "metadata": {
        "colab": {
          "base_uri": "https://localhost:8080/",
          "height": 295
        },
        "id": "fdetXKOQx7nq",
        "outputId": "a2f32c48-e764-4b3e-b015-920aae9a1271"
      },
      "execution_count": 26,
      "outputs": [
        {
          "output_type": "display_data",
          "data": {
            "text/plain": [
              "<Figure size 432x288 with 1 Axes>"
            ],
            "image/png": "[encoded data removed]"
          },
          "metadata": {
            "needs_background": "light"
          }
        }
      ]
    },
    {
      "cell_type": "code",
      "source": [
        "from sklearn.datasets import fetch_california_housing\n",
        "\n",
        "california_housing = fetch_california_housing(as_frame=True)"
      ],
      "metadata": {
        "id": "5ULNp10HhkB3"
      },
      "execution_count": 27,
      "outputs": []
    },
    {
      "cell_type": "code",
      "source": [
        "X_housing = california_housing.frame"
      ],
      "metadata": {
        "id": "tMqWs9aRhsgK"
      },
      "execution_count": 28,
      "outputs": []
    },
    {
      "cell_type": "code",
      "source": [
        "K = np.array(list(range(2,6)))"
      ],
      "metadata": {
        "id": "05SnIlbBhuzi"
      },
      "execution_count": 29,
      "outputs": []
    },
    {
      "cell_type": "code",
      "source": [
        "sc = StandardScaler()\n",
        "X_housing = sc.fit_transform(X_housing)"
      ],
      "metadata": {
        "id": "v3DrMidOh6AH"
      },
      "execution_count": 30,
      "outputs": []
    },
    {
      "cell_type": "code",
      "source": [
        "pca = PCA(2)\n",
        "X = pca.fit_transform(X_housing)"
      ],
      "metadata": {
        "id": "E9UzFs6wh73q"
      },
      "execution_count": 31,
      "outputs": []
    },
    {
      "cell_type": "code",
      "source": [
        "X"
      ],
      "metadata": {
        "colab": {
          "base_uri": "https://localhost:8080/"
        },
        "id": "jyWafuRojSRq",
        "outputId": "a25f7595-2bdc-44c5-8315-942b50b82fd4"
      },
      "execution_count": 32,
      "outputs": [
        {
          "output_type": "execute_result",
          "data": {
            "text/plain": [
              "array([[ 2.34654276,  0.34644059],\n",
              "       [ 1.76136708,  0.43812372],\n",
              "       [ 2.33031157, -0.12620806],\n",
              "       ...,\n",
              "       [ 0.68738046, -2.0567699 ],\n",
              "       [ 0.82843475, -2.07324029],\n",
              "       [ 0.77143988, -1.83274305]])"
            ]
          },
          "metadata": {},
          "execution_count": 32
        }
      ]
    },
    {
      "cell_type": "markdown",
      "source": [
        "For L2 Norm:"
      ],
      "metadata": {
        "id": "nKjXOKEbIi0W"
      }
    },
    {
      "cell_type": "code",
      "source": [
        "for i in K:\n",
        "  kmeans = KMeans(n_clusters=i, random_state=100, n_init='auto', tol=1e-3, max_iter=10**4).fit(X)\n",
        "  a=kmeans.labels_\n",
        "  b=kmeans.cluster_centers_\n",
        "  print(\"\\n\\nK:\",i)\n",
        "  print(\"Clusters (labels):\", a)\n",
        "  print(\"Centroid:\",b)\n",
        "  plt.scatter(X[:,0],X[:,1],c=a,cmap='rainbow')\n",
        "  plt.show()"
      ],
      "metadata": {
        "colab": {
          "base_uri": "https://localhost:8080/",
          "height": 1000
        },
        "id": "DH-XRfHyIH4t",
        "outputId": "7d52c8d9-66e3-4d17-dff4-d6cb6c3585b5"
      },
      "execution_count": 33,
      "outputs": [
        {
          "output_type": "stream",
          "name": "stdout",
          "text": [
            "\n",
            "\n",
            "K: 2\n",
            "Clusters (labels): [0 0 0 ... 0 0 0]\n",
            "Centroid: [[-0.07401478 -0.04416821]\n",
            " [ 5.75676797  3.43534272]]\n"
          ]
        },
        {
          "output_type": "display_data",
          "data": {
            "text/plain": [
              "<Figure size 432x288 with 1 Axes>"
            ],
            "image/png": "[encoded data removed]"
          },
          "metadata": {
            "needs_background": "light"
          }
        },
        {
          "output_type": "stream",
          "name": "stdout",
          "text": [
            "\n",
            "\n",
            "K: 3\n",
            "Clusters (labels): [2 2 2 ... 2 2 2]\n",
            "Centroid: [[-0.72512003  0.86979454]\n",
            " [12.34192968  5.38094552]\n",
            " [ 0.83675634 -1.16554646]]\n"
          ]
        },
        {
          "output_type": "display_data",
          "data": {
            "text/plain": [
              "<Figure size 432x288 with 1 Axes>"
            ],
            "image/png": "[encoded data removed]"
          },
          "metadata": {
            "needs_background": "light"
          }
        },
        {
          "output_type": "stream",
          "name": "stdout",
          "text": [
            "\n",
            "\n",
            "K: 4\n",
            "Clusters (labels): [1 1 2 ... 2 2 2]\n",
            "Centroid: [[-0.90913652  0.63815151]\n",
            " [ 1.58541595  2.14145726]\n",
            " [ 0.75265408 -1.30522574]\n",
            " [59.41663371 28.52538232]]\n"
          ]
        },
        {
          "output_type": "display_data",
          "data": {
            "text/plain": [
              "<Figure size 432x288 with 1 Axes>"
            ],
            "image/png": "[encoded data removed]"
          },
          "metadata": {
            "needs_background": "light"
          }
        },
        {
          "output_type": "stream",
          "name": "stdout",
          "text": [
            "\n",
            "\n",
            "K: 5\n",
            "Clusters (labels): [2 4 2 ... 2 2 2]\n",
            "Centroid: [[-1.00358771  0.49326003]\n",
            " [10.74911335  4.55668508]\n",
            " [ 0.78144336 -1.29916821]\n",
            " [59.41663371 28.52538232]\n",
            " [ 0.63972506  1.91391253]]\n"
          ]
        },
        {
          "output_type": "display_data",
          "data": {
            "text/plain": [
              "<Figure size 432x288 with 1 Axes>"
            ],
            "image/png": "[encoded data removed]"
          },
          "metadata": {
            "needs_background": "light"
          }
        }
      ]
    },
    {
      "cell_type": "markdown",
      "source": [
        "For L1 norm:"
      ],
      "metadata": {
        "id": "UibanUeTI7El"
      }
    },
    {
      "cell_type": "code",
      "source": [
        "def kmeans(data, k, tol=1e-3, max_iter=10**4):\n",
        "    centroids = data[np.random.choice(data.shape[0], size=k, replace=False)]\n",
        "    manhattan = lambda x, y: np.sum(np.abs(x - y))\n",
        "    for i in range(max_iter):\n",
        "        dist = np.zeros((data.shape[0], k))\n",
        "        for j in range(k):\n",
        "            dist[:, j] = np.apply_along_axis(lambda x: manhattan(x, centroids[j]), 1, data)\n",
        "        labels = np.argmin(dist, axis=1)\n",
        "        new_centroids = np.zeros((k, data.shape[1]))\n",
        "        for j in range(k):\n",
        "            mask = labels == j\n",
        "            if np.sum(mask) > 0:\n",
        "                new_centroids[j, :] = np.mean(data[mask, :], axis=0)\n",
        "            else:\n",
        "                new_centroids[j, :] = centroids[j, :]\n",
        "        if np.sum(np.abs(new_centroids - centroids)) < tol:\n",
        "            break\n",
        "        centroids = new_centroids\n",
        "    return labels, centroids"
      ],
      "metadata": {
        "id": "viFJoRLhI8sZ"
      },
      "execution_count": 34,
      "outputs": []
    },
    {
      "cell_type": "code",
      "source": [
        "for i in K:\n",
        "  a, b = kmeans(X, i, tol=1e-3, max_iter=10**4)\n",
        "  print(\"\\n\\nK:\",i)\n",
        "  print(\"Clusters (labels):\", a)\n",
        "  print(\"Centroid:\",b)\n",
        "  plt.scatter(X[:,0],X[:,1],c=a,cmap='rainbow')\n",
        "  plt.show()"
      ],
      "metadata": {
        "colab": {
          "base_uri": "https://localhost:8080/",
          "height": 1000
        },
        "id": "Vuf5PMqNI_MG",
        "outputId": "4ee7e3f3-62cb-4d98-ee0a-6ea20fe4f6af"
      },
      "execution_count": 35,
      "outputs": [
        {
          "output_type": "stream",
          "name": "stdout",
          "text": [
            "\n",
            "\n",
            "K: 2\n",
            "Clusters (labels): [0 0 0 ... 0 0 0]\n",
            "Centroid: [[ 0.76615506 -1.28451588]\n",
            " [-0.52928529  0.88738613]]\n"
          ]
        },
        {
          "output_type": "display_data",
          "data": {
            "text/plain": [
              "<Figure size 432x288 with 1 Axes>"
            ],
            "image/png": "[encoded data removed]"
          },
          "metadata": {
            "needs_background": "light"
          }
        },
        {
          "output_type": "stream",
          "name": "stdout",
          "text": [
            "\n",
            "\n",
            "K: 3\n",
            "Clusters (labels): [2 2 1 ... 1 1 1]\n",
            "Centroid: [[-0.95351455  0.55978885]\n",
            " [ 0.75114709 -1.33771586]\n",
            " [ 1.2739677   1.9709223 ]]\n"
          ]
        },
        {
          "output_type": "display_data",
          "data": {
            "text/plain": [
              "<Figure size 432x288 with 1 Axes>"
            ],
            "image/png": "[encoded data removed]"
          },
          "metadata": {
            "needs_background": "light"
          }
        },
        {
          "output_type": "stream",
          "name": "stdout",
          "text": [
            "\n",
            "\n",
            "K: 4\n",
            "Clusters (labels): [3 3 2 ... 2 2 2]\n",
            "Centroid: [[-0.99310094  0.50869072]\n",
            " [15.887783    7.23549761]\n",
            " [ 0.77523714 -1.30577976]\n",
            " [ 0.78126767  1.92540001]]\n"
          ]
        },
        {
          "output_type": "display_data",
          "data": {
            "text/plain": [
              "<Figure size 432x288 with 1 Axes>"
            ],
            "image/png": "[encoded data removed]"
          },
          "metadata": {
            "needs_background": "light"
          }
        },
        {
          "output_type": "stream",
          "name": "stdout",
          "text": [
            "\n",
            "\n",
            "K: 5\n",
            "Clusters (labels): [1 1 1 ... 0 0 0]\n",
            "Centroid: [[ 0.68491744 -2.04343575]\n",
            " [ 1.80792371 -0.0100661 ]\n",
            " [-0.94359457  0.64318085]\n",
            " [ 0.48263365 -0.95533474]\n",
            " [ 1.21947596  2.58123322]]\n"
          ]
        },
        {
          "output_type": "display_data",
          "data": {
            "text/plain": [
              "<Figure size 432x288 with 1 Axes>"
            ],
            "image/png": "[encoded data removed]"
          },
          "metadata": {
            "needs_background": "light"
          }
        }
      ]
    },
    {
      "cell_type": "code",
      "source": [
        "pca = PCA(3)\n",
        "X = pca.fit_transform(X_housing)"
      ],
      "metadata": {
        "id": "gjFHCZoDiCDx"
      },
      "execution_count": 36,
      "outputs": []
    },
    {
      "cell_type": "code",
      "source": [
        "X"
      ],
      "metadata": {
        "colab": {
          "base_uri": "https://localhost:8080/"
        },
        "id": "H-xGsucWk4lC",
        "outputId": "185c0921-b36f-4c7c-8b3f-8f831fd0b901"
      },
      "execution_count": 37,
      "outputs": [
        {
          "output_type": "execute_result",
          "data": {
            "text/plain": [
              "array([[ 2.34654276,  0.34644059, -3.02850342],\n",
              "       [ 1.76136708,  0.43812372, -2.15169173],\n",
              "       [ 2.33031157, -0.12620806, -2.23671518],\n",
              "       ...,\n",
              "       [ 0.68738046, -2.0567699 ,  0.94838264],\n",
              "       [ 0.82843475, -2.07324029,  0.95409328],\n",
              "       [ 0.77143988, -1.83274305,  0.88029193]])"
            ]
          },
          "metadata": {},
          "execution_count": 37
        }
      ]
    },
    {
      "cell_type": "code",
      "source": [
        "for i in K:\n",
        "  kmeans = KMeans(n_clusters=i, random_state=100, n_init='auto', tol=1e-3, max_iter=10**4).fit(X)\n",
        "  a=kmeans.labels_\n",
        "  b=kmeans.cluster_centers_\n",
        "  print(\"\\n\\nK:\",i)\n",
        "  print(\"Clusters (labels):\", a)\n",
        "  print(\"Centroid:\",b)"
      ],
      "metadata": {
        "colab": {
          "base_uri": "https://localhost:8080/"
        },
        "id": "_G1XmPlsicYh",
        "outputId": "519bf305-ad71-4558-9443-1368dd6f9062"
      },
      "execution_count": 38,
      "outputs": [
        {
          "output_type": "stream",
          "name": "stdout",
          "text": [
            "\n",
            "\n",
            "K: 2\n",
            "Clusters (labels): [0 0 0 ... 1 1 1]\n",
            "Centroid: [[ 0.97065033  0.81856507 -1.13155023]\n",
            " [-0.38714179 -0.32648292  0.45131637]]\n",
            "\n",
            "\n",
            "K: 3\n",
            "Clusters (labels): [0 0 0 ... 1 1 1]\n",
            "Centroid: [[ 0.77760376  0.76515735 -1.27097974]\n",
            " [-0.37504158 -0.33474216  0.46568357]\n",
            " [11.98151155  5.17277331  8.83859533]]\n",
            "\n",
            "\n",
            "K: 4\n",
            "Clusters (labels): [0 0 0 ... 3 3 3]\n",
            "Centroid: [[ 0.77300973  1.51622082 -1.57914562]\n",
            " [-0.95192859  0.51291734  0.53907073]\n",
            " [11.98151155  5.17277331  8.83859533]\n",
            " [ 0.77407126 -1.40033343 -0.08644697]]\n",
            "\n",
            "\n",
            "K: 5\n",
            "Clusters (labels): [4 4 4 ... 3 3 3]\n",
            "Centroid: [[ 0.09881413  1.82725814 -1.00997199]\n",
            " [-1.01868066  0.4471559   0.60740774]\n",
            " [11.98151155  5.17277331  8.83859533]\n",
            " [ 0.62423705 -1.5758541   0.24566364]\n",
            " [ 1.46874999 -0.35000519 -1.52265498]]\n"
          ]
        }
      ]
    },
    {
      "cell_type": "code",
      "source": [
        "def kmeans(data, k, tol=1e-3, max_iter=10**4):\n",
        "    centroids = data[np.random.choice(data.shape[0], size=k, replace=False)]\n",
        "    manhattan = lambda x, y: np.sum(np.abs(x - y))\n",
        "    for i in range(max_iter):\n",
        "        dist = np.zeros((data.shape[0], k))\n",
        "        for j in range(k):\n",
        "            dist[:, j] = np.apply_along_axis(lambda x: manhattan(x, centroids[j]), 1, data)\n",
        "        labels = np.argmin(dist, axis=1)\n",
        "        new_centroids = np.zeros((k, data.shape[1]))\n",
        "        for j in range(k):\n",
        "            mask = labels == j\n",
        "            if np.sum(mask) > 0:\n",
        "                new_centroids[j, :] = np.mean(data[mask, :], axis=0)\n",
        "            else:\n",
        "                new_centroids[j, :] = centroids[j, :]\n",
        "        if np.sum(np.abs(new_centroids - centroids)) < tol:\n",
        "            break\n",
        "        centroids = new_centroids\n",
        "    return labels, centroids"
      ],
      "metadata": {
        "id": "52TUlTIkJvjB"
      },
      "execution_count": 39,
      "outputs": []
    },
    {
      "cell_type": "code",
      "source": [
        "for i in K:\n",
        "  c,d = kmeans(X, i, tol=1e-3, max_iter=10**4)\n",
        "  print(\"\\n\\nK:\",i)\n",
        "  print(\"Clusters (labels):\", c)\n",
        "  print(\"Centroid:\",d)"
      ],
      "metadata": {
        "colab": {
          "base_uri": "https://localhost:8080/"
        },
        "id": "XPRThwXBJ0se",
        "outputId": "adcd228c-2cba-46b9-f127-b7c7bb1b39d2"
      },
      "execution_count": 40,
      "outputs": [
        {
          "output_type": "stream",
          "name": "stdout",
          "text": [
            "\n",
            "\n",
            "K: 2\n",
            "Clusters (labels): [0 0 0 ... 0 0 0]\n",
            "Centroid: [[ 0.8296468  -1.2767845  -0.25728539]\n",
            " [-0.55164787  0.84895819  0.17107393]]\n",
            "\n",
            "\n",
            "K: 3\n",
            "Clusters (labels): [1 1 1 ... 0 0 0]\n",
            "Centroid: [[ 0.71803497 -1.4871109  -0.02004397]\n",
            " [ 1.11693982  1.33844384 -1.23937898]\n",
            " [-0.95900092  0.49764601  0.51926064]]\n",
            "\n",
            "\n",
            "K: 4\n",
            "Clusters (labels): [1 1 1 ... 3 3 3]\n",
            "Centroid: [[-1.04443517  0.366976    0.61588201]\n",
            " [ 1.67322932  0.52955089 -2.01627717]\n",
            " [ 0.25199013  1.70087049 -0.39655634]\n",
            " [ 0.71129801 -1.49826989  0.00905634]]\n",
            "\n",
            "\n",
            "K: 5\n",
            "Clusters (labels): [1 1 1 ... 3 3 3]\n",
            "Centroid: [[-0.16840024  1.44751611 -0.46298077]\n",
            " [ 1.62000159  0.74232679 -2.06540586]\n",
            " [11.53432187  5.11496867  8.57252343]\n",
            " [ 0.72568539 -1.48770221 -0.01670333]\n",
            " [-1.07491312  0.31057457  0.6888239 ]]\n"
          ]
        }
      ]
    }
  ]
}