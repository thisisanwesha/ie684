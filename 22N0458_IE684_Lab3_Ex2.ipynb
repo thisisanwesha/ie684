{
  "cells": [
    {
      "cell_type": "markdown",
      "metadata": {
        "id": "nVE0Xoa0Q5wE"
      },
      "source": [
        "$\\Large\\textbf{Lab 3.}$ $\\large\\textbf{Exercise 2.}$\n",
        "\n"
      ]
    },
    {
      "cell_type": "code",
      "execution_count": 1,
      "metadata": {
        "id": "72qwiJ0CDtOX"
      },
      "outputs": [],
      "source": [
        "import numpy as np \n",
        "from numpy.linalg import cond\n",
        "from scipy.linalg import sqrtm\n",
        "import matplotlib.pyplot as plt\n",
        "\n",
        "#method to find Hessian matrix: Complete the code\n",
        "def evalh(x): \n",
        "  assert type(x) is np.ndarray \n",
        "  assert len(x) == 2\n",
        "  return np.array([[-2048*x[1]+6144*x[0]**2+2,-2048*x[0]],[-2048*x[0],1024]])\n",
        "\n",
        "#method to find the condition number of any square matrix: : Complete the code\n",
        "def find_condition_number(A):\n",
        "  assert type(A) is np.ndarray\n",
        "  assert A.shape[0] == A.shape[1]\n",
        "  return cond(A)"
      ]
    },
    {
      "cell_type": "code",
      "execution_count": 2,
      "metadata": {
        "id": "KJq7tIgIRroP"
      },
      "outputs": [],
      "source": [
        "#The method defines a way to construct D_k matrix used in scaling the gradient in the modified gradient descent scheme\n",
        "def compute_D_k(x):\n",
        "  assert type(x) is np.ndarray\n",
        "  assert len(x) == 2\n",
        "  #compute and return D_k\n",
        "  a=1/(evalh(x)[0][0])\n",
        "  b=1/(evalh(x)[1][1])\n",
        "  return np.array([[a, 0], [0, b]])\n"
      ]
    },
    {
      "cell_type": "code",
      "execution_count": 3,
      "metadata": {
        "id": "fO57EUXi44n6"
      },
      "outputs": [],
      "source": [
        "def compute_D_k_newton(x):\n",
        "    assert type(x) is np.ndarray\n",
        "    assert len(x) == 2\n",
        "    \n",
        "    return np.linalg.inv(evalh(x))"
      ]
    },
    {
      "cell_type": "code",
      "execution_count": 4,
      "metadata": {
        "id": "GZjX2IwOR8_X"
      },
      "outputs": [],
      "source": [
        "#Now we will define a Python function which will compute and return the objective function value \n",
        "def evalf(x):  \n",
        "  #Input: x is a numpy array of size 2 \n",
        "  assert type(x) is np.ndarray and len(x) == 2 #do not allow arbitrary arguments \n",
        "  #after checking if the argument is valid, we can compute the objective function value\n",
        "  #compute the function value and return it \n",
        "  return (512*(x[1]-x[0]**2)**2 + (4-x[0])**2)\n"
      ]
    },
    {
      "cell_type": "code",
      "execution_count": 5,
      "metadata": {
        "id": "6klpwtDra_I8"
      },
      "outputs": [],
      "source": [
        "#Now we will define a Python function which will compute and return the gradient value as a numpy array \n",
        "def evalg(x):  \n",
        "  #Input: x is a numpy array of size 2 \n",
        "  assert type(x) is np.ndarray and len(x) == 2 #do not allow arbitrary arguments \n",
        "  #after checking if the argument is valid, we can compute the gradient value\n",
        "  #compute the gradient value and return it \n",
        "  return np.array([-2048*x[0]*(x[1]-x[0]**2)+2*x[0]-8, 1024*(x[1]-x[0]**2)])"
      ]
    },
    {
      "cell_type": "code",
      "execution_count": 6,
      "metadata": {
        "id": "PGunDYy6Q21S"
      },
      "outputs": [],
      "source": [
        "#Complete the module to compute the steplength by using the closed-form expression\n",
        "def compute_steplength_backtracking(x, gradf, alpha_start, rho, gamma, *args): #add appropriate arguments to the function \n",
        "  assert type(x) is np.ndarray and len(gradf) == 2 \n",
        "  assert type(gradf) is np.ndarray and len(gradf) == 2 \n",
        "  assert type(alpha_start) is float and alpha_start>=0. \n",
        "  assert type(rho) is float and rho>=0.\n",
        "  assert type(gamma) is float and gamma>=0. \n",
        "  \n",
        "  #Complete the code \n",
        "  alpha = alpha_start\n",
        "  pk = -gradf\n",
        "  while evalf(np.add(x, alpha*pk)) > np.add(evalf(x), gamma*alpha*np.dot(gradf.T,pk)):\n",
        "    alpha = rho*alpha\n",
        "\n",
        "  return alpha\n",
        "  "
      ]
    },
    {
      "cell_type": "code",
      "execution_count": 7,
      "metadata": {
        "id": "wqjdHM3eaHYf"
      },
      "outputs": [],
      "source": [
        "def compute_steplength_backtracking_scaled_direction(x, gradf, direction, alpha_start, rho, gamma, *args): #add appropriate arguments to the function \n",
        "  assert type(x) is np.ndarray and len(gradf) == 2 \n",
        "  assert type(gradf) is np.ndarray and len(gradf) == 2 \n",
        "  assert type(direction) is np.ndarray and len(direction) == 2 \n",
        "  assert type(alpha_start) is float and alpha_start>=0. \n",
        "  assert type(rho) is float and rho>=0.\n",
        "  assert type(gamma) is float and gamma>=0. \n",
        "  \n",
        "  \n",
        "  \n",
        "  #Complete the code \n",
        "  alpha = alpha_start\n",
        "  pk = -gradf\n",
        "  while evalf(np.add(x, alpha*np.dot(direction,pk))) > np.subtract(evalf(x), gamma*alpha*np.dot(np.dot(direction,gradf), gradf)):\n",
        "    alpha = rho*alpha\n",
        "  return alpha"
      ]
    },
    {
      "cell_type": "code",
      "execution_count": 8,
      "metadata": {
        "id": "GvLRu5s635ph"
      },
      "outputs": [],
      "source": [
        "#line search type \n",
        "EXACT_LINE_SEARCH = 1\n",
        "BACKTRACKING_LINE_SEARCH = 2\n",
        "CONSTANT_STEP_LENGTH = 3"
      ]
    },
    {
      "cell_type": "code",
      "execution_count": 9,
      "metadata": {
        "id": "QQu-ilfp7diy"
      },
      "outputs": [],
      "source": [
        "# D_k choice type\n",
        "newton = 4\n",
        "diagonal_approx = 5"
      ]
    },
    {
      "cell_type": "code",
      "execution_count": 10,
      "metadata": {
        "id": "kdYW5nldqZU-"
      },
      "outputs": [],
      "source": [
        "#complete the code for gradient descent to find the minimizer\n",
        "def find_minimizer_gd(start_x, tol, line_search_type, *args):\n",
        "    #Input: start_x is a numpy array of size 2, tol denotes the tolerance and is a positive float value\n",
        "    assert type(start_x) is np.ndarray and len(start_x) == 2 #do not allow arbitrary arguments \n",
        "    assert type(tol) is float and tol>=0 \n",
        "\n",
        "    x = start_x\n",
        "    g_x = evalg(x)\n",
        "    condition_array = [find_condition_number(evalh(x))]\n",
        "\n",
        "    #initialization for backtracking line search\n",
        "    if(line_search_type == BACKTRACKING_LINE_SEARCH):\n",
        "        alpha_start = args[0]\n",
        "        rho = args[1]\n",
        "        gamma = args[2]\n",
        "\n",
        "    k = 0\n",
        "\n",
        "    while (np.linalg.norm(g_x) > tol): #continue as long as the norm of gradient is not close to zero upto a tolerance tol\n",
        "        if line_search_type == BACKTRACKING_LINE_SEARCH:\n",
        "            step_length = compute_steplength_backtracking(x,g_x, alpha_start,rho, gamma) #call the new function you wrote to compute the steplength\n",
        "        elif line_search_type == CONSTANT_STEP_LENGTH: #do a gradient descent with constant step length\n",
        "            step_length = 0.1\n",
        "        else:  \n",
        "            raise ValueError('Line search type unknown. Please check!')\n",
        "        \n",
        "        #implement the gradient descent steps here   \n",
        "        x = np.subtract(x, np.multiply(step_length,g_x)) #update x = x - step_length*g_x\n",
        "        k += 1 #increment iteration\n",
        "        g_x = evalg(x) #compute gradient at new point\n",
        "        condition_array.append(find_condition_number(evalh(x)))\n",
        "\n",
        "    return x, evalf(x), k, condition_array\n"
      ]
    },
    {
      "cell_type": "code",
      "execution_count": 11,
      "metadata": {
        "id": "3SCJdqivdpxx"
      },
      "outputs": [],
      "source": [
        "# Code for gradient descent with scaling to find the minimizer with scaling\n",
        "\n",
        "def find_minimizer_gdscaling(start_x, tol, line_search_type, D_k_type, *args):\n",
        "    #Input: start_x is a numpy array of size 2, tol denotes the tolerance and is a positive float value\n",
        "    assert type(start_x) is np.ndarray and len(start_x) == 2 #do not allow arbitrary arguments \n",
        "    assert type(tol) is float and tol>=0 \n",
        "\n",
        "    x = start_x\n",
        "    g_x = evalg(x)\n",
        "    condition_array = []\n",
        "    \n",
        "    #initialization for backtracking line search\n",
        "    alpha_start = args[0]\n",
        "    rho = args[1]\n",
        "    gamma = args[2]\n",
        "\n",
        "    k = 0\n",
        "\n",
        "    while (np.linalg.norm(g_x) > tol): #continue as long as the norm of gradient is not close to zero upto a tolerance tol\n",
        "        if D_k_type == newton:\n",
        "            d_k = compute_D_k_newton(x)\n",
        "        elif D_k_type == diagonal_approx:\n",
        "            d_k = compute_D_k(x)\n",
        "        else:\n",
        "            raise ValueError(\"Invalid argument.\")\n",
        "\n",
        "\n",
        "        m = sqrtm(d_k)\n",
        "        condition_array.append(find_condition_number(np.dot(m.T, np.dot(evalh(x),m))))\n",
        "        if line_search_type == BACKTRACKING_LINE_SEARCH:\n",
        "            step_length = compute_steplength_backtracking_scaled_direction(x, g_x, d_k, alpha_start, rho, gamma) #call the new function you wrote to compute the steplength\n",
        "        else:  \n",
        "            raise ValueError('Line search type unknown. Please check!')\n",
        "        \n",
        "        #implement the gradient descent steps here   \n",
        "        x = np.subtract(x, np.multiply(step_length,np.dot(d_k, g_x))) #update x = x - step_length*g_x\n",
        "        k += 1 #increment iteration\n",
        "        g_x = evalg(x) #compute gradient at new point\n",
        "\n",
        "    return x, evalf(x), k, condition_array \n",
        " "
      ]
    },
    {
      "cell_type": "markdown",
      "metadata": {
        "id": "tcmoUV0J7_mH"
      },
      "source": [
        "Code for answer 1"
      ]
    },
    {
      "cell_type": "code",
      "execution_count": 12,
      "metadata": {
        "id": "3hoak3jnHkXd"
      },
      "outputs": [],
      "source": [
        "my_start_x = np.array([8.,8.])\n",
        "my_tol= 1e-5\n",
        "alpha_start = 1.\n",
        "rho = 0.5\n",
        "gamma = 0.5"
      ]
    },
    {
      "cell_type": "code",
      "execution_count": 13,
      "metadata": {
        "colab": {
          "base_uri": "https://localhost:8080/"
        },
        "id": "gD2gfCVQ8szx",
        "outputId": "2ac42071-671b-4ca5-a6a5-d973d6c73151"
      },
      "outputs": [
        {
          "output_type": "stream",
          "name": "stdout",
          "text": [
            "Minimizer = [ 3.99995978 15.99967823]\n",
            "Minimum function value = 1.6177657790688166e-09\n",
            "No of iterations = 902400\n"
          ]
        }
      ],
      "source": [
        "#check gradient descent with backtracking line search \n",
        "x_opt_bls, f_bls, iter_bls, cond_no = find_minimizer_gd(my_start_x, my_tol, BACKTRACKING_LINE_SEARCH, alpha_start, rho, gamma)\n",
        "print(\"Minimizer =\", x_opt_bls)\n",
        "print(\"Minimum function value =\", f_bls)\n",
        "print(\"No of iterations =\", iter_bls)"
      ]
    },
    {
      "cell_type": "code",
      "execution_count": 14,
      "metadata": {
        "colab": {
          "base_uri": "https://localhost:8080/"
        },
        "id": "krhQUQhs1XCA",
        "outputId": "204a9436-b99b-4403-e8ac-73c0888d0f08"
      },
      "outputs": [
        {
          "output_type": "stream",
          "name": "stderr",
          "text": [
            "IOPub data rate exceeded.\n",
            "The notebook server will temporarily stop sending output\n",
            "to the client in order to avoid crashing it.\n",
            "To change this limit, set the config variable\n",
            "`--NotebookApp.iopub_data_rate_limit`.\n",
            "\n",
            "Current values:\n",
            "NotebookApp.iopub_data_rate_limit=1000000.0 (bytes/sec)\n",
            "NotebookApp.rate_limit_window=3.0 (secs)\n",
            "\n"
          ]
        }
      ],
      "source": [
        "print(cond_no)"
      ]
    },
    {
      "cell_type": "code",
      "execution_count": 15,
      "metadata": {
        "colab": {
          "base_uri": "https://localhost:8080/"
        },
        "id": "JRjcs5G29X9x",
        "outputId": "7ec7a65a-3937-4628-cdaf-8b3a4ca2140e"
      },
      "outputs": [
        {
          "output_type": "stream",
          "name": "stdout",
          "text": [
            "Minimizer = [ 4.00000993 16.0000794 ]\n",
            "Minimum function value = 9.850897480037126e-11\n",
            "No of iterations = 904703\n"
          ]
        }
      ],
      "source": [
        "#check gradient descent with scaling and backtracking line search \n",
        "x_opt_bls_scaling, f_bls_scaling, iter_bls_scaling, cond_no_scaling = find_minimizer_gdscaling(my_start_x, my_tol, BACKTRACKING_LINE_SEARCH, diagonal_approx, alpha_start, rho, gamma)\n",
        "print(\"Minimizer =\", x_opt_bls_scaling)\n",
        "print(\"Minimum function value =\", f_bls_scaling)\n",
        "print(\"No of iterations =\", iter_bls_scaling)"
      ]
    },
    {
      "cell_type": "code",
      "execution_count": 16,
      "metadata": {
        "colab": {
          "base_uri": "https://localhost:8080/"
        },
        "id": "T0IrDZUm0fN9",
        "outputId": "dc65a7b0-a519-447c-8b29-a3bd2ff6f2ff"
      },
      "outputs": [
        {
          "output_type": "stream",
          "name": "stderr",
          "text": [
            "IOPub data rate exceeded.\n",
            "The notebook server will temporarily stop sending output\n",
            "to the client in order to avoid crashing it.\n",
            "To change this limit, set the config variable\n",
            "`--NotebookApp.iopub_data_rate_limit`.\n",
            "\n",
            "Current values:\n",
            "NotebookApp.iopub_data_rate_limit=1000000.0 (bytes/sec)\n",
            "NotebookApp.rate_limit_window=3.0 (secs)\n",
            "\n"
          ]
        }
      ],
      "source": [
        "print(cond_no_scaling)"
      ]
    },
    {
      "cell_type": "markdown",
      "metadata": {
        "id": "7u0JgT6Y8Rdm"
      },
      "source": [
        "Code for answer 4"
      ]
    },
    {
      "cell_type": "code",
      "execution_count": 17,
      "metadata": {
        "id": "FxQvByQI9Uqi"
      },
      "outputs": [],
      "source": [
        "my_start_x = np.array([8.,8.])\n",
        "my_tol= 1e-5\n",
        "alpha_start = 1.\n",
        "rho = 0.5\n",
        "gamma = 0.5"
      ]
    },
    {
      "cell_type": "code",
      "execution_count": 18,
      "metadata": {
        "id": "tKSmaPCj9WEb",
        "colab": {
          "base_uri": "https://localhost:8080/"
        },
        "outputId": "ada34922-b8a4-477c-81e5-d8172ff39d0d"
      },
      "outputs": [
        {
          "output_type": "stream",
          "name": "stdout",
          "text": [
            "Minimizer = [ 3.99995978 15.99967823]\n",
            "Minimum function value = 1.6177657790688166e-09\n",
            "No of iterations = 902400\n"
          ]
        }
      ],
      "source": [
        "#check gradient descent with backtracking line search \n",
        "x_opt_bls, f_bls, iter_bls, cond_no = find_minimizer_gd(my_start_x, my_tol, BACKTRACKING_LINE_SEARCH, alpha_start, rho, gamma)\n",
        "print(\"Minimizer =\", x_opt_bls)\n",
        "print(\"Minimum function value =\", f_bls)\n",
        "print(\"No of iterations =\", iter_bls)"
      ]
    },
    {
      "cell_type": "code",
      "execution_count": 19,
      "metadata": {
        "id": "sMuAgTIX1R3h",
        "colab": {
          "base_uri": "https://localhost:8080/"
        },
        "outputId": "37cd470c-9305-4f3b-9890-3989e39ac153"
      },
      "outputs": [
        {
          "output_type": "stream",
          "name": "stderr",
          "text": [
            "IOPub data rate exceeded.\n",
            "The notebook server will temporarily stop sending output\n",
            "to the client in order to avoid crashing it.\n",
            "To change this limit, set the config variable\n",
            "`--NotebookApp.iopub_data_rate_limit`.\n",
            "\n",
            "Current values:\n",
            "NotebookApp.iopub_data_rate_limit=1000000.0 (bytes/sec)\n",
            "NotebookApp.rate_limit_window=3.0 (secs)\n",
            "\n"
          ]
        }
      ],
      "source": [
        "print(cond_no)"
      ]
    },
    {
      "cell_type": "code",
      "execution_count": 20,
      "metadata": {
        "id": "ubaEa5vF8x_e",
        "colab": {
          "base_uri": "https://localhost:8080/"
        },
        "outputId": "7dcf0842-b9f8-4800-f7a8-b24cd2332ff3"
      },
      "outputs": [
        {
          "output_type": "stream",
          "name": "stdout",
          "text": [
            "Minimizer = [ 4. 16.]\n",
            "Minimum function value = 2.373469471365615e-25\n",
            "No of iterations = 48\n"
          ]
        }
      ],
      "source": [
        "#check gradient descent with scaling and backtracking line search \n",
        "x_opt_bls_scaling, f_bls_scaling, iter_bls_scaling, cond_no_scaling = find_minimizer_gdscaling(my_start_x, my_tol, BACKTRACKING_LINE_SEARCH, newton, alpha_start, rho, gamma)\n",
        "print(\"Minimizer =\", x_opt_bls_scaling)\n",
        "print(\"Minimum function value =\", f_bls_scaling)\n",
        "print(\"No of iterations =\", iter_bls_scaling)"
      ]
    },
    {
      "cell_type": "code",
      "execution_count": 21,
      "metadata": {
        "id": "HE_PRgbb1oHn",
        "colab": {
          "base_uri": "https://localhost:8080/"
        },
        "outputId": "62687501-54b9-4ed3-e918-02b70503ec1a"
      },
      "outputs": [
        {
          "output_type": "stream",
          "name": "stdout",
          "text": [
            "[1.0000000000000113, 1.0000000021523583, 1.0000000000994134, 1.0000000000479177, 1.0000000001043021, 1.0000000000706881, 1.0000000001316036, 1.0000000000447469, 1.000000000098035, 1.0000000000293738, 1.0000000000838138, 1.000000000020103, 1.0000000000358997, 1.000000000052236, 1.0000000001179694, 1.0000000000393399, 1.0000000001253393, 1.0000000000258444, 1.0000000000048144, 1.0000000000195723, 1.0000000000461495, 1.0000000000068923, 1.0000000000233056, 1.0000000000820177, 1.00000000002135, 1.0000000000304863, 1.0000000000030864, 1.0000000000437244, 1.0000000000214528, 1.0000000000487104, 1.00000000000303, 1.0000000000314955, 1.0000000000252476, 1.0000000000056544, 1.0000000000095475, 1.0000000000211293, 1.0000000000044356, 1.00000000007409, 1.0000000000098246, 1.0000000000044142, 1.000000000051662, 1.0000000000522515, 1.0000000001299072, 1.000000000056727, 1.0000000001621978, 1.0000000000424125, 1.000000000090919, 1.0000000003392304]\n"
          ]
        }
      ],
      "source": [
        "print(cond_no_scaling)"
      ]
    },
    {
      "cell_type": "code",
      "execution_count": 22,
      "metadata": {
        "id": "OmYa1deJ1qUv",
        "colab": {
          "base_uri": "https://localhost:8080/",
          "height": 295
        },
        "outputId": "92ea7464-19c0-47e9-a3f4-b80eb98673d0"
      },
      "outputs": [
        {
          "output_type": "display_data",
          "data": {
            "text/plain": [
              "<Figure size 432x288 with 1 Axes>"
            ],
            "image/png": "[encoded data removed]"
          },
          "metadata": {
            "needs_background": "light"
          }
        }
      ],
      "source": [
        "#we will plot the function values and check the behavior\n",
        "plt.plot(cond_no, label = 'For backtracking without scaling')\n",
        "plt.plot(cond_no_scaling, label = \"For backtracking with scaling (Newton's method)\")\n",
        "plt.xlabel('No of iterations')\n",
        "plt.ylabel('Condition Number')\n",
        "plt.title(\"Plot of condition number vs iterations\")\n",
        "plt.legend()\n",
        "plt.show()"
      ]
    },
    {
      "cell_type": "code",
      "execution_count": 23,
      "metadata": {
        "id": "HbaJrhtk2i8P",
        "colab": {
          "base_uri": "https://localhost:8080/",
          "height": 295
        },
        "outputId": "f3b9fb33-6496-4d6e-c8a1-0f250e7ba1b5"
      },
      "outputs": [
        {
          "output_type": "display_data",
          "data": {
            "text/plain": [
              "<Figure size 432x288 with 1 Axes>"
            ],
            "image/png": "[encoded data removed]"
          },
          "metadata": {
            "needs_background": "light"
          }
        }
      ],
      "source": [
        "#we will plot the function values and check the behavior\n",
        "plt.plot(cond_no, label = 'For backtracking without scaling')\n",
        "plt.plot(cond_no_scaling, label = \"For backtracking with scaling (Newton's method)\")\n",
        "plt.xlabel('No of iterations')\n",
        "plt.ylabel('Condition Number')\n",
        "plt.xlim(0, 60)\n",
        "plt.ylim(-30,1000)\n",
        "plt.title(\"Zoomed in plot of condition number vs iterations\")\n",
        "plt.legend()\n",
        "plt.show()"
      ]
    },
    {
      "cell_type": "code",
      "execution_count": 24,
      "metadata": {
        "id": "Su6Er5tdw-SP",
        "colab": {
          "base_uri": "https://localhost:8080/",
          "height": 295
        },
        "outputId": "d412a44f-3af6-4c88-f89a-f81849303d9d"
      },
      "outputs": [
        {
          "output_type": "display_data",
          "data": {
            "text/plain": [
              "<Figure size 432x288 with 1 Axes>"
            ],
            "image/png": "[encoded data removed]"
          },
          "metadata": {
            "needs_background": "light"
          }
        }
      ],
      "source": [
        "#we will plot the function values and check the behavior\n",
        "plt.plot(cond_no, label = 'For backtracking without scaling')\n",
        "plt.plot(cond_no_scaling, label = \"For backtracking with scaling (Newton's method)\")\n",
        "plt.xlabel('No of iterations')\n",
        "plt.ylabel('Condition Number')\n",
        "plt.xlim(0, 60)\n",
        "plt.ylim(0,10)\n",
        "plt.title(\"Zoomed in plot of condition number vs iterations\")\n",
        "plt.legend()\n",
        "plt.show()"
      ]
    },
    {
      "cell_type": "markdown",
      "metadata": {
        "id": "R36EX6Wo2jYu"
      },
      "source": [
        "Answer 1) \n",
        "Assuming $\\mathbf{D}^k$ to be a diagonal matrix, we can take $\\mathbf{D}^k$ to be the diagonal approximation of the inverse of $\\nabla^2 f(\\mathbf{x})$ (Hessian of the function f(X)) which gives us:\n",
        "\n",
        "$\\begin{aligned}\n",
        "\\mathbf{D}^k = \\begin{bmatrix} \\frac{1}{f_{x_1 x_1}} & 0\\\\ 0 & \\frac{1}{f_{x_2 x_2}} \\end{bmatrix}\n",
        "\\end{aligned}\n",
        "$ where $f_{x_1 x_1} = \\frac{\\partial^2f(\\mathbf{x})}{\\partial x_1^2}$ and  $f_{x_2 x_2} = \\frac{\\partial^2f(\\mathbf{x})}{\\partial x_2^2}$\n",
        "\n",
        "Based on our given function, the matrix $\\mathbf{D}^k$ comes out to be $\\begin{bmatrix} \\frac{1}{f_{x_1 x_1}} & 0\\\\ 0 & \\frac{1}{f_{x_2 x_2}} \\end{bmatrix}$, where $f_{x_1 x_1} = (-2048x_2 + 6144 x_1^2 +2)$, and $f_{x_2 x_2} = 1024$\n",
        "\n",
        "**Gradient descent with backtracking line search without scaling**\n",
        "\n",
        "Minimizer = [ 3.99995978 15.99967823]\n",
        "\n",
        "Minimum function value = 1.6177657790688166e-09\n",
        "\n",
        "No of iterations = 902400\n",
        "\n",
        "**Gradient descent with backtracking line search with scaling (Diagonal approximation)**\n",
        "\n",
        "Minimizer = [ 4.00000993 16.0000794 ]\n",
        "\n",
        "Minimum function value = 9.850897480037126e-11\n",
        "\n",
        "No of iterations = 904703\n",
        "\n",
        "**Observations:**\n",
        "In both the cases, the minimizer is close to [0,0] and the minimum function value is close to 0. Here, gradient descent with backtracking line search with scaling (diagonal approximation) takes more number of iterations than gradient descent with backtracking line search without scaling."
      ]
    },
    {
      "cell_type": "markdown",
      "metadata": {
        "id": "mU_S4AeU2typ"
      },
      "source": [
        "Answer 3) The matrix Q whose condition number needs to be analyzed can be taken to be $\\mathbf{M}^\\top \\nabla^2f(x^k) \\mathbf{M}$ where $\\nabla^2f(x)$ is the Hessian of the function f(x) and $\\mathbf{M} = \\mathbf{(D^k)}^{\\frac{1}{2}}$. The choice of $\\mathbf{D^k}$ (the scaling matrix) is $(\\nabla^2f(\\textbf{x}^k))^{-1}$."
      ]
    },
    {
      "cell_type": "markdown",
      "metadata": {
        "id": "6pUL8EPQ2wTB"
      },
      "source": [
        "Answer 4) \n",
        "\n",
        "**Gradient descent with backtracking line search without scaling**\n",
        "\n",
        "Minimizer = [ 3.99995978 15.99967823]\n",
        "\n",
        "Minimum function value = 1.6177657790688166e-09\n",
        "\n",
        "No of iterations = 902400\n",
        "\n",
        "**Gradient descent with backtracking line search with scaling (Newton's method)**\n",
        "\n",
        "Minimizer = [ 4. 16.]\n",
        "\n",
        "Minimum function value = 2.373469471365615e-25\n",
        "\n",
        "No of iterations = 48\n",
        "\n",
        "**Observations:** \n",
        "\n",
        "In both the cases, the minimizer is close to [0,0] and the minimum function value is close to 0. Here, gradient descent with backtracking line search with scaling (Newton's method) takes very less number of iterations and gives better result than gradient descent with backtracking line search without scaling. \n",
        "\n",
        "In backtracking line search without scaling, the condition numbers tend to be very high and they generally increase with increase in number of iterations. But, in backtracking line search with scaling (Newton's method), the condition numbers come out to be very close to 1."
      ]
    }
  ],
  "metadata": {
    "colab": {
      "provenance": []
    },
    "kernelspec": {
      "display_name": "Python 3",
      "name": "python3"
    }
  },
  "nbformat": 4,
  "nbformat_minor": 0
}