{
  "nbformat": 4,
  "nbformat_minor": 0,
  "metadata": {
    "colab": {
      "provenance": []
    },
    "kernelspec": {
      "name": "python3",
      "display_name": "Python 3"
    },
    "language_info": {
      "name": "python"
    }
  },
  "cells": [
    {
      "cell_type": "markdown",
      "metadata": {
        "id": "bIfkEXOTm3gz"
      },
      "source": [
        "# **Exercise 2:**"
      ]
    },
    {
      "cell_type": "code",
      "metadata": {
        "id": "TrA0--KiXy-h"
      },
      "source": [
        "import numpy as np \n",
        "import matplotlib.pyplot as plt\n",
        "import pandas as pd\n",
        "from sklearn.datasets import load_iris\n",
        "import math"
      ],
      "execution_count": 1,
      "outputs": []
    },
    {
      "cell_type": "code",
      "source": [
        "#we will load the iris data from scikit-learn package\n",
        "iris = load_iris()"
      ],
      "metadata": {
        "id": "i5uw7seHvP84"
      },
      "execution_count": 2,
      "outputs": []
    },
    {
      "cell_type": "code",
      "source": [
        "#check the shape of iris data\n",
        "print(iris.data.shape)\n",
        "A=iris.data"
      ],
      "metadata": {
        "colab": {
          "base_uri": "https://localhost:8080/"
        },
        "id": "c81iAp2IvScY",
        "outputId": "b6ffe2fe-3bd3-4d66-817a-e20d4dea4269"
      },
      "execution_count": 3,
      "outputs": [
        {
          "output_type": "stream",
          "name": "stdout",
          "text": [
            "(150, 4)\n"
          ]
        }
      ]
    },
    {
      "cell_type": "code",
      "source": [
        "#check the shape of iris target\n",
        "print(iris.target.shape)"
      ],
      "metadata": {
        "colab": {
          "base_uri": "https://localhost:8080/"
        },
        "id": "IUohOs36vTzo",
        "outputId": "8016a0a5-f068-4e6c-92da-62c5813aedbb"
      },
      "execution_count": 4,
      "outputs": [
        {
          "output_type": "stream",
          "name": "stdout",
          "text": [
            "(150,)\n"
          ]
        }
      ]
    },
    {
      "cell_type": "code",
      "source": [
        "#How many labels does iris data have?\n",
        "#C=num of classes\n",
        "#print(C)\n",
        "\n",
        "classes = np.unique(iris.target)\n",
        "C = len(classes)\n",
        "\n",
        "print(\"Number of classes:\", C)\n",
        "print(\"Classes:\", classes)"
      ],
      "metadata": {
        "colab": {
          "base_uri": "https://localhost:8080/"
        },
        "id": "JdaPwyKbvWUD",
        "outputId": "2bf044a3-b7ec-4d15-addc-49d4c11f39be"
      },
      "execution_count": 5,
      "outputs": [
        {
          "output_type": "stream",
          "name": "stdout",
          "text": [
            "Number of classes: 3\n",
            "Classes: [0 1 2]\n"
          ]
        }
      ]
    },
    {
      "cell_type": "code",
      "source": [
        "n = iris.data.shape[0]         #Number of data points\n",
        "d = iris.data.shape[1]         #Dimension of data points"
      ],
      "metadata": {
        "id": "ZDMvRIFywUo9"
      },
      "execution_count": 6,
      "outputs": []
    },
    {
      "cell_type": "code",
      "source": [
        "#In the following code, we create a nx1 vector of target labels\n",
        "y = 1.0*np.ones([A.shape[0],1])\n",
        "\n",
        "for i in range(iris.target.shape[0]):\n",
        "  if iris.target[i] != 1:\n",
        "    y[i] = -1"
      ],
      "metadata": {
        "id": "WB7knUvbvrAr"
      },
      "execution_count": 7,
      "outputs": []
    },
    {
      "cell_type": "code",
      "source": [
        "print(y)"
      ],
      "metadata": {
        "colab": {
          "base_uri": "https://localhost:8080/"
        },
        "id": "VfcomdXW8eIy",
        "outputId": "9b24c3fd-ebfc-4186-d7ee-eeb7b6d46ee9"
      },
      "execution_count": 8,
      "outputs": [
        {
          "output_type": "stream",
          "name": "stdout",
          "text": [
            "[[-1.]\n",
            " [-1.]\n",
            " [-1.]\n",
            " [-1.]\n",
            " [-1.]\n",
            " [-1.]\n",
            " [-1.]\n",
            " [-1.]\n",
            " [-1.]\n",
            " [-1.]\n",
            " [-1.]\n",
            " [-1.]\n",
            " [-1.]\n",
            " [-1.]\n",
            " [-1.]\n",
            " [-1.]\n",
            " [-1.]\n",
            " [-1.]\n",
            " [-1.]\n",
            " [-1.]\n",
            " [-1.]\n",
            " [-1.]\n",
            " [-1.]\n",
            " [-1.]\n",
            " [-1.]\n",
            " [-1.]\n",
            " [-1.]\n",
            " [-1.]\n",
            " [-1.]\n",
            " [-1.]\n",
            " [-1.]\n",
            " [-1.]\n",
            " [-1.]\n",
            " [-1.]\n",
            " [-1.]\n",
            " [-1.]\n",
            " [-1.]\n",
            " [-1.]\n",
            " [-1.]\n",
            " [-1.]\n",
            " [-1.]\n",
            " [-1.]\n",
            " [-1.]\n",
            " [-1.]\n",
            " [-1.]\n",
            " [-1.]\n",
            " [-1.]\n",
            " [-1.]\n",
            " [-1.]\n",
            " [-1.]\n",
            " [ 1.]\n",
            " [ 1.]\n",
            " [ 1.]\n",
            " [ 1.]\n",
            " [ 1.]\n",
            " [ 1.]\n",
            " [ 1.]\n",
            " [ 1.]\n",
            " [ 1.]\n",
            " [ 1.]\n",
            " [ 1.]\n",
            " [ 1.]\n",
            " [ 1.]\n",
            " [ 1.]\n",
            " [ 1.]\n",
            " [ 1.]\n",
            " [ 1.]\n",
            " [ 1.]\n",
            " [ 1.]\n",
            " [ 1.]\n",
            " [ 1.]\n",
            " [ 1.]\n",
            " [ 1.]\n",
            " [ 1.]\n",
            " [ 1.]\n",
            " [ 1.]\n",
            " [ 1.]\n",
            " [ 1.]\n",
            " [ 1.]\n",
            " [ 1.]\n",
            " [ 1.]\n",
            " [ 1.]\n",
            " [ 1.]\n",
            " [ 1.]\n",
            " [ 1.]\n",
            " [ 1.]\n",
            " [ 1.]\n",
            " [ 1.]\n",
            " [ 1.]\n",
            " [ 1.]\n",
            " [ 1.]\n",
            " [ 1.]\n",
            " [ 1.]\n",
            " [ 1.]\n",
            " [ 1.]\n",
            " [ 1.]\n",
            " [ 1.]\n",
            " [ 1.]\n",
            " [ 1.]\n",
            " [ 1.]\n",
            " [-1.]\n",
            " [-1.]\n",
            " [-1.]\n",
            " [-1.]\n",
            " [-1.]\n",
            " [-1.]\n",
            " [-1.]\n",
            " [-1.]\n",
            " [-1.]\n",
            " [-1.]\n",
            " [-1.]\n",
            " [-1.]\n",
            " [-1.]\n",
            " [-1.]\n",
            " [-1.]\n",
            " [-1.]\n",
            " [-1.]\n",
            " [-1.]\n",
            " [-1.]\n",
            " [-1.]\n",
            " [-1.]\n",
            " [-1.]\n",
            " [-1.]\n",
            " [-1.]\n",
            " [-1.]\n",
            " [-1.]\n",
            " [-1.]\n",
            " [-1.]\n",
            " [-1.]\n",
            " [-1.]\n",
            " [-1.]\n",
            " [-1.]\n",
            " [-1.]\n",
            " [-1.]\n",
            " [-1.]\n",
            " [-1.]\n",
            " [-1.]\n",
            " [-1.]\n",
            " [-1.]\n",
            " [-1.]\n",
            " [-1.]\n",
            " [-1.]\n",
            " [-1.]\n",
            " [-1.]\n",
            " [-1.]\n",
            " [-1.]\n",
            " [-1.]\n",
            " [-1.]\n",
            " [-1.]\n",
            " [-1.]]\n"
          ]
        }
      ]
    },
    {
      "cell_type": "code",
      "source": [
        "# Create an index array\n",
        "indexarr = np.arange(n)        ## index array\n",
        "np.random.seed(1000)\n",
        "np.random.shuffle(indexarr)    ## shuffle the indices\n",
        "print(indexarr) #check indexarr after shuffling"
      ],
      "metadata": {
        "colab": {
          "base_uri": "https://localhost:8080/"
        },
        "id": "S4qIund3wCH7",
        "outputId": "7721e4be-3487-4621-9732-ac82fb8670c6"
      },
      "execution_count": 9,
      "outputs": [
        {
          "output_type": "stream",
          "name": "stdout",
          "text": [
            "[ 95  34 127 120  24  28  84  68  38 123 132  74  44   4 144  67 119  82\n",
            "  37  49  81  70 125 141  57  15  85  97  60 137  23  62 143  64  39 108\n",
            " 111  66 101 102 126 148 115  91 121 106 142 112  76   3  33   8  98 122\n",
            " 138  83 131 147  93  78  96  22 103  99 124 140  80  86   9 136  19  63\n",
            "  13  73  90  48 117  25  65  20  56 104  53  51  35  10   6  41 133  77\n",
            "   2 110  72 134  55   5  12 107  29  54 130  17  79 118  47  27  46 129\n",
            " 145  18 109 135  31   0  59 113  43 139 149 116  16   7 100  26  21  50\n",
            "  52  32  75  11  69  61  14 114  88  30  58  42  36 146 105  40  45  89\n",
            " 128   1  92  94  71  87]\n"
          ]
        }
      ]
    },
    {
      "cell_type": "code",
      "source": [
        "# Use the first 80% of indexarr to create the train data and the remaining 20% to create the test data\n",
        "split = int(0.8*len(indexarr))\n",
        "\n",
        "train_data = np.array([iris.data[i] for i in indexarr[:split]])\n",
        "train_label = np.array([y[i] for i in indexarr[:split]])\n",
        "test_data = np.array([iris.data[i] for i in indexarr[split:]])\n",
        "test_label = np.array([y[i] for i in indexarr[split:]])\n",
        "\n",
        "n1 = train_data.shape[0]"
      ],
      "metadata": {
        "id": "qErD7XLrwGLa"
      },
      "execution_count": 10,
      "outputs": []
    },
    {
      "cell_type": "code",
      "source": [
        "def predict(w, x):\n",
        "    return np.sign(np.dot(w.T, x))"
      ],
      "metadata": {
        "id": "Ds3kMLt4wX-P"
      },
      "execution_count": 11,
      "outputs": []
    },
    {
      "cell_type": "code",
      "source": [
        "def compute_accuracy(data, label, w):\n",
        "    count = 0\n",
        "    for i in range(data.shape[0]):\n",
        "        if label[i,:] == predict(w, data[i,:]):\n",
        "            count = count + 1\n",
        "    acc = count*100/data.shape[0]\n",
        "    return acc"
      ],
      "metadata": {
        "id": "UbOZeWgDwZU8"
      },
      "execution_count": 12,
      "outputs": []
    },
    {
      "cell_type": "markdown",
      "source": [
        "### Answer 1)\n",
        "\n",
        "An appropriate choice of $f_i(w)$ is:\n",
        "\\begin{align}\n",
        "f_i(w) &= \\frac{\\lambda}{2n}\\|w\\|_2^2 + \\frac{1}{n} L(y_i,w^Tx_i)\\\\\n",
        "&= \\frac{\\lambda}{2n}\\sum_{j=1}^{d}w_j^2 + \\frac{1}{n} L(y_i,w^Tx_i)\n",
        "\\end{align}\n",
        "where $d$ = number of features in the data set"
      ],
      "metadata": {
        "id": "QV--0lXAZ96H"
      }
    },
    {
      "cell_type": "markdown",
      "source": [
        "### Answer 2)"
      ],
      "metadata": {
        "id": "fXX6_IaTaNSS"
      }
    },
    {
      "cell_type": "code",
      "metadata": {
        "id": "Y0fUiTjTo87p"
      },
      "source": [
        "def compute_loss_h(w,x,y):\n",
        "    return max(0, 1 - y*np.dot(w.T,x))"
      ],
      "execution_count": 13,
      "outputs": []
    },
    {
      "cell_type": "code",
      "source": [
        "def compute_loss_l(w,x,y):\n",
        "    return math.log(1+math.exp(-y*np.dot(w.T,x)))"
      ],
      "metadata": {
        "id": "1PQ3D9WifdNA"
      },
      "execution_count": 14,
      "outputs": []
    },
    {
      "cell_type": "code",
      "source": [
        "def compute_loss_sh(w,x,y):\n",
        "    return (max(0, 1 - y*np.dot(w.T,x)))**2"
      ],
      "metadata": {
        "id": "LVExEaA1ff7t"
      },
      "execution_count": 15,
      "outputs": []
    },
    {
      "cell_type": "markdown",
      "source": [
        "Answer 3)"
      ],
      "metadata": {
        "id": "oHL5WQ9waTJJ"
      }
    },
    {
      "cell_type": "code",
      "metadata": {
        "id": "T3PoqltzpbRp"
      },
      "source": [
        "def compute_objfnval(data, label, model_w, lambda_val):\n",
        "    f_val = 0\n",
        "    term_1 = 0.5*lambda_val*((np.linalg.norm(model_w))**2)\n",
        "    n = len(label)\n",
        "    for data_pt, label in zip(data, label):\n",
        "        term_2 = compute_loss_h(model_w, data_pt, label)\n",
        "        f_val = f_val + term_2\n",
        "    \n",
        "    return term_1 + (f_val/n)"
      ],
      "execution_count": 16,
      "outputs": []
    },
    {
      "cell_type": "code",
      "source": [
        "def compute_objfnval_l(data, labels, model_w, lamda):\n",
        "    fnval = 0\n",
        "    term_1 = 0.5*lamda*((np.linalg.norm(model_w))**2)\n",
        "    n = len(labels)\n",
        "    for i in range(len(data)):\n",
        "        term_2 = compute_loss_l(model_w, data[i], labels[i])\n",
        "        fnval = fnval + term_2\n",
        "    \n",
        "    return term_1 + (fnval/n)"
      ],
      "metadata": {
        "id": "fQjQkPgES-AM"
      },
      "execution_count": 17,
      "outputs": []
    },
    {
      "cell_type": "code",
      "source": [
        "def compute_objfnval_sh(data, labels, model_w, lamda):\n",
        "    fnval = 0\n",
        "    term_1 = (0.5)*lamda*((np.linalg.norm(model_w))**2)\n",
        "    n = len(labels)\n",
        "    for i in range(len(data)): \n",
        "        term_2 = compute_loss_sh(model_w, data[i], labels[i])\n",
        "        fnval = fnval + term_2\n",
        "    \n",
        "    return term_1 + (fnval/n)"
      ],
      "metadata": {
        "id": "wBGKZTeWS-C2"
      },
      "execution_count": 18,
      "outputs": []
    },
    {
      "cell_type": "markdown",
      "source": [
        "Answer 4)"
      ],
      "metadata": {
        "id": "-YhsqylraX2q"
      }
    },
    {
      "cell_type": "markdown",
      "metadata": {
        "id": "7psTi_oVKpTY"
      },
      "source": [
        "### Gradient computation:\n",
        "- For Hinge loss: \n",
        "The $k^{th}$ component of $g_i(w)$ is given as follows:\n",
        "\\begin{align}\n",
        "\\frac{\\partial f_i(w)}{w_k} =\n",
        "\\begin{cases}\n",
        "\\frac{1}{n}(\\lambda\\ w_k -y\\ x_{ik}) &\\text{if } 1 - y\\ w^T x_i > 0 \\\\\n",
        "\\frac{\\lambda\\ w_k}{n} &\\text{if } 1 - y\\ w^T x_i <= 0      \n",
        "\\end{cases}\n",
        "\\end{align}  \n",
        "\n",
        "\n",
        "- For Logistic loss:\n",
        "The $k^{th}$ component of $g_i(w)$ is given as follows:\n",
        "\\begin{align}\n",
        "\\frac{\\partial f_i(w)}{w_k} = \\frac{\\lambda\\ w_k}{n} + \\frac{1}{1+exp(-y\\ w^T x_{ik})}exp(-y\\ w^T x_{ik})(-y\\ x_{ik})\n",
        "\\end{align}\n",
        "\n",
        "- For Squared Hinge loss:\n",
        "The $k^{th}$ component of $g_i(w)$ is given as follows:\n",
        "\\begin{align}\n",
        "\\frac{\\partial f_i(w)}{w_k} =\n",
        "\\begin{cases}\n",
        "\\frac{1}{n}[\\lambda\\ w_k -2(1-y\\ w^T x_{ik})\\ y\\ x_{ik}] &\\text{if } 1 - y\\ w^T x_i > 0 \\\\\n",
        "\\frac{\\lambda\\ w_k}{n} &\\text{if } 1 - y\\ w^T x_i <= 0      \n",
        "\\end{cases}\n",
        "\\end{align}"
      ]
    },
    {
      "cell_type": "code",
      "metadata": {
        "id": "syXXwLJ-pd8j"
      },
      "source": [
        "def compute_grad_loss_h(x,y,model_w, lamda):\n",
        "\n",
        "    grad = np.zeros([model_w.shape[0],1])\n",
        "    n = len(y)\n",
        "    for i in range(model_w.shape[0]):\n",
        "        a = 1 - (y*np.dot(model_w.T, x)) \n",
        "        if a <= 0:\n",
        "            grad[i] = (lamda*model_w[i])\n",
        "        else:\n",
        "            grad[i] = (lamda*model_w[i]) - (1/n)*y*x[i]\n",
        "    \n",
        "    return np.multiply(grad, 1)"
      ],
      "execution_count": 19,
      "outputs": []
    },
    {
      "cell_type": "code",
      "source": [
        "def compute_grad_loss_l(x,y,model_w, lamda):\n",
        "\n",
        "    grad = np.zeros([model_w.shape[0],1])\n",
        "    n = len(y)\n",
        "    for i in range(model_w.shape[0]):\n",
        "      grad[i] = (lamda*model_w[i]) + (1/n)*(math.exp(-y*np.dot(model_w.T, x)))*(1/(1+math.exp(-y*np.dot(model_w.T, x))))*y*x[i]\n",
        "    \n",
        "    return np.multiply(grad, 1)"
      ],
      "metadata": {
        "id": "ZC4R5k0EhXkr"
      },
      "execution_count": 20,
      "outputs": []
    },
    {
      "cell_type": "code",
      "source": [
        "def compute_grad_loss_sh(x,y,model_w, lamda):\n",
        "\n",
        "    grad = np.zeros([model_w.shape[0],1])\n",
        "    n = len(y)\n",
        "    for i in range(model_w.shape[0]):\n",
        "        a = 1 - int(y*np.dot(model_w.T, x)) \n",
        "        if a <= 0:\n",
        "            grad[i] = (lamda*model_w[i])\n",
        "        else:\n",
        "            grad[i] = (lamda*model_w[i]) - (2/n)*(1-y*np.dot(model_w.T, x))*y*x[i]\n",
        "    \n",
        "    return np.multiply(grad, 1)"
      ],
      "metadata": {
        "id": "a9TM31h3hZbC"
      },
      "execution_count": 21,
      "outputs": []
    },
    {
      "cell_type": "markdown",
      "source": [
        "Answer 5)"
      ],
      "metadata": {
        "id": "0nSt6tXqadb0"
      }
    },
    {
      "cell_type": "code",
      "metadata": {
        "id": "4CuHwYyHpeHA"
      },
      "source": [
        "def OPT1(data,labels,lamda, num_epochs):\n",
        "    t = 1\n",
        "    np.random.seed(1000)\n",
        "    w_old = np.random.rand(data.shape[1],1)\n",
        "    func_val_l = []\n",
        "    accuracy_test=[]\n",
        "    accuracy_train=[]\n",
        "    weights = []\n",
        "    array = np.arange(data.shape[0])\n",
        "    for epoch in range(num_epochs):\n",
        "      np.random.seed(1000)\n",
        "      np.random.shuffle(array) \n",
        "      for i in np.nditer(array): \n",
        "        step = 1/t\n",
        "        g_i = compute_grad_loss_h(data[i,:], labels[i,:], w_old, lamda)\n",
        "        w_new = np.subtract(w_old, np.multiply(step, g_i))\n",
        "        w_old=w_new\n",
        "        t = t+1\n",
        "        if t>1e4:\n",
        "          t=1\n",
        "      \n",
        "      func_val_l.append(compute_objfnval(data, labels, w_new, lamda))\n",
        "      accuracy_train.append(compute_accuracy(data, labels, w_new))\n",
        "      accuracy_test.append(compute_accuracy(test_data, test_label, w_new))\n",
        "      weights.append(w_new)\n",
        "    return w_new, func_val_l, accuracy_train,accuracy_test"
      ],
      "execution_count": 22,
      "outputs": []
    },
    {
      "cell_type": "markdown",
      "source": [
        "### Answer 6a)"
      ],
      "metadata": {
        "id": "Gl2XwSAmaiqe"
      }
    },
    {
      "cell_type": "code",
      "source": [
        "lam=[1e-3,1e-2,1e-1,1,10]\n",
        "num_epochs = 1000\n",
        "w_opt = {}\n",
        "func_val_epochs=[]\n",
        "accuracy_test_epochs=[]\n",
        "accuracy_train_epochs=[]\n",
        "\n",
        "for i in range(len(lam)):\n",
        "  w_opt, func_val_1, accuracy_train,accuracy_test = OPT1(train_data, train_label, lam[i], num_epochs)\n",
        "  func_val_epochs.append(func_val_1)\n",
        "  accuracy_test_epochs.append(accuracy_test)\n",
        "  accuracy_train_epochs.append(accuracy_train)\n",
        "  print(\"Lambda:\", lam[i])\n",
        "  print('Test Accuracy:',compute_accuracy(test_data, test_label, w_opt))\n",
        "  print('Train Accuracy:',compute_accuracy(train_data, train_label, w_opt))\n",
        "  print('\\n')"
      ],
      "metadata": {
        "colab": {
          "base_uri": "https://localhost:8080/"
        },
        "id": "XDVoPjJFU8IH",
        "outputId": "72bff032-6319-4054-c9c6-9e1b90227a24"
      },
      "execution_count": 23,
      "outputs": [
        {
          "output_type": "stream",
          "name": "stdout",
          "text": [
            "Lambda: 0.001\n",
            "Test Accuracy: 76.66666666666667\n",
            "Train Accuracy: 71.66666666666667\n",
            "\n",
            "\n",
            "Lambda: 0.01\n",
            "Test Accuracy: 63.333333333333336\n",
            "Train Accuracy: 66.66666666666667\n",
            "\n",
            "\n",
            "Lambda: 0.1\n",
            "Test Accuracy: 60.0\n",
            "Train Accuracy: 68.33333333333333\n",
            "\n",
            "\n",
            "Lambda: 1\n",
            "Test Accuracy: 60.0\n",
            "Train Accuracy: 68.33333333333333\n",
            "\n",
            "\n",
            "Lambda: 10\n",
            "Test Accuracy: 60.0\n",
            "Train Accuracy: 68.33333333333333\n",
            "\n",
            "\n"
          ]
        }
      ]
    },
    {
      "cell_type": "code",
      "source": [
        "for i in range(len(lam)):\n",
        "  plt.plot(func_val_epochs[i])\n",
        "  plt.legend([1e-3,1e-2,1e-1,1,10], title = \"Values of lambda\")\n",
        "plt.xlabel('Epochs')\n",
        "plt.ylabel('Objective function value')\n",
        "plt.title(\"Plot of Objective function value for every epoch\")\n",
        "plt.show()"
      ],
      "metadata": {
        "id": "GYpsBkeKU8Mm",
        "colab": {
          "base_uri": "https://localhost:8080/",
          "height": 472
        },
        "outputId": "4741479d-9759-4a8c-eea3-814096ef1736"
      },
      "execution_count": 24,
      "outputs": [
        {
          "output_type": "display_data",
          "data": {
            "text/plain": [
              "<Figure size 640x480 with 1 Axes>"
            ],
            "image/png": "[encoded data removed]"
          },
          "metadata": {}
        }
      ]
    },
    {
      "cell_type": "markdown",
      "source": [
        "### Answer 6b)"
      ],
      "metadata": {
        "id": "8e7Q8TXfh-P_"
      }
    },
    {
      "cell_type": "code",
      "source": [
        "for i in range(len(lam)):\n",
        "  plt.plot(accuracy_test_epochs[i])\n",
        "  plt.legend([1e-3,1e-2,1e-1,1,10], title = \"Values of lambda\")\n",
        "plt.xlabel('Epochs')\n",
        "plt.ylabel('Test Accuracy')\n",
        "plt.title(\"Plot of Test accuracies for every epoch\")\n",
        "plt.show()"
      ],
      "metadata": {
        "id": "gcPPmMJKW27k",
        "colab": {
          "base_uri": "https://localhost:8080/",
          "height": 472
        },
        "outputId": "dbaace47-4d63-4655-aac7-7e366e21e285"
      },
      "execution_count": 25,
      "outputs": [
        {
          "output_type": "display_data",
          "data": {
            "text/plain": [
              "<Figure size 640x480 with 1 Axes>"
            ],
            "image/png": "[encoded data removed]"
          },
          "metadata": {}
        }
      ]
    },
    {
      "cell_type": "markdown",
      "source": [
        "### Answer 6c)"
      ],
      "metadata": {
        "id": "F6P2ufUviAhI"
      }
    },
    {
      "cell_type": "code",
      "source": [
        "for i in range(len(lam)):\n",
        "  plt.plot(accuracy_train_epochs[i])\n",
        "  plt.legend([1e-3,1e-2,1e-1,1,10], title = \"Values of lambda\")\n",
        "plt.xlabel('Epochs')\n",
        "plt.ylabel('Train Accuracy')\n",
        "plt.title(\"Plot of Train accuracies for every epoch\")\n",
        "plt.show()"
      ],
      "metadata": {
        "id": "McDbifhgU8O3",
        "colab": {
          "base_uri": "https://localhost:8080/",
          "height": 472
        },
        "outputId": "7da309ba-7845-45dd-fc11-db33e87b78b8"
      },
      "execution_count": 26,
      "outputs": [
        {
          "output_type": "display_data",
          "data": {
            "text/plain": [
              "<Figure size 640x480 with 1 Axes>"
            ],
            "image/png": "[encoded data removed]"
          },
          "metadata": {}
        }
      ]
    },
    {
      "cell_type": "markdown",
      "source": [
        "### Answer 6d)"
      ],
      "metadata": {
        "id": "YQXjh5fKiDyB"
      }
    },
    {
      "cell_type": "markdown",
      "source": [
        "\\\\\n",
        "\\begin{array}{|c|c|c|c|}\\hline\\\\\n",
        "\\ \\textbf{Lambda Values} &  \\textbf{Final Test Accuracy}&\\textbf{Final Train Accuracy} \\\\ \\hline\\\\\n",
        "0.001 & 76.66 & 71.66\\\\ \\hline\n",
        "0.01 & 63.33 & 66.66 \\\\ \\hline\n",
        "0.1 & 60.00 & 68.33 \\\\ \\hline\n",
        "1 & 60.00 & 68.33 \\\\ \\hline\n",
        "10 & 60.00 & 68.33\\\\ \\hline\n",
        "\\end{array}\n",
        "\n",
        " \\\\"
      ],
      "metadata": {
        "id": "YKTF9lJ7nhv9"
      }
    },
    {
      "cell_type": "markdown",
      "source": [
        "Answer 6e) \n",
        "\n",
        "Observations: As lambda value increases, final test accuracy decreases then remains same from lambda = 0.1 but final train accuracy decreases from lambda = 0.001 to 0.01 and then increases from lambda = 0.001 to 0.01 and then it remains same."
      ],
      "metadata": {
        "id": "VYw5i-V3pEGF"
      }
    },
    {
      "cell_type": "markdown",
      "source": [
        "### Answer 7)"
      ],
      "metadata": {
        "id": "Qa6rsNX-iG2p"
      }
    },
    {
      "cell_type": "markdown",
      "source": [
        "We propose the norm of difference of $w_{k}$ and $w_{k-1}$ for every iteration $k$ as the stopping criterion, i.e. we stop at iteration $k$ if $\\|w_{k}- w_{k-1} < \\epsilon\\|$ for some $\\epsilon$. We choose $\\epsilon = 10^{-5}$ in our algorithm. "
      ],
      "metadata": {
        "id": "dm9PMaSzwd4-"
      }
    },
    {
      "cell_type": "code",
      "source": [
        "def OPT1_STOP(data,labels,lamda,num_epochs):\n",
        "    t = 1\n",
        "    np.random.seed(1000)\n",
        "    w_old = np.random.randn(data.shape[1],1)\n",
        "    func_val_h = []\n",
        "    accuracy_test=[]\n",
        "    accuracy_train=[]\n",
        "    weights = []\n",
        "    array = np.arange(data.shape[0])\n",
        "    step = 1/t\n",
        "    g_i = compute_grad_loss_h(data[0,:], labels[0,:], w_old, lamda)\n",
        "    w_new = np.subtract(w_old, np.multiply(step, g_i))\n",
        "    while np.linalg.norm(w_new-w_old)>10**(-5):\n",
        "      np.random.seed(1000)\n",
        "      np.random.shuffle(array) \n",
        "      for i in np.nditer(array): \n",
        "        step = 1/t\n",
        "        g_i = compute_grad_loss_h(data[i,:], labels[i,:], w_old, lamda)\n",
        "        w_new = np.subtract(w_old, np.multiply(step, g_i))\n",
        "        w_old=w_new\n",
        "        t = t+1\n",
        "        if t>1e4:\n",
        "          t=1\n",
        "      \n",
        "      func_val_h.append(compute_objfnval(data, labels, w_new, lamda))\n",
        "      accuracy_train.append(compute_accuracy(data, labels, w_new))\n",
        "      accuracy_test.append(compute_accuracy(test_data, test_label, w_new))\n",
        "      weights.append(w_new)\n",
        "    return w_new, func_val_h, accuracy_train,accuracy_test"
      ],
      "metadata": {
        "id": "dNUmWc4IvdgS"
      },
      "execution_count": 27,
      "outputs": []
    },
    {
      "cell_type": "markdown",
      "source": [
        "One value of lambda which gave best test accuracy are 0.001."
      ],
      "metadata": {
        "id": "P0DDX99qsPtn"
      }
    },
    {
      "cell_type": "code",
      "source": [
        "lamb=0.001\n",
        "num_epochs = 1000\n",
        "w_opt = {}\n",
        "w_opt_h, func_val_h, accuracy_train,accuracy_test = OPT1_STOP(train_data, train_label, lamb, num_epochs)\n",
        "print('Test Accuracy:',compute_accuracy(test_data, test_label, w_opt_h))\n",
        "print('Train Accuracy:',compute_accuracy(train_data, train_label, w_opt_h))"
      ],
      "metadata": {
        "colab": {
          "base_uri": "https://localhost:8080/"
        },
        "id": "2bMHKDNSQ2ms",
        "outputId": "1cd65012-9f97-4aee-a15b-07d59a18983e"
      },
      "execution_count": 28,
      "outputs": [
        {
          "output_type": "stream",
          "name": "stdout",
          "text": [
            "Test Accuracy: 50.0\n",
            "Train Accuracy: 51.666666666666664\n"
          ]
        }
      ]
    },
    {
      "cell_type": "markdown",
      "source": [
        "### Answer 8)"
      ],
      "metadata": {
        "id": "1cb4HJabidIX"
      }
    },
    {
      "cell_type": "code",
      "source": [
        "def OPT2_STOP(data,labels,lamda, num_epochs):\n",
        "    t = 1\n",
        "    np.random.seed(1000)\n",
        "    w_old = np.random.randn(data.shape[1],1)\n",
        "    func_val_l = []\n",
        "    accuracy_test=[]\n",
        "    accuracy_train=[]\n",
        "    weights = []\n",
        "    array = np.arange(data.shape[0])\n",
        "    step = 1/t\n",
        "    g_i = compute_grad_loss_l(data[0,:], labels[0,:], w_old, lamda)\n",
        "    w_new = np.subtract(w_old, np.multiply(step, g_i))\n",
        "    while np.linalg.norm(w_new-w_old)>10**(-5):\n",
        "      np.random.seed(1000)\n",
        "      np.random.shuffle(array) \n",
        "      for i in np.nditer(array): \n",
        "        step = 1/t\n",
        "        g_i = compute_grad_loss_l(data[i,:], labels[i,:], w_old, lamda)\n",
        "        w_new = np.subtract(w_old, np.multiply(step, g_i))\n",
        "        w_old=w_new\n",
        "        t = t+1\n",
        "        if t>1e4:\n",
        "          t=1\n",
        "      \n",
        "      func_val_1.append(compute_objfnval_l(data, labels, w_new, lamda))\n",
        "      accuracy_train.append(compute_accuracy(data, labels, w_new))\n",
        "      accuracy_test.append(compute_accuracy(test_data, test_label, w_new))\n",
        "      weights.append(w_new)\n",
        "    return w_new, func_val_l, accuracy_train,accuracy_test"
      ],
      "metadata": {
        "id": "XFXS2f0E5g2S"
      },
      "execution_count": 29,
      "outputs": []
    },
    {
      "cell_type": "code",
      "source": [
        "lam=[1e-3,1e-2,1e-1,1,10]\n",
        "num_epochs = 1000\n",
        "w_opt = {}\n",
        "func_val_epochs=[]\n",
        "accuracy_test_epochs=[]\n",
        "accuracy_train_epochs=[]\n",
        "\n",
        "\n",
        "\n",
        "for i in range(len(lam)):\n",
        "  w_opt_l, func_val_l, accuracy_train, accuracy_test = OPT2_STOP(train_data, train_label, lam[i], num_epochs)\n",
        "  func_val_epochs.append(func_val_l)\n",
        "  accuracy_test_epochs.append(accuracy_test)\n",
        "  accuracy_train_epochs.append(accuracy_train)\n",
        "  print(\"Lambda:\", lam[i])\n",
        "  print('Test Accuracy:',compute_accuracy(test_data, test_label, w_opt_l))\n",
        "  print('Train Accuracy:',compute_accuracy(train_data, train_label, w_opt_l))\n",
        "  print('\\n')"
      ],
      "metadata": {
        "colab": {
          "base_uri": "https://localhost:8080/"
        },
        "id": "-0QaJKgjjG-Y",
        "outputId": "8fcd55b9-7b6d-4b3c-f7bc-0e10c6a2f7b0"
      },
      "execution_count": 30,
      "outputs": [
        {
          "output_type": "stream",
          "name": "stdout",
          "text": [
            "Lambda: 0.001\n",
            "Test Accuracy: 40.0\n",
            "Train Accuracy: 31.666666666666668\n",
            "\n",
            "\n",
            "Lambda: 0.01\n",
            "Test Accuracy: 40.0\n",
            "Train Accuracy: 31.666666666666668\n",
            "\n",
            "\n",
            "Lambda: 0.1\n",
            "Test Accuracy: 40.0\n",
            "Train Accuracy: 31.666666666666668\n",
            "\n",
            "\n",
            "Lambda: 1\n",
            "Test Accuracy: 40.0\n",
            "Train Accuracy: 31.666666666666668\n",
            "\n",
            "\n",
            "Lambda: 10\n",
            "Test Accuracy: 40.0\n",
            "Train Accuracy: 31.666666666666668\n",
            "\n",
            "\n"
          ]
        }
      ]
    },
    {
      "cell_type": "code",
      "source": [
        "def OPT3_STOP(data,labels,lamda, num_epochs):\n",
        "    t = 1\n",
        "    np.random.seed(1000)\n",
        "    w_old = np.random.randn(data.shape[1],1)\n",
        "    func_val_sh = []\n",
        "    accuracy_test=[]\n",
        "    accuracy_train=[]\n",
        "    weights = []\n",
        "    array = np.arange(data.shape[0])\n",
        "    step = 1/t\n",
        "    g_i = compute_grad_loss_sh(data[0,:], labels[0,:], w_old, lamda)\n",
        "    w_new = np.subtract(w_old, np.multiply(step, g_i))\n",
        "    while np.linalg.norm(w_new-w_old)>10**(-5):\n",
        "      np.random.seed(1000)\n",
        "      np.random.shuffle(array) \n",
        "      for i in np.nditer(array): \n",
        "        step = 1/t\n",
        "        g_i = compute_grad_loss_sh(data[i,:], labels[i,:], w_old, lamda)\n",
        "        w_new = np.subtract(w_old, np.multiply(step, g_i))\n",
        "        w_old=w_new\n",
        "        t = t+1\n",
        "        if t>1e4:\n",
        "          t=1\n",
        "      \n",
        "      func_val_sh.append(compute_objfnval_sh(data, labels, w_new, lamda))\n",
        "      accuracy_train.append(compute_accuracy(data, labels, w_new))\n",
        "      accuracy_test.append(compute_accuracy(test_data, test_label, w_new))\n",
        "      weights.append(w_new)\n",
        "    return w_new, func_val_sh, accuracy_train,accuracy_test"
      ],
      "metadata": {
        "id": "bg-o-ESS5h4p"
      },
      "execution_count": 31,
      "outputs": []
    },
    {
      "cell_type": "code",
      "source": [
        "lam=[1e-3,1e-2,1e-1,1,10]\n",
        "num_epochs = 1000\n",
        "w_opt = {}\n",
        "func_val_epochs=[]\n",
        "accuracy_test_epochs=[]\n",
        "accuracy_train_epochs=[]\n",
        "\n",
        "\n",
        "\n",
        "for i in range(len(lam)):\n",
        "  w_opt_sh, func_val_sh, accuracy_train, accuracy_test = OPT3_STOP(train_data, train_label, lam[i], num_epochs)\n",
        "  func_val_epochs.append(func_val_sh)\n",
        "  accuracy_test_epochs.append(accuracy_test)\n",
        "  accuracy_train_epochs.append(accuracy_train)\n",
        "  print(\"Lambda:\", lam[i])\n",
        "  print('Test Accuracy:',compute_accuracy(test_data, test_label, w_opt_sh))\n",
        "  print('Train Accuracy:',compute_accuracy(train_data, train_label, w_opt_sh))\n",
        "  print('\\n')"
      ],
      "metadata": {
        "colab": {
          "base_uri": "https://localhost:8080/"
        },
        "id": "29MIujSfjbr1",
        "outputId": "3bad91f2-f3cf-4d27-af9d-a7c31849aad4"
      },
      "execution_count": 32,
      "outputs": [
        {
          "output_type": "stream",
          "name": "stdout",
          "text": [
            "Lambda: 0.001\n",
            "Test Accuracy: 50.0\n",
            "Train Accuracy: 45.0\n",
            "\n",
            "\n",
            "Lambda: 0.01\n",
            "Test Accuracy: 50.0\n",
            "Train Accuracy: 45.0\n",
            "\n",
            "\n",
            "Lambda: 0.1\n",
            "Test Accuracy: 50.0\n",
            "Train Accuracy: 45.0\n",
            "\n",
            "\n",
            "Lambda: 1\n",
            "Test Accuracy: 50.0\n",
            "Train Accuracy: 44.166666666666664\n",
            "\n",
            "\n",
            "Lambda: 10\n",
            "Test Accuracy: 66.66666666666667\n",
            "Train Accuracy: 49.166666666666664\n",
            "\n",
            "\n"
          ]
        }
      ]
    },
    {
      "cell_type": "markdown",
      "metadata": {
        "id": "oWG0wcaeFLyE"
      },
      "source": [
        "###Observations: \n",
        "\n",
        "- Regarding test accuracies:\n",
        "> - Squared hinge loss has higher test accuracy than logistic loss for all values of lambda.\n",
        "- Regarding train accuracies:\n",
        "> - Squared hinge loss has higher train accuracy than logistic loss for all values of lambda."
      ]
    }
  ]
}